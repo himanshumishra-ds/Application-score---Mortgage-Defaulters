{
 "cells": [
  {
   "cell_type": "markdown",
   "metadata": {},
   "source": [
    "# Objective:\n",
    "1. Defination: we would like to identify/predict who is going to become the defaulter\n",
    "2. defaulter: the person who did not pay the bill for contionously 6 months those are defaulters\n",
    "3. data should have both acquistion file and performance file\n",
    "4. curate the dat(Data sanity check), explore the data, treat the data\n",
    "5. varaible creation,varaiable reduction \n",
    "6. model building and model validation\n",
    "7. providing the recommendations\n",
    "8. Model deployment"
   ]
  },
  {
   "cell_type": "code",
   "execution_count": 1,
   "metadata": {},
   "outputs": [],
   "source": [
    "import numpy as np\n",
    "import pandas as pd\n",
    "import matplotlib.pyplot as plt\n",
    "import seaborn as sns\n",
    "from sklearn.model_selection import train_test_split\n",
    "from sklearn.metrics import accuracy_score\n",
    "from sklearn.cluster import KMeans"
   ]
  },
  {
   "cell_type": "code",
   "execution_count": 2,
   "metadata": {},
   "outputs": [],
   "source": [
    "col_acq = ['LoanID','Channel','SellerName','OrInterestRate','OrUnpaidPrinc','OrLoanTerm',\n",
    "         'OrDate','FirstPayment','OrLTV','OrCLTV','NumBorrow','DTIRat','CreditScore',\n",
    "        'FTHomeBuyer','LoanPurpose','PropertyType','NumUnits','OccStatus','PropertyState',\n",
    "        'Zip','MortInsPerc','ProductType','CoCreditScore','MortInsType','RelMortInd']\n",
    "\n",
    "col_per = ['LoanID','ReportingDate','Servicer','CurrInterestRate','CAUPB','LoanAge','MonthsToMaturity',\n",
    "          'AdMonthsToMaturity','MaturityDate','MSA','CurDelStatus','ModFlag','ZeroBalCode','ZeroBalEffDate',\n",
    "          'LastInstallDate','ForeclosureDate','DispositionDate','ForeclosureCost','RepairCost','AssetRecCost','MiscCostsPF',\n",
    "           'ATFHP','NetSaleProceeds','CreditEnhProceeds','RPMWP','OtherForePro','NonInterestUPB','PricipleForgiven','RMWPF',\n",
    "          'FPWA','ServicingIndicator']"
   ]
  },
  {
   "cell_type": "code",
   "execution_count": 3,
   "metadata": {},
   "outputs": [],
   "source": [
    "acq07Q4=pd.read_csv(\"C:\\\\Users\\\\Himanshu_Mishra\\\\Acquisition_2007Q4.txt\",sep=\"|\",names=col_acq)\n",
    "\n",
    "per07Q4=pd.read_csv(\"C:\\\\Users\\\\Himanshu_Mishra\\\\Performance_2007Q4.txt\",sep=\"|\",names=col_per, usecols=[0,1, 15])\n"
   ]
  },
  {
   "cell_type": "code",
   "execution_count": 4,
   "metadata": {},
   "outputs": [
    {
     "name": "stdout",
     "output_type": "stream",
     "text": [
      "dimensions of acqistion data (391209, 25)\n",
      "dimensions of performance data (20864257, 3)\n"
     ]
    }
   ],
   "source": [
    "print(\"dimensions of acqistion data\",acq07Q4.shape)\n",
    "print(\"dimensions of performance data\",per07Q4.shape)"
   ]
  },
  {
   "cell_type": "code",
   "execution_count": 5,
   "metadata": {},
   "outputs": [
    {
     "data": {
      "text/html": [
       "<div>\n",
       "<style scoped>\n",
       "    .dataframe tbody tr th:only-of-type {\n",
       "        vertical-align: middle;\n",
       "    }\n",
       "\n",
       "    .dataframe tbody tr th {\n",
       "        vertical-align: top;\n",
       "    }\n",
       "\n",
       "    .dataframe thead th {\n",
       "        text-align: right;\n",
       "    }\n",
       "</style>\n",
       "<table border=\"1\" class=\"dataframe\">\n",
       "  <thead>\n",
       "    <tr style=\"text-align: right;\">\n",
       "      <th></th>\n",
       "      <th>LoanID</th>\n",
       "      <th>ReportingDate</th>\n",
       "      <th>ForeclosureDate</th>\n",
       "    </tr>\n",
       "  </thead>\n",
       "  <tbody>\n",
       "    <tr>\n",
       "      <th>0</th>\n",
       "      <td>100002296854</td>\n",
       "      <td>11/01/2007</td>\n",
       "      <td>NaN</td>\n",
       "    </tr>\n",
       "    <tr>\n",
       "      <th>1</th>\n",
       "      <td>100002296854</td>\n",
       "      <td>12/01/2007</td>\n",
       "      <td>NaN</td>\n",
       "    </tr>\n",
       "    <tr>\n",
       "      <th>2</th>\n",
       "      <td>100002296854</td>\n",
       "      <td>01/01/2008</td>\n",
       "      <td>NaN</td>\n",
       "    </tr>\n",
       "    <tr>\n",
       "      <th>3</th>\n",
       "      <td>100002296854</td>\n",
       "      <td>02/01/2008</td>\n",
       "      <td>NaN</td>\n",
       "    </tr>\n",
       "    <tr>\n",
       "      <th>4</th>\n",
       "      <td>100002296854</td>\n",
       "      <td>03/01/2008</td>\n",
       "      <td>NaN</td>\n",
       "    </tr>\n",
       "  </tbody>\n",
       "</table>\n",
       "</div>"
      ],
      "text/plain": [
       "         LoanID ReportingDate ForeclosureDate\n",
       "0  100002296854    11/01/2007             NaN\n",
       "1  100002296854    12/01/2007             NaN\n",
       "2  100002296854    01/01/2008             NaN\n",
       "3  100002296854    02/01/2008             NaN\n",
       "4  100002296854    03/01/2008             NaN"
      ]
     },
     "execution_count": 5,
     "metadata": {},
     "output_type": "execute_result"
    }
   ],
   "source": [
    "per07Q4.head()"
   ]
  },
  {
   "cell_type": "code",
   "execution_count": 6,
   "metadata": {},
   "outputs": [
    {
     "data": {
      "text/plain": [
       "LoanID              int64\n",
       "ReportingDate      object\n",
       "ForeclosureDate    object\n",
       "dtype: object"
      ]
     },
     "execution_count": 6,
     "metadata": {},
     "output_type": "execute_result"
    }
   ],
   "source": [
    "per07Q4.dtypes"
   ]
  },
  {
   "cell_type": "code",
   "execution_count": 7,
   "metadata": {},
   "outputs": [
    {
     "data": {
      "text/html": [
       "<div>\n",
       "<style scoped>\n",
       "    .dataframe tbody tr th:only-of-type {\n",
       "        vertical-align: middle;\n",
       "    }\n",
       "\n",
       "    .dataframe tbody tr th {\n",
       "        vertical-align: top;\n",
       "    }\n",
       "\n",
       "    .dataframe thead th {\n",
       "        text-align: right;\n",
       "    }\n",
       "</style>\n",
       "<table border=\"1\" class=\"dataframe\">\n",
       "  <thead>\n",
       "    <tr style=\"text-align: right;\">\n",
       "      <th></th>\n",
       "      <th>LoanID</th>\n",
       "      <th>ReportingDate</th>\n",
       "      <th>ForeclosureDate</th>\n",
       "    </tr>\n",
       "  </thead>\n",
       "  <tbody>\n",
       "    <tr>\n",
       "      <th>0</th>\n",
       "      <td>100002296854</td>\n",
       "      <td>11/01/2007</td>\n",
       "      <td>NaN</td>\n",
       "    </tr>\n",
       "    <tr>\n",
       "      <th>1</th>\n",
       "      <td>100002296854</td>\n",
       "      <td>12/01/2007</td>\n",
       "      <td>NaN</td>\n",
       "    </tr>\n",
       "    <tr>\n",
       "      <th>2</th>\n",
       "      <td>100002296854</td>\n",
       "      <td>01/01/2008</td>\n",
       "      <td>NaN</td>\n",
       "    </tr>\n",
       "    <tr>\n",
       "      <th>3</th>\n",
       "      <td>100002296854</td>\n",
       "      <td>02/01/2008</td>\n",
       "      <td>NaN</td>\n",
       "    </tr>\n",
       "    <tr>\n",
       "      <th>4</th>\n",
       "      <td>100002296854</td>\n",
       "      <td>03/01/2008</td>\n",
       "      <td>NaN</td>\n",
       "    </tr>\n",
       "    <tr>\n",
       "      <th>5</th>\n",
       "      <td>100002296854</td>\n",
       "      <td>04/01/2008</td>\n",
       "      <td>NaN</td>\n",
       "    </tr>\n",
       "    <tr>\n",
       "      <th>6</th>\n",
       "      <td>100002296854</td>\n",
       "      <td>05/01/2008</td>\n",
       "      <td>NaN</td>\n",
       "    </tr>\n",
       "    <tr>\n",
       "      <th>7</th>\n",
       "      <td>100002296854</td>\n",
       "      <td>06/01/2008</td>\n",
       "      <td>NaN</td>\n",
       "    </tr>\n",
       "    <tr>\n",
       "      <th>8</th>\n",
       "      <td>100002296854</td>\n",
       "      <td>07/01/2008</td>\n",
       "      <td>NaN</td>\n",
       "    </tr>\n",
       "    <tr>\n",
       "      <th>9</th>\n",
       "      <td>100002296854</td>\n",
       "      <td>08/01/2008</td>\n",
       "      <td>NaN</td>\n",
       "    </tr>\n",
       "    <tr>\n",
       "      <th>10</th>\n",
       "      <td>100002296854</td>\n",
       "      <td>09/01/2008</td>\n",
       "      <td>NaN</td>\n",
       "    </tr>\n",
       "    <tr>\n",
       "      <th>11</th>\n",
       "      <td>100002296854</td>\n",
       "      <td>10/01/2008</td>\n",
       "      <td>NaN</td>\n",
       "    </tr>\n",
       "    <tr>\n",
       "      <th>12</th>\n",
       "      <td>100002296854</td>\n",
       "      <td>11/01/2008</td>\n",
       "      <td>NaN</td>\n",
       "    </tr>\n",
       "    <tr>\n",
       "      <th>13</th>\n",
       "      <td>100002296854</td>\n",
       "      <td>12/01/2008</td>\n",
       "      <td>NaN</td>\n",
       "    </tr>\n",
       "    <tr>\n",
       "      <th>14</th>\n",
       "      <td>100002296854</td>\n",
       "      <td>01/01/2009</td>\n",
       "      <td>NaN</td>\n",
       "    </tr>\n",
       "  </tbody>\n",
       "</table>\n",
       "</div>"
      ],
      "text/plain": [
       "          LoanID ReportingDate ForeclosureDate\n",
       "0   100002296854    11/01/2007             NaN\n",
       "1   100002296854    12/01/2007             NaN\n",
       "2   100002296854    01/01/2008             NaN\n",
       "3   100002296854    02/01/2008             NaN\n",
       "4   100002296854    03/01/2008             NaN\n",
       "5   100002296854    04/01/2008             NaN\n",
       "6   100002296854    05/01/2008             NaN\n",
       "7   100002296854    06/01/2008             NaN\n",
       "8   100002296854    07/01/2008             NaN\n",
       "9   100002296854    08/01/2008             NaN\n",
       "10  100002296854    09/01/2008             NaN\n",
       "11  100002296854    10/01/2008             NaN\n",
       "12  100002296854    11/01/2008             NaN\n",
       "13  100002296854    12/01/2008             NaN\n",
       "14  100002296854    01/01/2009             NaN"
      ]
     },
     "execution_count": 7,
     "metadata": {},
     "output_type": "execute_result"
    }
   ],
   "source": [
    "per07Q4[per07Q4[\"LoanID\"]==100002296854]"
   ]
  },
  {
   "cell_type": "code",
   "execution_count": 8,
   "metadata": {},
   "outputs": [
    {
     "data": {
      "text/html": [
       "<div>\n",
       "<style scoped>\n",
       "    .dataframe tbody tr th:only-of-type {\n",
       "        vertical-align: middle;\n",
       "    }\n",
       "\n",
       "    .dataframe tbody tr th {\n",
       "        vertical-align: top;\n",
       "    }\n",
       "\n",
       "    .dataframe thead th {\n",
       "        text-align: right;\n",
       "    }\n",
       "</style>\n",
       "<table border=\"1\" class=\"dataframe\">\n",
       "  <thead>\n",
       "    <tr style=\"text-align: right;\">\n",
       "      <th></th>\n",
       "      <th>LoanID</th>\n",
       "      <th>ReportingDate</th>\n",
       "      <th>ForeclosureDate</th>\n",
       "    </tr>\n",
       "  </thead>\n",
       "  <tbody>\n",
       "    <tr>\n",
       "      <th>20864252</th>\n",
       "      <td>999999565669</td>\n",
       "      <td>01/01/2015</td>\n",
       "      <td>NaN</td>\n",
       "    </tr>\n",
       "    <tr>\n",
       "      <th>20864253</th>\n",
       "      <td>999999565669</td>\n",
       "      <td>02/01/2015</td>\n",
       "      <td>NaN</td>\n",
       "    </tr>\n",
       "    <tr>\n",
       "      <th>20864254</th>\n",
       "      <td>999999565669</td>\n",
       "      <td>03/01/2015</td>\n",
       "      <td>NaN</td>\n",
       "    </tr>\n",
       "    <tr>\n",
       "      <th>20864255</th>\n",
       "      <td>999999565669</td>\n",
       "      <td>04/01/2015</td>\n",
       "      <td>NaN</td>\n",
       "    </tr>\n",
       "    <tr>\n",
       "      <th>20864256</th>\n",
       "      <td>999999565669</td>\n",
       "      <td>05/01/2015</td>\n",
       "      <td>NaN</td>\n",
       "    </tr>\n",
       "  </tbody>\n",
       "</table>\n",
       "</div>"
      ],
      "text/plain": [
       "                LoanID ReportingDate ForeclosureDate\n",
       "20864252  999999565669    01/01/2015             NaN\n",
       "20864253  999999565669    02/01/2015             NaN\n",
       "20864254  999999565669    03/01/2015             NaN\n",
       "20864255  999999565669    04/01/2015             NaN\n",
       "20864256  999999565669    05/01/2015             NaN"
      ]
     },
     "execution_count": 8,
     "metadata": {},
     "output_type": "execute_result"
    }
   ],
   "source": [
    "per07Q4.tail()"
   ]
  },
  {
   "cell_type": "code",
   "execution_count": 9,
   "metadata": {},
   "outputs": [
    {
     "data": {
      "text/html": [
       "<div>\n",
       "<style scoped>\n",
       "    .dataframe tbody tr th:only-of-type {\n",
       "        vertical-align: middle;\n",
       "    }\n",
       "\n",
       "    .dataframe tbody tr th {\n",
       "        vertical-align: top;\n",
       "    }\n",
       "\n",
       "    .dataframe thead th {\n",
       "        text-align: right;\n",
       "    }\n",
       "</style>\n",
       "<table border=\"1\" class=\"dataframe\">\n",
       "  <thead>\n",
       "    <tr style=\"text-align: right;\">\n",
       "      <th></th>\n",
       "      <th>LoanID</th>\n",
       "      <th>ReportingDate</th>\n",
       "      <th>ForeclosureDate</th>\n",
       "    </tr>\n",
       "  </thead>\n",
       "  <tbody>\n",
       "    <tr>\n",
       "      <th>20864166</th>\n",
       "      <td>999999565669</td>\n",
       "      <td>11/01/2007</td>\n",
       "      <td>NaN</td>\n",
       "    </tr>\n",
       "    <tr>\n",
       "      <th>20864167</th>\n",
       "      <td>999999565669</td>\n",
       "      <td>12/01/2007</td>\n",
       "      <td>NaN</td>\n",
       "    </tr>\n",
       "    <tr>\n",
       "      <th>20864168</th>\n",
       "      <td>999999565669</td>\n",
       "      <td>01/01/2008</td>\n",
       "      <td>NaN</td>\n",
       "    </tr>\n",
       "    <tr>\n",
       "      <th>20864169</th>\n",
       "      <td>999999565669</td>\n",
       "      <td>02/01/2008</td>\n",
       "      <td>NaN</td>\n",
       "    </tr>\n",
       "    <tr>\n",
       "      <th>20864170</th>\n",
       "      <td>999999565669</td>\n",
       "      <td>03/01/2008</td>\n",
       "      <td>NaN</td>\n",
       "    </tr>\n",
       "    <tr>\n",
       "      <th>...</th>\n",
       "      <td>...</td>\n",
       "      <td>...</td>\n",
       "      <td>...</td>\n",
       "    </tr>\n",
       "    <tr>\n",
       "      <th>20864252</th>\n",
       "      <td>999999565669</td>\n",
       "      <td>01/01/2015</td>\n",
       "      <td>NaN</td>\n",
       "    </tr>\n",
       "    <tr>\n",
       "      <th>20864253</th>\n",
       "      <td>999999565669</td>\n",
       "      <td>02/01/2015</td>\n",
       "      <td>NaN</td>\n",
       "    </tr>\n",
       "    <tr>\n",
       "      <th>20864254</th>\n",
       "      <td>999999565669</td>\n",
       "      <td>03/01/2015</td>\n",
       "      <td>NaN</td>\n",
       "    </tr>\n",
       "    <tr>\n",
       "      <th>20864255</th>\n",
       "      <td>999999565669</td>\n",
       "      <td>04/01/2015</td>\n",
       "      <td>NaN</td>\n",
       "    </tr>\n",
       "    <tr>\n",
       "      <th>20864256</th>\n",
       "      <td>999999565669</td>\n",
       "      <td>05/01/2015</td>\n",
       "      <td>NaN</td>\n",
       "    </tr>\n",
       "  </tbody>\n",
       "</table>\n",
       "<p>91 rows × 3 columns</p>\n",
       "</div>"
      ],
      "text/plain": [
       "                LoanID ReportingDate ForeclosureDate\n",
       "20864166  999999565669    11/01/2007             NaN\n",
       "20864167  999999565669    12/01/2007             NaN\n",
       "20864168  999999565669    01/01/2008             NaN\n",
       "20864169  999999565669    02/01/2008             NaN\n",
       "20864170  999999565669    03/01/2008             NaN\n",
       "...                ...           ...             ...\n",
       "20864252  999999565669    01/01/2015             NaN\n",
       "20864253  999999565669    02/01/2015             NaN\n",
       "20864254  999999565669    03/01/2015             NaN\n",
       "20864255  999999565669    04/01/2015             NaN\n",
       "20864256  999999565669    05/01/2015             NaN\n",
       "\n",
       "[91 rows x 3 columns]"
      ]
     },
     "execution_count": 9,
     "metadata": {},
     "output_type": "execute_result"
    }
   ],
   "source": [
    "per07Q4[per07Q4[\"LoanID\"]==999999565669]"
   ]
  },
  {
   "cell_type": "code",
   "execution_count": 10,
   "metadata": {},
   "outputs": [
    {
     "data": {
      "text/html": [
       "<div>\n",
       "<style scoped>\n",
       "    .dataframe tbody tr th:only-of-type {\n",
       "        vertical-align: middle;\n",
       "    }\n",
       "\n",
       "    .dataframe tbody tr th {\n",
       "        vertical-align: top;\n",
       "    }\n",
       "\n",
       "    .dataframe thead th {\n",
       "        text-align: right;\n",
       "    }\n",
       "</style>\n",
       "<table border=\"1\" class=\"dataframe\">\n",
       "  <thead>\n",
       "    <tr style=\"text-align: right;\">\n",
       "      <th></th>\n",
       "      <th>LoanID</th>\n",
       "      <th>Channel</th>\n",
       "      <th>SellerName</th>\n",
       "      <th>OrInterestRate</th>\n",
       "      <th>OrUnpaidPrinc</th>\n",
       "      <th>OrLoanTerm</th>\n",
       "      <th>OrDate</th>\n",
       "      <th>FirstPayment</th>\n",
       "      <th>OrLTV</th>\n",
       "      <th>OrCLTV</th>\n",
       "      <th>...</th>\n",
       "      <th>PropertyType</th>\n",
       "      <th>NumUnits</th>\n",
       "      <th>OccStatus</th>\n",
       "      <th>PropertyState</th>\n",
       "      <th>Zip</th>\n",
       "      <th>MortInsPerc</th>\n",
       "      <th>ProductType</th>\n",
       "      <th>CoCreditScore</th>\n",
       "      <th>MortInsType</th>\n",
       "      <th>RelMortInd</th>\n",
       "    </tr>\n",
       "  </thead>\n",
       "  <tbody>\n",
       "    <tr>\n",
       "      <th>0</th>\n",
       "      <td>100002296854</td>\n",
       "      <td>C</td>\n",
       "      <td>BANK OF AMERICA, N.A.</td>\n",
       "      <td>6.625</td>\n",
       "      <td>343000</td>\n",
       "      <td>360</td>\n",
       "      <td>10/2007</td>\n",
       "      <td>12/2007</td>\n",
       "      <td>86</td>\n",
       "      <td>86.0</td>\n",
       "      <td>...</td>\n",
       "      <td>PU</td>\n",
       "      <td>1</td>\n",
       "      <td>P</td>\n",
       "      <td>CO</td>\n",
       "      <td>809</td>\n",
       "      <td>25.0</td>\n",
       "      <td>FRM</td>\n",
       "      <td>756.0</td>\n",
       "      <td>2.0</td>\n",
       "      <td>N</td>\n",
       "    </tr>\n",
       "    <tr>\n",
       "      <th>1</th>\n",
       "      <td>100006876815</td>\n",
       "      <td>C</td>\n",
       "      <td>BANK OF AMERICA, N.A.</td>\n",
       "      <td>6.250</td>\n",
       "      <td>400000</td>\n",
       "      <td>360</td>\n",
       "      <td>10/2007</td>\n",
       "      <td>12/2007</td>\n",
       "      <td>62</td>\n",
       "      <td>62.0</td>\n",
       "      <td>...</td>\n",
       "      <td>SF</td>\n",
       "      <td>1</td>\n",
       "      <td>P</td>\n",
       "      <td>CA</td>\n",
       "      <td>920</td>\n",
       "      <td>NaN</td>\n",
       "      <td>FRM</td>\n",
       "      <td>790.0</td>\n",
       "      <td>NaN</td>\n",
       "      <td>N</td>\n",
       "    </tr>\n",
       "    <tr>\n",
       "      <th>2</th>\n",
       "      <td>100008184591</td>\n",
       "      <td>B</td>\n",
       "      <td>OTHER</td>\n",
       "      <td>6.625</td>\n",
       "      <td>81000</td>\n",
       "      <td>360</td>\n",
       "      <td>11/2007</td>\n",
       "      <td>01/2008</td>\n",
       "      <td>64</td>\n",
       "      <td>82.0</td>\n",
       "      <td>...</td>\n",
       "      <td>SF</td>\n",
       "      <td>1</td>\n",
       "      <td>P</td>\n",
       "      <td>LA</td>\n",
       "      <td>708</td>\n",
       "      <td>NaN</td>\n",
       "      <td>FRM</td>\n",
       "      <td>NaN</td>\n",
       "      <td>NaN</td>\n",
       "      <td>N</td>\n",
       "    </tr>\n",
       "    <tr>\n",
       "      <th>3</th>\n",
       "      <td>100008870761</td>\n",
       "      <td>B</td>\n",
       "      <td>AMTRUST BANK</td>\n",
       "      <td>6.500</td>\n",
       "      <td>119000</td>\n",
       "      <td>360</td>\n",
       "      <td>11/2007</td>\n",
       "      <td>01/2008</td>\n",
       "      <td>71</td>\n",
       "      <td>71.0</td>\n",
       "      <td>...</td>\n",
       "      <td>CO</td>\n",
       "      <td>1</td>\n",
       "      <td>P</td>\n",
       "      <td>IL</td>\n",
       "      <td>600</td>\n",
       "      <td>NaN</td>\n",
       "      <td>FRM</td>\n",
       "      <td>NaN</td>\n",
       "      <td>NaN</td>\n",
       "      <td>N</td>\n",
       "    </tr>\n",
       "    <tr>\n",
       "      <th>4</th>\n",
       "      <td>100013284158</td>\n",
       "      <td>B</td>\n",
       "      <td>BANK OF AMERICA, N.A.</td>\n",
       "      <td>6.625</td>\n",
       "      <td>205000</td>\n",
       "      <td>360</td>\n",
       "      <td>10/2007</td>\n",
       "      <td>12/2007</td>\n",
       "      <td>27</td>\n",
       "      <td>27.0</td>\n",
       "      <td>...</td>\n",
       "      <td>SF</td>\n",
       "      <td>1</td>\n",
       "      <td>P</td>\n",
       "      <td>CA</td>\n",
       "      <td>907</td>\n",
       "      <td>NaN</td>\n",
       "      <td>FRM</td>\n",
       "      <td>NaN</td>\n",
       "      <td>NaN</td>\n",
       "      <td>N</td>\n",
       "    </tr>\n",
       "  </tbody>\n",
       "</table>\n",
       "<p>5 rows × 25 columns</p>\n",
       "</div>"
      ],
      "text/plain": [
       "         LoanID Channel             SellerName  OrInterestRate  OrUnpaidPrinc  \\\n",
       "0  100002296854       C  BANK OF AMERICA, N.A.           6.625         343000   \n",
       "1  100006876815       C  BANK OF AMERICA, N.A.           6.250         400000   \n",
       "2  100008184591       B                  OTHER           6.625          81000   \n",
       "3  100008870761       B           AMTRUST BANK           6.500         119000   \n",
       "4  100013284158       B  BANK OF AMERICA, N.A.           6.625         205000   \n",
       "\n",
       "   OrLoanTerm   OrDate FirstPayment  OrLTV  OrCLTV  ...  PropertyType  \\\n",
       "0         360  10/2007      12/2007     86    86.0  ...            PU   \n",
       "1         360  10/2007      12/2007     62    62.0  ...            SF   \n",
       "2         360  11/2007      01/2008     64    82.0  ...            SF   \n",
       "3         360  11/2007      01/2008     71    71.0  ...            CO   \n",
       "4         360  10/2007      12/2007     27    27.0  ...            SF   \n",
       "\n",
       "   NumUnits  OccStatus PropertyState  Zip MortInsPerc  ProductType  \\\n",
       "0         1          P            CO  809        25.0          FRM   \n",
       "1         1          P            CA  920         NaN          FRM   \n",
       "2         1          P            LA  708         NaN          FRM   \n",
       "3         1          P            IL  600         NaN          FRM   \n",
       "4         1          P            CA  907         NaN          FRM   \n",
       "\n",
       "  CoCreditScore MortInsType  RelMortInd  \n",
       "0         756.0         2.0           N  \n",
       "1         790.0         NaN           N  \n",
       "2           NaN         NaN           N  \n",
       "3           NaN         NaN           N  \n",
       "4           NaN         NaN           N  \n",
       "\n",
       "[5 rows x 25 columns]"
      ]
     },
     "execution_count": 10,
     "metadata": {},
     "output_type": "execute_result"
    }
   ],
   "source": [
    "acq07Q4.head()"
   ]
  },
  {
   "cell_type": "code",
   "execution_count": 11,
   "metadata": {},
   "outputs": [
    {
     "data": {
      "text/plain": [
       "(391209, 25)"
      ]
     },
     "execution_count": 11,
     "metadata": {},
     "output_type": "execute_result"
    }
   ],
   "source": [
    "# identify is there any duplicate records in  acquisiton file\n",
    "acq07Q4=acq07Q4.drop_duplicates(keep=\"last\")\n",
    "acq07Q4.shape"
   ]
  },
  {
   "cell_type": "code",
   "execution_count": 12,
   "metadata": {},
   "outputs": [],
   "source": [
    "per07Q4.drop_duplicates(subset='LoanID', keep='last', inplace=True)"
   ]
  },
  {
   "cell_type": "code",
   "execution_count": 13,
   "metadata": {},
   "outputs": [
    {
     "data": {
      "text/plain": [
       "(391209, 3)"
      ]
     },
     "execution_count": 13,
     "metadata": {},
     "output_type": "execute_result"
    }
   ],
   "source": [
    "per07Q4.shape"
   ]
  },
  {
   "cell_type": "code",
   "execution_count": 14,
   "metadata": {},
   "outputs": [],
   "source": [
    "per07Q4.drop([\"ReportingDate\"],axis=1,inplace=True)"
   ]
  },
  {
   "cell_type": "code",
   "execution_count": 15,
   "metadata": {},
   "outputs": [],
   "source": [
    "acq_perf=pd.merge(acq07Q4,per07Q4,on='LoanID',how=\"inner\")"
   ]
  },
  {
   "cell_type": "code",
   "execution_count": 16,
   "metadata": {},
   "outputs": [
    {
     "data": {
      "text/plain": [
       "(391209, 26)"
      ]
     },
     "execution_count": 16,
     "metadata": {},
     "output_type": "execute_result"
    }
   ],
   "source": [
    "acq_perf.shape"
   ]
  },
  {
   "cell_type": "code",
   "execution_count": 17,
   "metadata": {},
   "outputs": [
    {
     "name": "stdout",
     "output_type": "stream",
     "text": [
      "<class 'pandas.core.frame.DataFrame'>\n",
      "Int64Index: 391209 entries, 0 to 391208\n",
      "Data columns (total 26 columns):\n",
      "LoanID             391209 non-null int64\n",
      "Channel            391209 non-null object\n",
      "SellerName         391209 non-null object\n",
      "OrInterestRate     391208 non-null float64\n",
      "OrUnpaidPrinc      391209 non-null int64\n",
      "OrLoanTerm         391209 non-null int64\n",
      "OrDate             391209 non-null object\n",
      "FirstPayment       391209 non-null object\n",
      "OrLTV              391209 non-null int64\n",
      "OrCLTV             391177 non-null float64\n",
      "NumBorrow          391203 non-null float64\n",
      "DTIRat             379728 non-null float64\n",
      "CreditScore        390583 non-null float64\n",
      "FTHomeBuyer        391209 non-null object\n",
      "LoanPurpose        391209 non-null object\n",
      "PropertyType       391209 non-null object\n",
      "NumUnits           391209 non-null int64\n",
      "OccStatus          391209 non-null object\n",
      "PropertyState      391209 non-null object\n",
      "Zip                391209 non-null int64\n",
      "MortInsPerc        84925 non-null float64\n",
      "ProductType        391209 non-null object\n",
      "CoCreditScore      156239 non-null float64\n",
      "MortInsType        84925 non-null float64\n",
      "RelMortInd         391209 non-null object\n",
      "ForeclosureDate    35224 non-null object\n",
      "dtypes: float64(8), int64(6), object(12)\n",
      "memory usage: 80.6+ MB\n"
     ]
    }
   ],
   "source": [
    "# description about abour acq_perf: indetailed information about table\n",
    "acq_perf.info()"
   ]
  },
  {
   "cell_type": "code",
   "execution_count": 18,
   "metadata": {},
   "outputs": [
    {
     "data": {
      "text/plain": [
       "09/01/2010    768\n",
       "06/01/2010    766\n",
       "08/01/2010    764\n",
       "03/01/2011    754\n",
       "07/01/2010    733\n",
       "             ... \n",
       "05/01/2008     20\n",
       "09/01/2018     19\n",
       "04/01/2008     12\n",
       "03/01/2008      4\n",
       "02/01/2008      1\n",
       "Name: ForeclosureDate, Length: 128, dtype: int64"
      ]
     },
     "execution_count": 18,
     "metadata": {},
     "output_type": "execute_result"
    }
   ],
   "source": [
    "acq_perf[\"ForeclosureDate\"].value_counts()"
   ]
  },
  {
   "cell_type": "code",
   "execution_count": 19,
   "metadata": {},
   "outputs": [
    {
     "data": {
      "text/plain": [
       "Index(['LoanID', 'Channel', 'SellerName', 'OrInterestRate', 'OrUnpaidPrinc',\n",
       "       'OrLoanTerm', 'OrDate', 'FirstPayment', 'OrLTV', 'OrCLTV', 'NumBorrow',\n",
       "       'DTIRat', 'CreditScore', 'FTHomeBuyer', 'LoanPurpose', 'PropertyType',\n",
       "       'NumUnits', 'OccStatus', 'PropertyState', 'Zip', 'MortInsPerc',\n",
       "       'ProductType', 'CoCreditScore', 'MortInsType', 'RelMortInd',\n",
       "       'ForeclosureDate'],\n",
       "      dtype='object')"
      ]
     },
     "execution_count": 19,
     "metadata": {},
     "output_type": "execute_result"
    }
   ],
   "source": [
    "acq_perf.columns"
   ]
  },
  {
   "cell_type": "code",
   "execution_count": 20,
   "metadata": {},
   "outputs": [
    {
     "data": {
      "text/html": [
       "<div>\n",
       "<style scoped>\n",
       "    .dataframe tbody tr th:only-of-type {\n",
       "        vertical-align: middle;\n",
       "    }\n",
       "\n",
       "    .dataframe tbody tr th {\n",
       "        vertical-align: top;\n",
       "    }\n",
       "\n",
       "    .dataframe thead th {\n",
       "        text-align: right;\n",
       "    }\n",
       "</style>\n",
       "<table border=\"1\" class=\"dataframe\">\n",
       "  <thead>\n",
       "    <tr style=\"text-align: right;\">\n",
       "      <th></th>\n",
       "      <th>LoanID</th>\n",
       "      <th>Channel</th>\n",
       "      <th>SellerName</th>\n",
       "      <th>OrInterestRate</th>\n",
       "      <th>OrUnpaidPrinc</th>\n",
       "      <th>OrLoanTerm</th>\n",
       "      <th>OrDate</th>\n",
       "      <th>FirstPayment</th>\n",
       "      <th>OrLTV</th>\n",
       "      <th>OrCLTV</th>\n",
       "      <th>...</th>\n",
       "      <th>NumUnits</th>\n",
       "      <th>OccStatus</th>\n",
       "      <th>PropertyState</th>\n",
       "      <th>Zip</th>\n",
       "      <th>MortInsPerc</th>\n",
       "      <th>ProductType</th>\n",
       "      <th>CoCreditScore</th>\n",
       "      <th>MortInsType</th>\n",
       "      <th>RelMortInd</th>\n",
       "      <th>ForeclosureDate</th>\n",
       "    </tr>\n",
       "  </thead>\n",
       "  <tbody>\n",
       "    <tr>\n",
       "      <th>0</th>\n",
       "      <td>100002296854</td>\n",
       "      <td>C</td>\n",
       "      <td>BANK OF AMERICA, N.A.</td>\n",
       "      <td>6.625</td>\n",
       "      <td>343000</td>\n",
       "      <td>360</td>\n",
       "      <td>10/2007</td>\n",
       "      <td>12/2007</td>\n",
       "      <td>86</td>\n",
       "      <td>86.0</td>\n",
       "      <td>...</td>\n",
       "      <td>1</td>\n",
       "      <td>P</td>\n",
       "      <td>CO</td>\n",
       "      <td>809</td>\n",
       "      <td>25.0</td>\n",
       "      <td>FRM</td>\n",
       "      <td>756.0</td>\n",
       "      <td>2.0</td>\n",
       "      <td>N</td>\n",
       "      <td>NaN</td>\n",
       "    </tr>\n",
       "    <tr>\n",
       "      <th>1</th>\n",
       "      <td>100006876815</td>\n",
       "      <td>C</td>\n",
       "      <td>BANK OF AMERICA, N.A.</td>\n",
       "      <td>6.250</td>\n",
       "      <td>400000</td>\n",
       "      <td>360</td>\n",
       "      <td>10/2007</td>\n",
       "      <td>12/2007</td>\n",
       "      <td>62</td>\n",
       "      <td>62.0</td>\n",
       "      <td>...</td>\n",
       "      <td>1</td>\n",
       "      <td>P</td>\n",
       "      <td>CA</td>\n",
       "      <td>920</td>\n",
       "      <td>NaN</td>\n",
       "      <td>FRM</td>\n",
       "      <td>790.0</td>\n",
       "      <td>NaN</td>\n",
       "      <td>N</td>\n",
       "      <td>NaN</td>\n",
       "    </tr>\n",
       "    <tr>\n",
       "      <th>2</th>\n",
       "      <td>100008184591</td>\n",
       "      <td>B</td>\n",
       "      <td>OTHER</td>\n",
       "      <td>6.625</td>\n",
       "      <td>81000</td>\n",
       "      <td>360</td>\n",
       "      <td>11/2007</td>\n",
       "      <td>01/2008</td>\n",
       "      <td>64</td>\n",
       "      <td>82.0</td>\n",
       "      <td>...</td>\n",
       "      <td>1</td>\n",
       "      <td>P</td>\n",
       "      <td>LA</td>\n",
       "      <td>708</td>\n",
       "      <td>NaN</td>\n",
       "      <td>FRM</td>\n",
       "      <td>NaN</td>\n",
       "      <td>NaN</td>\n",
       "      <td>N</td>\n",
       "      <td>NaN</td>\n",
       "    </tr>\n",
       "    <tr>\n",
       "      <th>3</th>\n",
       "      <td>100008870761</td>\n",
       "      <td>B</td>\n",
       "      <td>AMTRUST BANK</td>\n",
       "      <td>6.500</td>\n",
       "      <td>119000</td>\n",
       "      <td>360</td>\n",
       "      <td>11/2007</td>\n",
       "      <td>01/2008</td>\n",
       "      <td>71</td>\n",
       "      <td>71.0</td>\n",
       "      <td>...</td>\n",
       "      <td>1</td>\n",
       "      <td>P</td>\n",
       "      <td>IL</td>\n",
       "      <td>600</td>\n",
       "      <td>NaN</td>\n",
       "      <td>FRM</td>\n",
       "      <td>NaN</td>\n",
       "      <td>NaN</td>\n",
       "      <td>N</td>\n",
       "      <td>NaN</td>\n",
       "    </tr>\n",
       "    <tr>\n",
       "      <th>4</th>\n",
       "      <td>100013284158</td>\n",
       "      <td>B</td>\n",
       "      <td>BANK OF AMERICA, N.A.</td>\n",
       "      <td>6.625</td>\n",
       "      <td>205000</td>\n",
       "      <td>360</td>\n",
       "      <td>10/2007</td>\n",
       "      <td>12/2007</td>\n",
       "      <td>27</td>\n",
       "      <td>27.0</td>\n",
       "      <td>...</td>\n",
       "      <td>1</td>\n",
       "      <td>P</td>\n",
       "      <td>CA</td>\n",
       "      <td>907</td>\n",
       "      <td>NaN</td>\n",
       "      <td>FRM</td>\n",
       "      <td>NaN</td>\n",
       "      <td>NaN</td>\n",
       "      <td>N</td>\n",
       "      <td>NaN</td>\n",
       "    </tr>\n",
       "  </tbody>\n",
       "</table>\n",
       "<p>5 rows × 26 columns</p>\n",
       "</div>"
      ],
      "text/plain": [
       "         LoanID Channel             SellerName  OrInterestRate  OrUnpaidPrinc  \\\n",
       "0  100002296854       C  BANK OF AMERICA, N.A.           6.625         343000   \n",
       "1  100006876815       C  BANK OF AMERICA, N.A.           6.250         400000   \n",
       "2  100008184591       B                  OTHER           6.625          81000   \n",
       "3  100008870761       B           AMTRUST BANK           6.500         119000   \n",
       "4  100013284158       B  BANK OF AMERICA, N.A.           6.625         205000   \n",
       "\n",
       "   OrLoanTerm   OrDate FirstPayment  OrLTV  OrCLTV  ...  NumUnits  OccStatus  \\\n",
       "0         360  10/2007      12/2007     86    86.0  ...         1          P   \n",
       "1         360  10/2007      12/2007     62    62.0  ...         1          P   \n",
       "2         360  11/2007      01/2008     64    82.0  ...         1          P   \n",
       "3         360  11/2007      01/2008     71    71.0  ...         1          P   \n",
       "4         360  10/2007      12/2007     27    27.0  ...         1          P   \n",
       "\n",
       "   PropertyState  Zip MortInsPerc ProductType  CoCreditScore MortInsType  \\\n",
       "0             CO  809        25.0         FRM          756.0         2.0   \n",
       "1             CA  920         NaN         FRM          790.0         NaN   \n",
       "2             LA  708         NaN         FRM            NaN         NaN   \n",
       "3             IL  600         NaN         FRM            NaN         NaN   \n",
       "4             CA  907         NaN         FRM            NaN         NaN   \n",
       "\n",
       "  RelMortInd  ForeclosureDate  \n",
       "0          N              NaN  \n",
       "1          N              NaN  \n",
       "2          N              NaN  \n",
       "3          N              NaN  \n",
       "4          N              NaN  \n",
       "\n",
       "[5 rows x 26 columns]"
      ]
     },
     "execution_count": 20,
     "metadata": {},
     "output_type": "execute_result"
    }
   ],
   "source": [
    "acq_perf.head()"
   ]
  },
  {
   "cell_type": "code",
   "execution_count": 21,
   "metadata": {},
   "outputs": [
    {
     "data": {
      "text/plain": [
       "datetime.datetime(2007, 10, 1, 0, 0)"
      ]
     },
     "execution_count": 21,
     "metadata": {},
     "output_type": "execute_result"
    }
   ],
   "source": [
    "from datetime import datetime\n",
    "datetime.strptime(\"10/2007\", '%m/%Y')"
   ]
  },
  {
   "cell_type": "code",
   "execution_count": 22,
   "metadata": {},
   "outputs": [],
   "source": [
    "# converting month,year to full date format, which includes day,month,year\n",
    "acq_perf[\"FirstPayment\"]=pd.to_datetime(acq_perf[\"FirstPayment\"])\n",
    "acq_perf[\"OrDate\"]=pd.to_datetime(acq_perf[\"OrDate\"])"
   ]
  },
  {
   "cell_type": "code",
   "execution_count": 23,
   "metadata": {},
   "outputs": [
    {
     "data": {
      "text/html": [
       "<div>\n",
       "<style scoped>\n",
       "    .dataframe tbody tr th:only-of-type {\n",
       "        vertical-align: middle;\n",
       "    }\n",
       "\n",
       "    .dataframe tbody tr th {\n",
       "        vertical-align: top;\n",
       "    }\n",
       "\n",
       "    .dataframe thead th {\n",
       "        text-align: right;\n",
       "    }\n",
       "</style>\n",
       "<table border=\"1\" class=\"dataframe\">\n",
       "  <thead>\n",
       "    <tr style=\"text-align: right;\">\n",
       "      <th></th>\n",
       "      <th>LoanID</th>\n",
       "      <th>Channel</th>\n",
       "      <th>SellerName</th>\n",
       "      <th>OrInterestRate</th>\n",
       "      <th>OrUnpaidPrinc</th>\n",
       "      <th>OrLoanTerm</th>\n",
       "      <th>OrDate</th>\n",
       "      <th>FirstPayment</th>\n",
       "      <th>OrLTV</th>\n",
       "      <th>OrCLTV</th>\n",
       "      <th>...</th>\n",
       "      <th>NumUnits</th>\n",
       "      <th>OccStatus</th>\n",
       "      <th>PropertyState</th>\n",
       "      <th>Zip</th>\n",
       "      <th>MortInsPerc</th>\n",
       "      <th>ProductType</th>\n",
       "      <th>CoCreditScore</th>\n",
       "      <th>MortInsType</th>\n",
       "      <th>RelMortInd</th>\n",
       "      <th>ForeclosureDate</th>\n",
       "    </tr>\n",
       "  </thead>\n",
       "  <tbody>\n",
       "    <tr>\n",
       "      <th>0</th>\n",
       "      <td>100002296854</td>\n",
       "      <td>C</td>\n",
       "      <td>BANK OF AMERICA, N.A.</td>\n",
       "      <td>6.625</td>\n",
       "      <td>343000</td>\n",
       "      <td>360</td>\n",
       "      <td>2007-10-01</td>\n",
       "      <td>2007-12-01</td>\n",
       "      <td>86</td>\n",
       "      <td>86.0</td>\n",
       "      <td>...</td>\n",
       "      <td>1</td>\n",
       "      <td>P</td>\n",
       "      <td>CO</td>\n",
       "      <td>809</td>\n",
       "      <td>25.0</td>\n",
       "      <td>FRM</td>\n",
       "      <td>756.0</td>\n",
       "      <td>2.0</td>\n",
       "      <td>N</td>\n",
       "      <td>NaN</td>\n",
       "    </tr>\n",
       "    <tr>\n",
       "      <th>1</th>\n",
       "      <td>100006876815</td>\n",
       "      <td>C</td>\n",
       "      <td>BANK OF AMERICA, N.A.</td>\n",
       "      <td>6.250</td>\n",
       "      <td>400000</td>\n",
       "      <td>360</td>\n",
       "      <td>2007-10-01</td>\n",
       "      <td>2007-12-01</td>\n",
       "      <td>62</td>\n",
       "      <td>62.0</td>\n",
       "      <td>...</td>\n",
       "      <td>1</td>\n",
       "      <td>P</td>\n",
       "      <td>CA</td>\n",
       "      <td>920</td>\n",
       "      <td>NaN</td>\n",
       "      <td>FRM</td>\n",
       "      <td>790.0</td>\n",
       "      <td>NaN</td>\n",
       "      <td>N</td>\n",
       "      <td>NaN</td>\n",
       "    </tr>\n",
       "    <tr>\n",
       "      <th>2</th>\n",
       "      <td>100008184591</td>\n",
       "      <td>B</td>\n",
       "      <td>OTHER</td>\n",
       "      <td>6.625</td>\n",
       "      <td>81000</td>\n",
       "      <td>360</td>\n",
       "      <td>2007-11-01</td>\n",
       "      <td>2008-01-01</td>\n",
       "      <td>64</td>\n",
       "      <td>82.0</td>\n",
       "      <td>...</td>\n",
       "      <td>1</td>\n",
       "      <td>P</td>\n",
       "      <td>LA</td>\n",
       "      <td>708</td>\n",
       "      <td>NaN</td>\n",
       "      <td>FRM</td>\n",
       "      <td>NaN</td>\n",
       "      <td>NaN</td>\n",
       "      <td>N</td>\n",
       "      <td>NaN</td>\n",
       "    </tr>\n",
       "    <tr>\n",
       "      <th>3</th>\n",
       "      <td>100008870761</td>\n",
       "      <td>B</td>\n",
       "      <td>AMTRUST BANK</td>\n",
       "      <td>6.500</td>\n",
       "      <td>119000</td>\n",
       "      <td>360</td>\n",
       "      <td>2007-11-01</td>\n",
       "      <td>2008-01-01</td>\n",
       "      <td>71</td>\n",
       "      <td>71.0</td>\n",
       "      <td>...</td>\n",
       "      <td>1</td>\n",
       "      <td>P</td>\n",
       "      <td>IL</td>\n",
       "      <td>600</td>\n",
       "      <td>NaN</td>\n",
       "      <td>FRM</td>\n",
       "      <td>NaN</td>\n",
       "      <td>NaN</td>\n",
       "      <td>N</td>\n",
       "      <td>NaN</td>\n",
       "    </tr>\n",
       "    <tr>\n",
       "      <th>4</th>\n",
       "      <td>100013284158</td>\n",
       "      <td>B</td>\n",
       "      <td>BANK OF AMERICA, N.A.</td>\n",
       "      <td>6.625</td>\n",
       "      <td>205000</td>\n",
       "      <td>360</td>\n",
       "      <td>2007-10-01</td>\n",
       "      <td>2007-12-01</td>\n",
       "      <td>27</td>\n",
       "      <td>27.0</td>\n",
       "      <td>...</td>\n",
       "      <td>1</td>\n",
       "      <td>P</td>\n",
       "      <td>CA</td>\n",
       "      <td>907</td>\n",
       "      <td>NaN</td>\n",
       "      <td>FRM</td>\n",
       "      <td>NaN</td>\n",
       "      <td>NaN</td>\n",
       "      <td>N</td>\n",
       "      <td>NaN</td>\n",
       "    </tr>\n",
       "  </tbody>\n",
       "</table>\n",
       "<p>5 rows × 26 columns</p>\n",
       "</div>"
      ],
      "text/plain": [
       "         LoanID Channel             SellerName  OrInterestRate  OrUnpaidPrinc  \\\n",
       "0  100002296854       C  BANK OF AMERICA, N.A.           6.625         343000   \n",
       "1  100006876815       C  BANK OF AMERICA, N.A.           6.250         400000   \n",
       "2  100008184591       B                  OTHER           6.625          81000   \n",
       "3  100008870761       B           AMTRUST BANK           6.500         119000   \n",
       "4  100013284158       B  BANK OF AMERICA, N.A.           6.625         205000   \n",
       "\n",
       "   OrLoanTerm     OrDate FirstPayment  OrLTV  OrCLTV  ...  NumUnits  \\\n",
       "0         360 2007-10-01   2007-12-01     86    86.0  ...         1   \n",
       "1         360 2007-10-01   2007-12-01     62    62.0  ...         1   \n",
       "2         360 2007-11-01   2008-01-01     64    82.0  ...         1   \n",
       "3         360 2007-11-01   2008-01-01     71    71.0  ...         1   \n",
       "4         360 2007-10-01   2007-12-01     27    27.0  ...         1   \n",
       "\n",
       "   OccStatus  PropertyState  Zip MortInsPerc ProductType  CoCreditScore  \\\n",
       "0          P             CO  809        25.0         FRM          756.0   \n",
       "1          P             CA  920         NaN         FRM          790.0   \n",
       "2          P             LA  708         NaN         FRM            NaN   \n",
       "3          P             IL  600         NaN         FRM            NaN   \n",
       "4          P             CA  907         NaN         FRM            NaN   \n",
       "\n",
       "  MortInsType RelMortInd  ForeclosureDate  \n",
       "0         2.0          N              NaN  \n",
       "1         NaN          N              NaN  \n",
       "2         NaN          N              NaN  \n",
       "3         NaN          N              NaN  \n",
       "4         NaN          N              NaN  \n",
       "\n",
       "[5 rows x 26 columns]"
      ]
     },
     "execution_count": 23,
     "metadata": {},
     "output_type": "execute_result"
    }
   ],
   "source": [
    "acq_perf.head()"
   ]
  },
  {
   "cell_type": "code",
   "execution_count": 24,
   "metadata": {},
   "outputs": [],
   "source": [
    "# is there any loan ids first payment is greater than origination date\n",
    "acq_perf[\"date_diff\"]=acq_perf[\"FirstPayment\"]-acq_perf[\"OrDate\"]"
   ]
  },
  {
   "cell_type": "code",
   "execution_count": 25,
   "metadata": {
    "scrolled": true
   },
   "outputs": [
    {
     "data": {
      "text/plain": [
       "61 days    86.255684\n",
       "62 days     7.288176\n",
       "92 days     2.458532\n",
       "31 days     1.668418\n",
       "30 days     1.241791\n",
       "91 days     0.832547\n",
       "59 days     0.230567\n",
       "90 days     0.010992\n",
       "89 days     0.005879\n",
       "28 days     0.005112\n",
       "0 days      0.002301\n",
       "Name: date_diff, dtype: float64"
      ]
     },
     "execution_count": 25,
     "metadata": {},
     "output_type": "execute_result"
    }
   ],
   "source": [
    "acq_perf[\"date_diff\"].value_counts()/len(acq_perf)*100"
   ]
  },
  {
   "cell_type": "markdown",
   "metadata": {},
   "source": [
    "# insights: 96% of customers are paying first payment after 60 days of loan origination date"
   ]
  },
  {
   "cell_type": "code",
   "execution_count": 26,
   "metadata": {},
   "outputs": [],
   "source": [
    "# renaming the foreclosure date to default\n",
    "acq_perf.rename(index=int, columns={\"ForeclosureDate\": 'Default'}, inplace=True)"
   ]
  },
  {
   "cell_type": "markdown",
   "metadata": {},
   "source": [
    "# defination of defaulter:\n",
    "1. if default is missing then those customers non defaulters --- customers are active\n",
    "2. if default date is presented then those customers are called as defaulters --- loans have been closed"
   ]
  },
  {
   "cell_type": "code",
   "execution_count": 27,
   "metadata": {},
   "outputs": [],
   "source": [
    "acq_perf[\"Default\"].fillna(0,inplace=True)"
   ]
  },
  {
   "cell_type": "code",
   "execution_count": 28,
   "metadata": {},
   "outputs": [
    {
     "data": {
      "text/plain": [
       "0             355985\n",
       "09/01/2010       768\n",
       "06/01/2010       766\n",
       "08/01/2010       764\n",
       "03/01/2011       754\n",
       "               ...  \n",
       "05/01/2008        20\n",
       "09/01/2018        19\n",
       "04/01/2008        12\n",
       "03/01/2008         4\n",
       "02/01/2008         1\n",
       "Name: Default, Length: 129, dtype: int64"
      ]
     },
     "execution_count": 28,
     "metadata": {},
     "output_type": "execute_result"
    }
   ],
   "source": [
    "acq_perf[\"Default\"].value_counts()"
   ]
  },
  {
   "cell_type": "code",
   "execution_count": 29,
   "metadata": {},
   "outputs": [],
   "source": [
    "acq_perf[\"Default\"]=np.where(acq_perf[\"Default\"]==0,0,1)"
   ]
  },
  {
   "cell_type": "code",
   "execution_count": 30,
   "metadata": {},
   "outputs": [
    {
     "data": {
      "text/plain": [
       "0    90.996117\n",
       "1     9.003883\n",
       "Name: Default, dtype: float64"
      ]
     },
     "execution_count": 30,
     "metadata": {},
     "output_type": "execute_result"
    }
   ],
   "source": [
    "acq_perf[\"Default\"].value_counts()/len(acq_perf)*100"
   ]
  },
  {
   "cell_type": "markdown",
   "metadata": {},
   "source": [
    "# in given data, 9% of customers are defaulter"
   ]
  },
  {
   "cell_type": "code",
   "execution_count": 31,
   "metadata": {},
   "outputs": [
    {
     "data": {
      "text/html": [
       "<div>\n",
       "<style scoped>\n",
       "    .dataframe tbody tr th:only-of-type {\n",
       "        vertical-align: middle;\n",
       "    }\n",
       "\n",
       "    .dataframe tbody tr th {\n",
       "        vertical-align: top;\n",
       "    }\n",
       "\n",
       "    .dataframe thead th {\n",
       "        text-align: right;\n",
       "    }\n",
       "</style>\n",
       "<table border=\"1\" class=\"dataframe\">\n",
       "  <thead>\n",
       "    <tr style=\"text-align: right;\">\n",
       "      <th>Default</th>\n",
       "      <th>0</th>\n",
       "      <th>1</th>\n",
       "    </tr>\n",
       "    <tr>\n",
       "      <th>date_diff</th>\n",
       "      <th></th>\n",
       "      <th></th>\n",
       "    </tr>\n",
       "  </thead>\n",
       "  <tbody>\n",
       "    <tr>\n",
       "      <th>0 days</th>\n",
       "      <td>9</td>\n",
       "      <td>0</td>\n",
       "    </tr>\n",
       "    <tr>\n",
       "      <th>28 days</th>\n",
       "      <td>20</td>\n",
       "      <td>0</td>\n",
       "    </tr>\n",
       "    <tr>\n",
       "      <th>30 days</th>\n",
       "      <td>4406</td>\n",
       "      <td>452</td>\n",
       "    </tr>\n",
       "    <tr>\n",
       "      <th>31 days</th>\n",
       "      <td>5944</td>\n",
       "      <td>583</td>\n",
       "    </tr>\n",
       "    <tr>\n",
       "      <th>59 days</th>\n",
       "      <td>836</td>\n",
       "      <td>66</td>\n",
       "    </tr>\n",
       "    <tr>\n",
       "      <th>61 days</th>\n",
       "      <td>307161</td>\n",
       "      <td>30279</td>\n",
       "    </tr>\n",
       "    <tr>\n",
       "      <th>62 days</th>\n",
       "      <td>25895</td>\n",
       "      <td>2617</td>\n",
       "    </tr>\n",
       "    <tr>\n",
       "      <th>89 days</th>\n",
       "      <td>20</td>\n",
       "      <td>3</td>\n",
       "    </tr>\n",
       "    <tr>\n",
       "      <th>90 days</th>\n",
       "      <td>41</td>\n",
       "      <td>2</td>\n",
       "    </tr>\n",
       "    <tr>\n",
       "      <th>91 days</th>\n",
       "      <td>2951</td>\n",
       "      <td>306</td>\n",
       "    </tr>\n",
       "    <tr>\n",
       "      <th>92 days</th>\n",
       "      <td>8702</td>\n",
       "      <td>916</td>\n",
       "    </tr>\n",
       "  </tbody>\n",
       "</table>\n",
       "</div>"
      ],
      "text/plain": [
       "Default         0      1\n",
       "date_diff               \n",
       "0 days          9      0\n",
       "28 days        20      0\n",
       "30 days      4406    452\n",
       "31 days      5944    583\n",
       "59 days       836     66\n",
       "61 days    307161  30279\n",
       "62 days     25895   2617\n",
       "89 days        20      3\n",
       "90 days        41      2\n",
       "91 days      2951    306\n",
       "92 days      8702    916"
      ]
     },
     "execution_count": 31,
     "metadata": {},
     "output_type": "execute_result"
    }
   ],
   "source": [
    "# comparing date diff with defaulters\n",
    "pd.crosstab(acq_perf[\"date_diff\"],acq_perf[\"Default\"])"
   ]
  },
  {
   "cell_type": "code",
   "execution_count": 32,
   "metadata": {},
   "outputs": [],
   "source": [
    "diff_def_percent=acq_perf[[\"date_diff\",\"Default\"]].groupby([\"date_diff\",\"Default\"]).size()"
   ]
  },
  {
   "cell_type": "code",
   "execution_count": 33,
   "metadata": {
    "scrolled": true
   },
   "outputs": [
    {
     "data": {
      "text/html": [
       "<div>\n",
       "<style scoped>\n",
       "    .dataframe tbody tr th:only-of-type {\n",
       "        vertical-align: middle;\n",
       "    }\n",
       "\n",
       "    .dataframe tbody tr th {\n",
       "        vertical-align: top;\n",
       "    }\n",
       "\n",
       "    .dataframe thead th {\n",
       "        text-align: right;\n",
       "    }\n",
       "</style>\n",
       "<table border=\"1\" class=\"dataframe\">\n",
       "  <thead>\n",
       "    <tr style=\"text-align: right;\">\n",
       "      <th></th>\n",
       "      <th>date_diff</th>\n",
       "      <th>Default</th>\n",
       "      <th>0</th>\n",
       "    </tr>\n",
       "  </thead>\n",
       "  <tbody>\n",
       "    <tr>\n",
       "      <th>0</th>\n",
       "      <td>0 days</td>\n",
       "      <td>0</td>\n",
       "      <td>1.000000</td>\n",
       "    </tr>\n",
       "    <tr>\n",
       "      <th>1</th>\n",
       "      <td>28 days</td>\n",
       "      <td>0</td>\n",
       "      <td>1.000000</td>\n",
       "    </tr>\n",
       "    <tr>\n",
       "      <th>2</th>\n",
       "      <td>30 days</td>\n",
       "      <td>0</td>\n",
       "      <td>0.906958</td>\n",
       "    </tr>\n",
       "    <tr>\n",
       "      <th>3</th>\n",
       "      <td>30 days</td>\n",
       "      <td>1</td>\n",
       "      <td>0.093042</td>\n",
       "    </tr>\n",
       "    <tr>\n",
       "      <th>4</th>\n",
       "      <td>31 days</td>\n",
       "      <td>0</td>\n",
       "      <td>0.910679</td>\n",
       "    </tr>\n",
       "    <tr>\n",
       "      <th>5</th>\n",
       "      <td>31 days</td>\n",
       "      <td>1</td>\n",
       "      <td>0.089321</td>\n",
       "    </tr>\n",
       "    <tr>\n",
       "      <th>6</th>\n",
       "      <td>59 days</td>\n",
       "      <td>0</td>\n",
       "      <td>0.926829</td>\n",
       "    </tr>\n",
       "    <tr>\n",
       "      <th>7</th>\n",
       "      <td>59 days</td>\n",
       "      <td>1</td>\n",
       "      <td>0.073171</td>\n",
       "    </tr>\n",
       "    <tr>\n",
       "      <th>8</th>\n",
       "      <td>61 days</td>\n",
       "      <td>0</td>\n",
       "      <td>0.910268</td>\n",
       "    </tr>\n",
       "    <tr>\n",
       "      <th>9</th>\n",
       "      <td>61 days</td>\n",
       "      <td>1</td>\n",
       "      <td>0.089732</td>\n",
       "    </tr>\n",
       "    <tr>\n",
       "      <th>10</th>\n",
       "      <td>62 days</td>\n",
       "      <td>0</td>\n",
       "      <td>0.908214</td>\n",
       "    </tr>\n",
       "    <tr>\n",
       "      <th>11</th>\n",
       "      <td>62 days</td>\n",
       "      <td>1</td>\n",
       "      <td>0.091786</td>\n",
       "    </tr>\n",
       "    <tr>\n",
       "      <th>12</th>\n",
       "      <td>89 days</td>\n",
       "      <td>0</td>\n",
       "      <td>0.869565</td>\n",
       "    </tr>\n",
       "    <tr>\n",
       "      <th>13</th>\n",
       "      <td>89 days</td>\n",
       "      <td>1</td>\n",
       "      <td>0.130435</td>\n",
       "    </tr>\n",
       "    <tr>\n",
       "      <th>14</th>\n",
       "      <td>90 days</td>\n",
       "      <td>0</td>\n",
       "      <td>0.953488</td>\n",
       "    </tr>\n",
       "    <tr>\n",
       "      <th>15</th>\n",
       "      <td>90 days</td>\n",
       "      <td>1</td>\n",
       "      <td>0.046512</td>\n",
       "    </tr>\n",
       "    <tr>\n",
       "      <th>16</th>\n",
       "      <td>91 days</td>\n",
       "      <td>0</td>\n",
       "      <td>0.906049</td>\n",
       "    </tr>\n",
       "    <tr>\n",
       "      <th>17</th>\n",
       "      <td>91 days</td>\n",
       "      <td>1</td>\n",
       "      <td>0.093951</td>\n",
       "    </tr>\n",
       "    <tr>\n",
       "      <th>18</th>\n",
       "      <td>92 days</td>\n",
       "      <td>0</td>\n",
       "      <td>0.904762</td>\n",
       "    </tr>\n",
       "    <tr>\n",
       "      <th>19</th>\n",
       "      <td>92 days</td>\n",
       "      <td>1</td>\n",
       "      <td>0.095238</td>\n",
       "    </tr>\n",
       "  </tbody>\n",
       "</table>\n",
       "</div>"
      ],
      "text/plain": [
       "   date_diff  Default         0\n",
       "0     0 days        0  1.000000\n",
       "1    28 days        0  1.000000\n",
       "2    30 days        0  0.906958\n",
       "3    30 days        1  0.093042\n",
       "4    31 days        0  0.910679\n",
       "5    31 days        1  0.089321\n",
       "6    59 days        0  0.926829\n",
       "7    59 days        1  0.073171\n",
       "8    61 days        0  0.910268\n",
       "9    61 days        1  0.089732\n",
       "10   62 days        0  0.908214\n",
       "11   62 days        1  0.091786\n",
       "12   89 days        0  0.869565\n",
       "13   89 days        1  0.130435\n",
       "14   90 days        0  0.953488\n",
       "15   90 days        1  0.046512\n",
       "16   91 days        0  0.906049\n",
       "17   91 days        1  0.093951\n",
       "18   92 days        0  0.904762\n",
       "19   92 days        1  0.095238"
      ]
     },
     "execution_count": 33,
     "metadata": {},
     "output_type": "execute_result"
    }
   ],
   "source": [
    "diff1=diff_def_percent.groupby(level=[0]).apply(lambda x:x/x.sum()).reset_index()\n",
    "diff1"
   ]
  },
  {
   "cell_type": "code",
   "execution_count": 34,
   "metadata": {},
   "outputs": [
    {
     "data": {
      "text/html": [
       "<div>\n",
       "<style scoped>\n",
       "    .dataframe tbody tr th:only-of-type {\n",
       "        vertical-align: middle;\n",
       "    }\n",
       "\n",
       "    .dataframe tbody tr th {\n",
       "        vertical-align: top;\n",
       "    }\n",
       "\n",
       "    .dataframe thead th {\n",
       "        text-align: right;\n",
       "    }\n",
       "</style>\n",
       "<table border=\"1\" class=\"dataframe\">\n",
       "  <thead>\n",
       "    <tr style=\"text-align: right;\">\n",
       "      <th></th>\n",
       "      <th>date_diff</th>\n",
       "      <th>Default</th>\n",
       "      <th>0</th>\n",
       "    </tr>\n",
       "  </thead>\n",
       "  <tbody>\n",
       "    <tr>\n",
       "      <th>3</th>\n",
       "      <td>30 days</td>\n",
       "      <td>1</td>\n",
       "      <td>0.093042</td>\n",
       "    </tr>\n",
       "    <tr>\n",
       "      <th>5</th>\n",
       "      <td>31 days</td>\n",
       "      <td>1</td>\n",
       "      <td>0.089321</td>\n",
       "    </tr>\n",
       "    <tr>\n",
       "      <th>7</th>\n",
       "      <td>59 days</td>\n",
       "      <td>1</td>\n",
       "      <td>0.073171</td>\n",
       "    </tr>\n",
       "    <tr>\n",
       "      <th>9</th>\n",
       "      <td>61 days</td>\n",
       "      <td>1</td>\n",
       "      <td>0.089732</td>\n",
       "    </tr>\n",
       "    <tr>\n",
       "      <th>11</th>\n",
       "      <td>62 days</td>\n",
       "      <td>1</td>\n",
       "      <td>0.091786</td>\n",
       "    </tr>\n",
       "    <tr>\n",
       "      <th>13</th>\n",
       "      <td>89 days</td>\n",
       "      <td>1</td>\n",
       "      <td>0.130435</td>\n",
       "    </tr>\n",
       "    <tr>\n",
       "      <th>15</th>\n",
       "      <td>90 days</td>\n",
       "      <td>1</td>\n",
       "      <td>0.046512</td>\n",
       "    </tr>\n",
       "    <tr>\n",
       "      <th>17</th>\n",
       "      <td>91 days</td>\n",
       "      <td>1</td>\n",
       "      <td>0.093951</td>\n",
       "    </tr>\n",
       "    <tr>\n",
       "      <th>19</th>\n",
       "      <td>92 days</td>\n",
       "      <td>1</td>\n",
       "      <td>0.095238</td>\n",
       "    </tr>\n",
       "  </tbody>\n",
       "</table>\n",
       "</div>"
      ],
      "text/plain": [
       "   date_diff  Default         0\n",
       "3    30 days        1  0.093042\n",
       "5    31 days        1  0.089321\n",
       "7    59 days        1  0.073171\n",
       "9    61 days        1  0.089732\n",
       "11   62 days        1  0.091786\n",
       "13   89 days        1  0.130435\n",
       "15   90 days        1  0.046512\n",
       "17   91 days        1  0.093951\n",
       "19   92 days        1  0.095238"
      ]
     },
     "execution_count": 34,
     "metadata": {},
     "output_type": "execute_result"
    }
   ],
   "source": [
    "diff1[diff1[\"Default\"]==1]"
   ]
  },
  {
   "cell_type": "markdown",
   "metadata": {},
   "source": [
    "# most of defaulters are happeing who paid first payment amount close to 90 days"
   ]
  },
  {
   "cell_type": "code",
   "execution_count": 35,
   "metadata": {},
   "outputs": [
    {
     "data": {
      "text/plain": [
       "(391200, 27)"
      ]
     },
     "execution_count": 35,
     "metadata": {},
     "output_type": "execute_result"
    }
   ],
   "source": [
    "# removing the 9 records because of origination date and first payment date are the same\n",
    "acq_perf1=acq_perf[acq_perf[\"date_diff\"]!='0 days'].copy()\n",
    "acq_perf1.shape"
   ]
  },
  {
   "cell_type": "code",
   "execution_count": 36,
   "metadata": {},
   "outputs": [],
   "source": [
    "# dropping the orignation date,first payment and date diff\n",
    "acq_perf1.drop([\"date_diff\",\"OrDate\",\"FirstPayment\"],axis=1,inplace=True)"
   ]
  },
  {
   "cell_type": "code",
   "execution_count": 37,
   "metadata": {},
   "outputs": [
    {
     "data": {
      "text/plain": [
       "0    355976\n",
       "1     35224\n",
       "Name: Default, dtype: int64"
      ]
     },
     "execution_count": 37,
     "metadata": {},
     "output_type": "execute_result"
    }
   ],
   "source": [
    "acq_perf1[\"Default\"].value_counts()"
   ]
  },
  {
   "cell_type": "code",
   "execution_count": 38,
   "metadata": {},
   "outputs": [
    {
     "data": {
      "text/plain": [
       "<matplotlib.axes._subplots.AxesSubplot at 0x18f80971390>"
      ]
     },
     "execution_count": 38,
     "metadata": {},
     "output_type": "execute_result"
    },
    {
     "data": {
      "image/png": "[encoded data removed]",
      "text/plain": [
       "<Figure size 432x288 with 1 Axes>"
      ]
     },
     "metadata": {
      "needs_background": "light"
     },
     "output_type": "display_data"
    }
   ],
   "source": [
    "sns.countplot(acq_perf1[\"Default\"])\n",
    "# 9% of defaulters are in given dataset"
   ]
  },
  {
   "cell_type": "code",
   "execution_count": 39,
   "metadata": {},
   "outputs": [
    {
     "data": {
      "text/plain": [
       "LoanID            391200\n",
       "Channel                3\n",
       "SellerName            14\n",
       "OrInterestRate       528\n",
       "OrUnpaidPrinc        649\n",
       "OrLoanTerm           140\n",
       "OrLTV                 97\n",
       "OrCLTV               120\n",
       "NumBorrow              9\n",
       "DTIRat                64\n",
       "CreditScore          386\n",
       "FTHomeBuyer            3\n",
       "LoanPurpose            3\n",
       "PropertyType           5\n",
       "NumUnits               4\n",
       "OccStatus              3\n",
       "PropertyState         54\n",
       "Zip                  893\n",
       "MortInsPerc           18\n",
       "ProductType            1\n",
       "CoCreditScore        359\n",
       "MortInsType            2\n",
       "RelMortInd             2\n",
       "Default                2\n",
       "dtype: int64"
      ]
     },
     "execution_count": 39,
     "metadata": {},
     "output_type": "execute_result"
    }
   ],
   "source": [
    "# identifying the unique levels of a given data\n",
    "acq_perf1.nunique() # number of unique levels for each columns"
   ]
  },
  {
   "cell_type": "code",
   "execution_count": 40,
   "metadata": {},
   "outputs": [
    {
     "data": {
      "text/plain": [
       "FRM    391200\n",
       "Name: ProductType, dtype: int64"
      ]
     },
     "execution_count": 40,
     "metadata": {},
     "output_type": "execute_result"
    }
   ],
   "source": [
    "# produce the counts for product type variable\n",
    "acq_perf1[\"ProductType\"].value_counts()"
   ]
  },
  {
   "cell_type": "code",
   "execution_count": 41,
   "metadata": {},
   "outputs": [],
   "source": [
    "# idenfitying the defaulter for the product of FRM--- Fixed rate mortgage"
   ]
  },
  {
   "cell_type": "code",
   "execution_count": 42,
   "metadata": {},
   "outputs": [],
   "source": [
    "# product type is having only one unique level for all records so that we are dropping product type variable\n",
    "acq_perf1.drop([\"ProductType\"],axis=1,inplace=True)"
   ]
  },
  {
   "cell_type": "code",
   "execution_count": 43,
   "metadata": {},
   "outputs": [
    {
     "data": {
      "text/plain": [
       "(391200, 23)"
      ]
     },
     "execution_count": 43,
     "metadata": {},
     "output_type": "execute_result"
    }
   ],
   "source": [
    "acq_perf1.shape"
   ]
  },
  {
   "cell_type": "code",
   "execution_count": 44,
   "metadata": {},
   "outputs": [
    {
     "data": {
      "text/plain": [
       "Index(['LoanID', 'Channel', 'SellerName', 'OrInterestRate', 'OrUnpaidPrinc',\n",
       "       'OrLoanTerm', 'OrLTV', 'OrCLTV', 'NumBorrow', 'DTIRat', 'CreditScore',\n",
       "       'FTHomeBuyer', 'LoanPurpose', 'PropertyType', 'NumUnits', 'OccStatus',\n",
       "       'PropertyState', 'Zip', 'MortInsPerc', 'CoCreditScore', 'MortInsType',\n",
       "       'RelMortInd', 'Default'],\n",
       "      dtype='object')"
      ]
     },
     "execution_count": 44,
     "metadata": {},
     "output_type": "execute_result"
    }
   ],
   "source": [
    "acq_perf1.columns"
   ]
  },
  {
   "cell_type": "code",
   "execution_count": 45,
   "metadata": {},
   "outputs": [],
   "source": [
    "# drop the PII(personal identification information) should not use in the analysis\n",
    "acq_perf1.drop([\"LoanID\",\"PropertyState\",\"Zip\"],axis=1,inplace=True)"
   ]
  },
  {
   "cell_type": "code",
   "execution_count": 46,
   "metadata": {},
   "outputs": [
    {
     "data": {
      "text/plain": [
       "Index(['Channel', 'SellerName', 'OrInterestRate', 'OrUnpaidPrinc',\n",
       "       'OrLoanTerm', 'OrLTV', 'OrCLTV', 'NumBorrow', 'DTIRat', 'CreditScore',\n",
       "       'FTHomeBuyer', 'LoanPurpose', 'PropertyType', 'NumUnits', 'OccStatus',\n",
       "       'MortInsPerc', 'CoCreditScore', 'MortInsType', 'RelMortInd', 'Default'],\n",
       "      dtype='object')"
      ]
     },
     "execution_count": 46,
     "metadata": {},
     "output_type": "execute_result"
    }
   ],
   "source": [
    "acq_perf1.columns"
   ]
  },
  {
   "cell_type": "markdown",
   "metadata": {},
   "source": [
    "# Is there any customers who have taken real estate loan???\n"
   ]
  },
  {
   "cell_type": "code",
   "execution_count": 47,
   "metadata": {},
   "outputs": [
    {
     "data": {
      "text/plain": [
       "N    99.520194\n",
       "Y     0.479806\n",
       "Name: RelMortInd, dtype: float64"
      ]
     },
     "execution_count": 47,
     "metadata": {},
     "output_type": "execute_result"
    }
   ],
   "source": [
    "acq_perf1[\"RelMortInd\"].value_counts()/len(acq_perf1)*100"
   ]
  },
  {
   "cell_type": "markdown",
   "metadata": {},
   "source": [
    "# 0.5% of total customers which are real estimate, we can not perfrom same analysis for business loans and resedentail loans we have to drop real estimate loans\n"
   ]
  },
  {
   "cell_type": "code",
   "execution_count": 48,
   "metadata": {},
   "outputs": [
    {
     "data": {
      "text/html": [
       "<div>\n",
       "<style scoped>\n",
       "    .dataframe tbody tr th:only-of-type {\n",
       "        vertical-align: middle;\n",
       "    }\n",
       "\n",
       "    .dataframe tbody tr th {\n",
       "        vertical-align: top;\n",
       "    }\n",
       "\n",
       "    .dataframe thead th {\n",
       "        text-align: right;\n",
       "    }\n",
       "</style>\n",
       "<table border=\"1\" class=\"dataframe\">\n",
       "  <thead>\n",
       "    <tr style=\"text-align: right;\">\n",
       "      <th>Default</th>\n",
       "      <th>0</th>\n",
       "      <th>1</th>\n",
       "    </tr>\n",
       "    <tr>\n",
       "      <th>RelMortInd</th>\n",
       "      <th></th>\n",
       "      <th></th>\n",
       "    </tr>\n",
       "  </thead>\n",
       "  <tbody>\n",
       "    <tr>\n",
       "      <th>N</th>\n",
       "      <td>354179</td>\n",
       "      <td>35144</td>\n",
       "    </tr>\n",
       "    <tr>\n",
       "      <th>Y</th>\n",
       "      <td>1797</td>\n",
       "      <td>80</td>\n",
       "    </tr>\n",
       "  </tbody>\n",
       "</table>\n",
       "</div>"
      ],
      "text/plain": [
       "Default          0      1\n",
       "RelMortInd               \n",
       "N           354179  35144\n",
       "Y             1797     80"
      ]
     },
     "execution_count": 48,
     "metadata": {},
     "output_type": "execute_result"
    }
   ],
   "source": [
    "pd.crosstab(acq_perf1[\"RelMortInd\"],acq_perf1[\"Default\"])"
   ]
  },
  {
   "cell_type": "markdown",
   "metadata": {},
   "source": [
    "# defaulters are not same for resedential customers and business customers, if we keep business customer into indivdiual customers data it may cause bias ness so model may not be stable\n"
   ]
  },
  {
   "cell_type": "markdown",
   "metadata": {},
   "source": [
    "# defaulter rate for individual customers --- 9%\n",
    "# default rate for business customers ---- 4.26%"
   ]
  },
  {
   "cell_type": "code",
   "execution_count": 49,
   "metadata": {},
   "outputs": [
    {
     "name": "stdout",
     "output_type": "stream",
     "text": [
      "(389323, 20) (1877, 20)\n"
     ]
    }
   ],
   "source": [
    "acq_perf2=acq_perf1[acq_perf1[\"RelMortInd\"]==\"N\"].copy()\n",
    "entity_cust=acq_perf1[acq_perf1[\"RelMortInd\"]==\"Y\"].copy()\n",
    "print(acq_perf2.shape,entity_cust.shape)"
   ]
  },
  {
   "cell_type": "code",
   "execution_count": 50,
   "metadata": {},
   "outputs": [
    {
     "data": {
      "text/plain": [
       "Index(['Channel', 'SellerName', 'OrInterestRate', 'OrUnpaidPrinc',\n",
       "       'OrLoanTerm', 'OrLTV', 'OrCLTV', 'NumBorrow', 'DTIRat', 'CreditScore',\n",
       "       'FTHomeBuyer', 'LoanPurpose', 'PropertyType', 'NumUnits', 'OccStatus',\n",
       "       'MortInsPerc', 'CoCreditScore', 'MortInsType', 'RelMortInd', 'Default'],\n",
       "      dtype='object')"
      ]
     },
     "execution_count": 50,
     "metadata": {},
     "output_type": "execute_result"
    }
   ],
   "source": [
    "acq_perf2.columns"
   ]
  },
  {
   "cell_type": "code",
   "execution_count": 51,
   "metadata": {},
   "outputs": [
    {
     "data": {
      "text/plain": [
       "N    389323\n",
       "Name: RelMortInd, dtype: int64"
      ]
     },
     "execution_count": 51,
     "metadata": {},
     "output_type": "execute_result"
    }
   ],
   "source": [
    "acq_perf2[\"RelMortInd\"].value_counts()"
   ]
  },
  {
   "cell_type": "code",
   "execution_count": 52,
   "metadata": {},
   "outputs": [],
   "source": [
    "acq_perf2.drop([\"RelMortInd\"],axis=1,inplace=True)"
   ]
  },
  {
   "cell_type": "code",
   "execution_count": 53,
   "metadata": {},
   "outputs": [
    {
     "data": {
      "text/plain": [
       "Index(['Channel', 'SellerName', 'OrInterestRate', 'OrUnpaidPrinc',\n",
       "       'OrLoanTerm', 'OrLTV', 'OrCLTV', 'NumBorrow', 'DTIRat', 'CreditScore',\n",
       "       'FTHomeBuyer', 'LoanPurpose', 'PropertyType', 'NumUnits', 'OccStatus',\n",
       "       'MortInsPerc', 'CoCreditScore', 'MortInsType', 'Default'],\n",
       "      dtype='object')"
      ]
     },
     "execution_count": 53,
     "metadata": {},
     "output_type": "execute_result"
    }
   ],
   "source": [
    "acq_perf2.columns"
   ]
  },
  {
   "cell_type": "code",
   "execution_count": 54,
   "metadata": {},
   "outputs": [
    {
     "data": {
      "text/html": [
       "<div>\n",
       "<style scoped>\n",
       "    .dataframe tbody tr th:only-of-type {\n",
       "        vertical-align: middle;\n",
       "    }\n",
       "\n",
       "    .dataframe tbody tr th {\n",
       "        vertical-align: top;\n",
       "    }\n",
       "\n",
       "    .dataframe thead th {\n",
       "        text-align: right;\n",
       "    }\n",
       "</style>\n",
       "<table border=\"1\" class=\"dataframe\">\n",
       "  <thead>\n",
       "    <tr style=\"text-align: right;\">\n",
       "      <th></th>\n",
       "      <th>Channel</th>\n",
       "      <th>SellerName</th>\n",
       "      <th>OrInterestRate</th>\n",
       "      <th>OrUnpaidPrinc</th>\n",
       "      <th>OrLoanTerm</th>\n",
       "      <th>OrLTV</th>\n",
       "      <th>OrCLTV</th>\n",
       "      <th>NumBorrow</th>\n",
       "      <th>DTIRat</th>\n",
       "      <th>CreditScore</th>\n",
       "      <th>FTHomeBuyer</th>\n",
       "      <th>LoanPurpose</th>\n",
       "      <th>PropertyType</th>\n",
       "      <th>NumUnits</th>\n",
       "      <th>OccStatus</th>\n",
       "      <th>MortInsPerc</th>\n",
       "      <th>CoCreditScore</th>\n",
       "      <th>MortInsType</th>\n",
       "      <th>Default</th>\n",
       "    </tr>\n",
       "  </thead>\n",
       "  <tbody>\n",
       "  </tbody>\n",
       "</table>\n",
       "</div>"
      ],
      "text/plain": [
       "Empty DataFrame\n",
       "Columns: [Channel, SellerName, OrInterestRate, OrUnpaidPrinc, OrLoanTerm, OrLTV, OrCLTV, NumBorrow, DTIRat, CreditScore, FTHomeBuyer, LoanPurpose, PropertyType, NumUnits, OccStatus, MortInsPerc, CoCreditScore, MortInsType, Default]\n",
       "Index: []"
      ]
     },
     "execution_count": 54,
     "metadata": {},
     "output_type": "execute_result"
    }
   ],
   "source": [
    "acq_perf2[acq_perf2['OrUnpaidPrinc']<=0]"
   ]
  },
  {
   "cell_type": "code",
   "execution_count": 55,
   "metadata": {},
   "outputs": [
    {
     "data": {
      "text/plain": [
       "C    42.622963\n",
       "R    38.380471\n",
       "B    18.996566\n",
       "Name: Channel, dtype: float64"
      ]
     },
     "execution_count": 55,
     "metadata": {},
     "output_type": "execute_result"
    }
   ],
   "source": [
    "acq_perf2[\"Channel\"].value_counts()/len(acq_perf2)*100"
   ]
  },
  {
   "cell_type": "code",
   "execution_count": 56,
   "metadata": {},
   "outputs": [],
   "source": [
    "# R- nationalized banks-Govt banks for example : SBI, PNB\n",
    "# C-corporate banks--private banks for example : HDFC,ICICI\n",
    "# B- brokarage banks-3rd party-- directly bank does not exist-- LIC, bajaj finace\n",
    "\n",
    "# almost 82% of loans are providing by national banks and private banks"
   ]
  },
  {
   "cell_type": "code",
   "execution_count": 57,
   "metadata": {},
   "outputs": [
    {
     "data": {
      "text/html": [
       "<div>\n",
       "<style scoped>\n",
       "    .dataframe tbody tr th:only-of-type {\n",
       "        vertical-align: middle;\n",
       "    }\n",
       "\n",
       "    .dataframe tbody tr th {\n",
       "        vertical-align: top;\n",
       "    }\n",
       "\n",
       "    .dataframe thead th {\n",
       "        text-align: right;\n",
       "    }\n",
       "</style>\n",
       "<table border=\"1\" class=\"dataframe\">\n",
       "  <thead>\n",
       "    <tr style=\"text-align: right;\">\n",
       "      <th>Default</th>\n",
       "      <th>0</th>\n",
       "      <th>1</th>\n",
       "    </tr>\n",
       "    <tr>\n",
       "      <th>Channel</th>\n",
       "      <th></th>\n",
       "      <th></th>\n",
       "    </tr>\n",
       "  </thead>\n",
       "  <tbody>\n",
       "    <tr>\n",
       "      <th>B</th>\n",
       "      <td>64142</td>\n",
       "      <td>9816</td>\n",
       "    </tr>\n",
       "    <tr>\n",
       "      <th>C</th>\n",
       "      <td>151858</td>\n",
       "      <td>14083</td>\n",
       "    </tr>\n",
       "    <tr>\n",
       "      <th>R</th>\n",
       "      <td>138179</td>\n",
       "      <td>11245</td>\n",
       "    </tr>\n",
       "  </tbody>\n",
       "</table>\n",
       "</div>"
      ],
      "text/plain": [
       "Default       0      1\n",
       "Channel               \n",
       "B         64142   9816\n",
       "C        151858  14083\n",
       "R        138179  11245"
      ]
     },
     "execution_count": 57,
     "metadata": {},
     "output_type": "execute_result"
    }
   ],
   "source": [
    "pd.crosstab(acq_perf2[\"Channel\"],acq_perf2[\"Default\"])"
   ]
  },
  {
   "cell_type": "markdown",
   "metadata": {},
   "source": [
    "# insgihts: 13.2% of default rate for 3rd party loan provide almost all it is double to remaining defaulter"
   ]
  },
  {
   "cell_type": "code",
   "execution_count": 58,
   "metadata": {},
   "outputs": [
    {
     "data": {
      "text/plain": [
       "BANK OF AMERICA, N.A.                        111546\n",
       "OTHER                                         58448\n",
       "JPMORGAN CHASE BANK, NATIONAL ASSOCIATION     39196\n",
       "CITIMORTGAGE, INC.                            36649\n",
       "WELLS FARGO BANK, N.A.                        29121\n",
       "PNC BANK, N.A.                                27358\n",
       "GMAC MORTGAGE, LLC                            22390\n",
       "SUNTRUST MORTGAGE INC.                        15948\n",
       "FLAGSTAR CAPITAL MARKETS CORPORATION          13248\n",
       "AMTRUST BANK                                  11040\n",
       "FDIC, RECEIVER, INDYMAC FEDERAL BANK FSB       9328\n",
       "FIRST TENNESSEE BANK NATIONAL ASSOCIATION      7684\n",
       "CHASE HOME FINANCE, LLC                        6830\n",
       "HSBC BANK USA, NATIONAL ASSOCIATION             537\n",
       "Name: SellerName, dtype: int64"
      ]
     },
     "execution_count": 58,
     "metadata": {},
     "output_type": "execute_result"
    }
   ],
   "source": [
    "acq_perf2[\"SellerName\"].value_counts()"
   ]
  },
  {
   "cell_type": "code",
   "execution_count": 59,
   "metadata": {
    "scrolled": true
   },
   "outputs": [
    {
     "data": {
      "text/html": [
       "<div>\n",
       "<style scoped>\n",
       "    .dataframe tbody tr th:only-of-type {\n",
       "        vertical-align: middle;\n",
       "    }\n",
       "\n",
       "    .dataframe tbody tr th {\n",
       "        vertical-align: top;\n",
       "    }\n",
       "\n",
       "    .dataframe thead th {\n",
       "        text-align: right;\n",
       "    }\n",
       "</style>\n",
       "<table border=\"1\" class=\"dataframe\">\n",
       "  <thead>\n",
       "    <tr style=\"text-align: right;\">\n",
       "      <th>Channel</th>\n",
       "      <th>B</th>\n",
       "      <th>C</th>\n",
       "      <th>R</th>\n",
       "    </tr>\n",
       "    <tr>\n",
       "      <th>SellerName</th>\n",
       "      <th></th>\n",
       "      <th></th>\n",
       "      <th></th>\n",
       "    </tr>\n",
       "  </thead>\n",
       "  <tbody>\n",
       "    <tr>\n",
       "      <th>AMTRUST BANK</th>\n",
       "      <td>3580</td>\n",
       "      <td>7366</td>\n",
       "      <td>94</td>\n",
       "    </tr>\n",
       "    <tr>\n",
       "      <th>BANK OF AMERICA, N.A.</th>\n",
       "      <td>14131</td>\n",
       "      <td>62538</td>\n",
       "      <td>34877</td>\n",
       "    </tr>\n",
       "    <tr>\n",
       "      <th>CHASE HOME FINANCE, LLC</th>\n",
       "      <td>3535</td>\n",
       "      <td>483</td>\n",
       "      <td>2812</td>\n",
       "    </tr>\n",
       "    <tr>\n",
       "      <th>CITIMORTGAGE, INC.</th>\n",
       "      <td>4575</td>\n",
       "      <td>27337</td>\n",
       "      <td>4737</td>\n",
       "    </tr>\n",
       "    <tr>\n",
       "      <th>FDIC, RECEIVER, INDYMAC FEDERAL BANK FSB</th>\n",
       "      <td>5127</td>\n",
       "      <td>1718</td>\n",
       "      <td>2483</td>\n",
       "    </tr>\n",
       "    <tr>\n",
       "      <th>FIRST TENNESSEE BANK NATIONAL ASSOCIATION</th>\n",
       "      <td>3332</td>\n",
       "      <td>7</td>\n",
       "      <td>4345</td>\n",
       "    </tr>\n",
       "    <tr>\n",
       "      <th>FLAGSTAR CAPITAL MARKETS CORPORATION</th>\n",
       "      <td>6241</td>\n",
       "      <td>5893</td>\n",
       "      <td>1114</td>\n",
       "    </tr>\n",
       "    <tr>\n",
       "      <th>GMAC MORTGAGE, LLC</th>\n",
       "      <td>539</td>\n",
       "      <td>14183</td>\n",
       "      <td>7668</td>\n",
       "    </tr>\n",
       "    <tr>\n",
       "      <th>HSBC BANK USA, NATIONAL ASSOCIATION</th>\n",
       "      <td>272</td>\n",
       "      <td>36</td>\n",
       "      <td>229</td>\n",
       "    </tr>\n",
       "    <tr>\n",
       "      <th>JPMORGAN CHASE BANK, NATIONAL ASSOCIATION</th>\n",
       "      <td>7031</td>\n",
       "      <td>14643</td>\n",
       "      <td>17522</td>\n",
       "    </tr>\n",
       "    <tr>\n",
       "      <th>OTHER</th>\n",
       "      <td>7211</td>\n",
       "      <td>7612</td>\n",
       "      <td>43625</td>\n",
       "    </tr>\n",
       "    <tr>\n",
       "      <th>PNC BANK, N.A.</th>\n",
       "      <td>8836</td>\n",
       "      <td>4341</td>\n",
       "      <td>14181</td>\n",
       "    </tr>\n",
       "    <tr>\n",
       "      <th>SUNTRUST MORTGAGE INC.</th>\n",
       "      <td>5289</td>\n",
       "      <td>4203</td>\n",
       "      <td>6456</td>\n",
       "    </tr>\n",
       "    <tr>\n",
       "      <th>WELLS FARGO BANK, N.A.</th>\n",
       "      <td>4259</td>\n",
       "      <td>15581</td>\n",
       "      <td>9281</td>\n",
       "    </tr>\n",
       "  </tbody>\n",
       "</table>\n",
       "</div>"
      ],
      "text/plain": [
       "Channel                                        B      C      R\n",
       "SellerName                                                    \n",
       "AMTRUST BANK                                3580   7366     94\n",
       "BANK OF AMERICA, N.A.                      14131  62538  34877\n",
       "CHASE HOME FINANCE, LLC                     3535    483   2812\n",
       "CITIMORTGAGE, INC.                          4575  27337   4737\n",
       "FDIC, RECEIVER, INDYMAC FEDERAL BANK FSB    5127   1718   2483\n",
       "FIRST TENNESSEE BANK NATIONAL ASSOCIATION   3332      7   4345\n",
       "FLAGSTAR CAPITAL MARKETS CORPORATION        6241   5893   1114\n",
       "GMAC MORTGAGE, LLC                           539  14183   7668\n",
       "HSBC BANK USA, NATIONAL ASSOCIATION          272     36    229\n",
       "JPMORGAN CHASE BANK, NATIONAL ASSOCIATION   7031  14643  17522\n",
       "OTHER                                       7211   7612  43625\n",
       "PNC BANK, N.A.                              8836   4341  14181\n",
       "SUNTRUST MORTGAGE INC.                      5289   4203   6456\n",
       "WELLS FARGO BANK, N.A.                      4259  15581   9281"
      ]
     },
     "execution_count": 59,
     "metadata": {},
     "output_type": "execute_result"
    }
   ],
   "source": [
    "pd.crosstab(acq_perf2[\"SellerName\"],acq_perf2[\"Channel\"])"
   ]
  },
  {
   "cell_type": "code",
   "execution_count": 60,
   "metadata": {},
   "outputs": [],
   "source": [
    "sell_count=acq_perf2[[\"SellerName\",\"Default\"]].groupby([\"SellerName\",\"Default\"]).size()"
   ]
  },
  {
   "cell_type": "code",
   "execution_count": 61,
   "metadata": {},
   "outputs": [],
   "source": [
    "sell_percent=sell_count.groupby(level=[0]).apply(lambda x:x/x.sum()).reset_index()"
   ]
  },
  {
   "cell_type": "code",
   "execution_count": 62,
   "metadata": {},
   "outputs": [
    {
     "data": {
      "text/html": [
       "<div>\n",
       "<style scoped>\n",
       "    .dataframe tbody tr th:only-of-type {\n",
       "        vertical-align: middle;\n",
       "    }\n",
       "\n",
       "    .dataframe tbody tr th {\n",
       "        vertical-align: top;\n",
       "    }\n",
       "\n",
       "    .dataframe thead th {\n",
       "        text-align: right;\n",
       "    }\n",
       "</style>\n",
       "<table border=\"1\" class=\"dataframe\">\n",
       "  <thead>\n",
       "    <tr style=\"text-align: right;\">\n",
       "      <th></th>\n",
       "      <th>SellerName</th>\n",
       "      <th>Default</th>\n",
       "      <th>0</th>\n",
       "    </tr>\n",
       "  </thead>\n",
       "  <tbody>\n",
       "    <tr>\n",
       "      <th>1</th>\n",
       "      <td>AMTRUST BANK</td>\n",
       "      <td>1</td>\n",
       "      <td>0.090217</td>\n",
       "    </tr>\n",
       "    <tr>\n",
       "      <th>3</th>\n",
       "      <td>BANK OF AMERICA, N.A.</td>\n",
       "      <td>1</td>\n",
       "      <td>0.110959</td>\n",
       "    </tr>\n",
       "    <tr>\n",
       "      <th>5</th>\n",
       "      <td>CHASE HOME FINANCE, LLC</td>\n",
       "      <td>1</td>\n",
       "      <td>0.089605</td>\n",
       "    </tr>\n",
       "    <tr>\n",
       "      <th>7</th>\n",
       "      <td>CITIMORTGAGE, INC.</td>\n",
       "      <td>1</td>\n",
       "      <td>0.088324</td>\n",
       "    </tr>\n",
       "    <tr>\n",
       "      <th>9</th>\n",
       "      <td>FDIC, RECEIVER, INDYMAC FEDERAL BANK FSB</td>\n",
       "      <td>1</td>\n",
       "      <td>0.174636</td>\n",
       "    </tr>\n",
       "    <tr>\n",
       "      <th>11</th>\n",
       "      <td>FIRST TENNESSEE BANK NATIONAL ASSOCIATION</td>\n",
       "      <td>1</td>\n",
       "      <td>0.080817</td>\n",
       "    </tr>\n",
       "    <tr>\n",
       "      <th>13</th>\n",
       "      <td>FLAGSTAR CAPITAL MARKETS CORPORATION</td>\n",
       "      <td>1</td>\n",
       "      <td>0.109601</td>\n",
       "    </tr>\n",
       "    <tr>\n",
       "      <th>15</th>\n",
       "      <td>GMAC MORTGAGE, LLC</td>\n",
       "      <td>1</td>\n",
       "      <td>0.095266</td>\n",
       "    </tr>\n",
       "    <tr>\n",
       "      <th>17</th>\n",
       "      <td>HSBC BANK USA, NATIONAL ASSOCIATION</td>\n",
       "      <td>1</td>\n",
       "      <td>0.011173</td>\n",
       "    </tr>\n",
       "    <tr>\n",
       "      <th>19</th>\n",
       "      <td>JPMORGAN CHASE BANK, NATIONAL ASSOCIATION</td>\n",
       "      <td>1</td>\n",
       "      <td>0.062047</td>\n",
       "    </tr>\n",
       "    <tr>\n",
       "      <th>21</th>\n",
       "      <td>OTHER</td>\n",
       "      <td>1</td>\n",
       "      <td>0.055998</td>\n",
       "    </tr>\n",
       "    <tr>\n",
       "      <th>23</th>\n",
       "      <td>PNC BANK, N.A.</td>\n",
       "      <td>1</td>\n",
       "      <td>0.082535</td>\n",
       "    </tr>\n",
       "    <tr>\n",
       "      <th>25</th>\n",
       "      <td>SUNTRUST MORTGAGE INC.</td>\n",
       "      <td>1</td>\n",
       "      <td>0.113933</td>\n",
       "    </tr>\n",
       "    <tr>\n",
       "      <th>27</th>\n",
       "      <td>WELLS FARGO BANK, N.A.</td>\n",
       "      <td>1</td>\n",
       "      <td>0.079015</td>\n",
       "    </tr>\n",
       "  </tbody>\n",
       "</table>\n",
       "</div>"
      ],
      "text/plain": [
       "                                   SellerName  Default         0\n",
       "1                                AMTRUST BANK        1  0.090217\n",
       "3                       BANK OF AMERICA, N.A.        1  0.110959\n",
       "5                     CHASE HOME FINANCE, LLC        1  0.089605\n",
       "7                          CITIMORTGAGE, INC.        1  0.088324\n",
       "9    FDIC, RECEIVER, INDYMAC FEDERAL BANK FSB        1  0.174636\n",
       "11  FIRST TENNESSEE BANK NATIONAL ASSOCIATION        1  0.080817\n",
       "13       FLAGSTAR CAPITAL MARKETS CORPORATION        1  0.109601\n",
       "15                         GMAC MORTGAGE, LLC        1  0.095266\n",
       "17        HSBC BANK USA, NATIONAL ASSOCIATION        1  0.011173\n",
       "19  JPMORGAN CHASE BANK, NATIONAL ASSOCIATION        1  0.062047\n",
       "21                                      OTHER        1  0.055998\n",
       "23                             PNC BANK, N.A.        1  0.082535\n",
       "25                     SUNTRUST MORTGAGE INC.        1  0.113933\n",
       "27                     WELLS FARGO BANK, N.A.        1  0.079015"
      ]
     },
     "execution_count": 62,
     "metadata": {},
     "output_type": "execute_result"
    }
   ],
   "source": [
    "sell_percent[sell_percent[\"Default\"]==1]"
   ]
  },
  {
   "cell_type": "markdown",
   "metadata": {},
   "source": [
    "# seller name : FDIC, RECEIVER, INDYMAC FEDERAL BANK FSB\t 17% of customers are becoming defaulter"
   ]
  },
  {
   "cell_type": "code",
   "execution_count": 63,
   "metadata": {},
   "outputs": [
    {
     "data": {
      "text/plain": [
       "Index(['Channel', 'SellerName', 'OrInterestRate', 'OrUnpaidPrinc',\n",
       "       'OrLoanTerm', 'OrLTV', 'OrCLTV', 'NumBorrow', 'DTIRat', 'CreditScore',\n",
       "       'FTHomeBuyer', 'LoanPurpose', 'PropertyType', 'NumUnits', 'OccStatus',\n",
       "       'MortInsPerc', 'CoCreditScore', 'MortInsType', 'Default'],\n",
       "      dtype='object')"
      ]
     },
     "execution_count": 63,
     "metadata": {},
     "output_type": "execute_result"
    }
   ],
   "source": [
    "acq_perf2.columns"
   ]
  },
  {
   "cell_type": "code",
   "execution_count": 64,
   "metadata": {
    "scrolled": true
   },
   "outputs": [
    {
     "data": {
      "text/plain": [
       "2.0     51.131580\n",
       "1.0     48.324142\n",
       "3.0      0.408658\n",
       "4.0      0.130740\n",
       "6.0      0.001541\n",
       "5.0      0.001027\n",
       "7.0      0.000257\n",
       "10.0     0.000257\n",
       "8.0      0.000257\n",
       "Name: NumBorrow, dtype: float64"
      ]
     },
     "execution_count": 64,
     "metadata": {},
     "output_type": "execute_result"
    }
   ],
   "source": [
    "acq_perf2[\"NumBorrow\"].value_counts()/len(acq_perf2)*100"
   ]
  },
  {
   "cell_type": "markdown",
   "metadata": {},
   "source": [
    "# insights: 99% of customers are having maximum of two loans out that 48.3% customers are having only one loan and 51.13% of customers are having two loans"
   ]
  },
  {
   "cell_type": "code",
   "execution_count": 65,
   "metadata": {},
   "outputs": [
    {
     "data": {
      "text/plain": [
       "NumBorrow  Default\n",
       "1.0        0          166790\n",
       "           1           21347\n",
       "2.0        0          185408\n",
       "           1           13659\n",
       "3.0        0            1485\n",
       "           1             106\n",
       "4.0        0             479\n",
       "           1              30\n",
       "5.0        0               3\n",
       "           1               1\n",
       "6.0        0               6\n",
       "7.0        0               1\n",
       "8.0        0               1\n",
       "10.0       0               1\n",
       "dtype: int64"
      ]
     },
     "execution_count": 65,
     "metadata": {},
     "output_type": "execute_result"
    }
   ],
   "source": [
    "borr_count=acq_perf2[[\"NumBorrow\",\"Default\"]].groupby([\"NumBorrow\",\"Default\"]).size()\n",
    "borr_count"
   ]
  },
  {
   "cell_type": "code",
   "execution_count": 66,
   "metadata": {},
   "outputs": [
    {
     "data": {
      "text/html": [
       "<div>\n",
       "<style scoped>\n",
       "    .dataframe tbody tr th:only-of-type {\n",
       "        vertical-align: middle;\n",
       "    }\n",
       "\n",
       "    .dataframe tbody tr th {\n",
       "        vertical-align: top;\n",
       "    }\n",
       "\n",
       "    .dataframe thead th {\n",
       "        text-align: right;\n",
       "    }\n",
       "</style>\n",
       "<table border=\"1\" class=\"dataframe\">\n",
       "  <thead>\n",
       "    <tr style=\"text-align: right;\">\n",
       "      <th></th>\n",
       "      <th>NumBorrow</th>\n",
       "      <th>Default</th>\n",
       "      <th>0</th>\n",
       "    </tr>\n",
       "  </thead>\n",
       "  <tbody>\n",
       "    <tr>\n",
       "      <th>1</th>\n",
       "      <td>1.0</td>\n",
       "      <td>1</td>\n",
       "      <td>0.113465</td>\n",
       "    </tr>\n",
       "    <tr>\n",
       "      <th>3</th>\n",
       "      <td>2.0</td>\n",
       "      <td>1</td>\n",
       "      <td>0.068615</td>\n",
       "    </tr>\n",
       "    <tr>\n",
       "      <th>5</th>\n",
       "      <td>3.0</td>\n",
       "      <td>1</td>\n",
       "      <td>0.066625</td>\n",
       "    </tr>\n",
       "    <tr>\n",
       "      <th>7</th>\n",
       "      <td>4.0</td>\n",
       "      <td>1</td>\n",
       "      <td>0.058939</td>\n",
       "    </tr>\n",
       "    <tr>\n",
       "      <th>9</th>\n",
       "      <td>5.0</td>\n",
       "      <td>1</td>\n",
       "      <td>0.250000</td>\n",
       "    </tr>\n",
       "  </tbody>\n",
       "</table>\n",
       "</div>"
      ],
      "text/plain": [
       "   NumBorrow  Default         0\n",
       "1        1.0        1  0.113465\n",
       "3        2.0        1  0.068615\n",
       "5        3.0        1  0.066625\n",
       "7        4.0        1  0.058939\n",
       "9        5.0        1  0.250000"
      ]
     },
     "execution_count": 66,
     "metadata": {},
     "output_type": "execute_result"
    }
   ],
   "source": [
    "borr_percent=borr_count.groupby(level=[0]).apply(lambda x:x/x.sum()).reset_index()\n",
    "borr_percent[borr_percent[\"Default\"]==1]"
   ]
  },
  {
   "cell_type": "markdown",
   "metadata": {},
   "source": [
    "# Insights: 11% customers of defaulters are coming one loan id customers and more than 4 loans there are highly likely chance to become defaulter"
   ]
  },
  {
   "cell_type": "code",
   "execution_count": 67,
   "metadata": {},
   "outputs": [
    {
     "data": {
      "text/html": [
       "<div>\n",
       "<style scoped>\n",
       "    .dataframe tbody tr th:only-of-type {\n",
       "        vertical-align: middle;\n",
       "    }\n",
       "\n",
       "    .dataframe tbody tr th {\n",
       "        vertical-align: top;\n",
       "    }\n",
       "\n",
       "    .dataframe thead th {\n",
       "        text-align: right;\n",
       "    }\n",
       "</style>\n",
       "<table border=\"1\" class=\"dataframe\">\n",
       "  <thead>\n",
       "    <tr style=\"text-align: right;\">\n",
       "      <th></th>\n",
       "      <th>NumBorrow</th>\n",
       "      <th>OrUnpaidPrinc</th>\n",
       "    </tr>\n",
       "    <tr>\n",
       "      <th>NumBorrow</th>\n",
       "      <th></th>\n",
       "      <th></th>\n",
       "    </tr>\n",
       "  </thead>\n",
       "  <tbody>\n",
       "    <tr>\n",
       "      <th>1.0</th>\n",
       "      <td>188137.0</td>\n",
       "      <td>33891591000</td>\n",
       "    </tr>\n",
       "    <tr>\n",
       "      <th>2.0</th>\n",
       "      <td>199067.0</td>\n",
       "      <td>42328354000</td>\n",
       "    </tr>\n",
       "    <tr>\n",
       "      <th>3.0</th>\n",
       "      <td>1591.0</td>\n",
       "      <td>387853000</td>\n",
       "    </tr>\n",
       "    <tr>\n",
       "      <th>4.0</th>\n",
       "      <td>509.0</td>\n",
       "      <td>126786000</td>\n",
       "    </tr>\n",
       "    <tr>\n",
       "      <th>5.0</th>\n",
       "      <td>4.0</td>\n",
       "      <td>1116000</td>\n",
       "    </tr>\n",
       "    <tr>\n",
       "      <th>6.0</th>\n",
       "      <td>6.0</td>\n",
       "      <td>2122000</td>\n",
       "    </tr>\n",
       "    <tr>\n",
       "      <th>7.0</th>\n",
       "      <td>1.0</td>\n",
       "      <td>83000</td>\n",
       "    </tr>\n",
       "    <tr>\n",
       "      <th>8.0</th>\n",
       "      <td>1.0</td>\n",
       "      <td>356000</td>\n",
       "    </tr>\n",
       "    <tr>\n",
       "      <th>10.0</th>\n",
       "      <td>1.0</td>\n",
       "      <td>351000</td>\n",
       "    </tr>\n",
       "  </tbody>\n",
       "</table>\n",
       "</div>"
      ],
      "text/plain": [
       "           NumBorrow  OrUnpaidPrinc\n",
       "NumBorrow                          \n",
       "1.0         188137.0    33891591000\n",
       "2.0         199067.0    42328354000\n",
       "3.0           1591.0      387853000\n",
       "4.0            509.0      126786000\n",
       "5.0              4.0        1116000\n",
       "6.0              6.0        2122000\n",
       "7.0              1.0          83000\n",
       "8.0              1.0         356000\n",
       "10.0             1.0         351000"
      ]
     },
     "execution_count": 67,
     "metadata": {},
     "output_type": "execute_result"
    }
   ],
   "source": [
    "pd.pivot_table(index=\"NumBorrow\",aggfunc={\"OrUnpaidPrinc\":np.sum,\"NumBorrow\":len},data=acq_perf2)"
   ]
  },
  {
   "cell_type": "code",
   "execution_count": 68,
   "metadata": {},
   "outputs": [
    {
     "data": {
      "text/html": [
       "<div>\n",
       "<style scoped>\n",
       "    .dataframe tbody tr th:only-of-type {\n",
       "        vertical-align: middle;\n",
       "    }\n",
       "\n",
       "    .dataframe tbody tr th {\n",
       "        vertical-align: top;\n",
       "    }\n",
       "\n",
       "    .dataframe thead tr th {\n",
       "        text-align: left;\n",
       "    }\n",
       "\n",
       "    .dataframe thead tr:last-of-type th {\n",
       "        text-align: right;\n",
       "    }\n",
       "</style>\n",
       "<table border=\"1\" class=\"dataframe\">\n",
       "  <thead>\n",
       "    <tr>\n",
       "      <th></th>\n",
       "      <th colspan=\"2\" halign=\"left\">NumBorrow</th>\n",
       "      <th colspan=\"2\" halign=\"left\">OrUnpaidPrinc</th>\n",
       "    </tr>\n",
       "    <tr>\n",
       "      <th>Default</th>\n",
       "      <th>0</th>\n",
       "      <th>1</th>\n",
       "      <th>0</th>\n",
       "      <th>1</th>\n",
       "    </tr>\n",
       "    <tr>\n",
       "      <th>NumBorrow</th>\n",
       "      <th></th>\n",
       "      <th></th>\n",
       "      <th></th>\n",
       "      <th></th>\n",
       "    </tr>\n",
       "  </thead>\n",
       "  <tbody>\n",
       "    <tr>\n",
       "      <th>1.0</th>\n",
       "      <td>166790</td>\n",
       "      <td>21347</td>\n",
       "      <td>29938893000</td>\n",
       "      <td>3952698000</td>\n",
       "    </tr>\n",
       "    <tr>\n",
       "      <th>2.0</th>\n",
       "      <td>185408</td>\n",
       "      <td>13659</td>\n",
       "      <td>39316525000</td>\n",
       "      <td>3011829000</td>\n",
       "    </tr>\n",
       "    <tr>\n",
       "      <th>3.0</th>\n",
       "      <td>1485</td>\n",
       "      <td>106</td>\n",
       "      <td>359310000</td>\n",
       "      <td>28543000</td>\n",
       "    </tr>\n",
       "    <tr>\n",
       "      <th>4.0</th>\n",
       "      <td>479</td>\n",
       "      <td>30</td>\n",
       "      <td>118604000</td>\n",
       "      <td>8182000</td>\n",
       "    </tr>\n",
       "    <tr>\n",
       "      <th>5.0</th>\n",
       "      <td>3</td>\n",
       "      <td>1</td>\n",
       "      <td>949000</td>\n",
       "      <td>167000</td>\n",
       "    </tr>\n",
       "    <tr>\n",
       "      <th>6.0</th>\n",
       "      <td>6</td>\n",
       "      <td>0</td>\n",
       "      <td>2122000</td>\n",
       "      <td>0</td>\n",
       "    </tr>\n",
       "    <tr>\n",
       "      <th>7.0</th>\n",
       "      <td>1</td>\n",
       "      <td>0</td>\n",
       "      <td>83000</td>\n",
       "      <td>0</td>\n",
       "    </tr>\n",
       "    <tr>\n",
       "      <th>8.0</th>\n",
       "      <td>1</td>\n",
       "      <td>0</td>\n",
       "      <td>356000</td>\n",
       "      <td>0</td>\n",
       "    </tr>\n",
       "    <tr>\n",
       "      <th>10.0</th>\n",
       "      <td>1</td>\n",
       "      <td>0</td>\n",
       "      <td>351000</td>\n",
       "      <td>0</td>\n",
       "    </tr>\n",
       "  </tbody>\n",
       "</table>\n",
       "</div>"
      ],
      "text/plain": [
       "          NumBorrow        OrUnpaidPrinc            \n",
       "Default           0      1             0           1\n",
       "NumBorrow                                           \n",
       "1.0          166790  21347   29938893000  3952698000\n",
       "2.0          185408  13659   39316525000  3011829000\n",
       "3.0            1485    106     359310000    28543000\n",
       "4.0             479     30     118604000     8182000\n",
       "5.0               3      1        949000      167000\n",
       "6.0               6      0       2122000           0\n",
       "7.0               1      0         83000           0\n",
       "8.0               1      0        356000           0\n",
       "10.0              1      0        351000           0"
      ]
     },
     "execution_count": 68,
     "metadata": {},
     "output_type": "execute_result"
    }
   ],
   "source": [
    "pd.pivot_table(index=\"NumBorrow\",columns=\"Default\",aggfunc={\"OrUnpaidPrinc\":np.sum,\"NumBorrow\":len},data=acq_perf2,fill_value=0)"
   ]
  },
  {
   "cell_type": "markdown",
   "metadata": {},
   "source": [
    "# 1 loan id customers default customers are high unpaid amount compared to other loan ids"
   ]
  },
  {
   "cell_type": "code",
   "execution_count": 69,
   "metadata": {},
   "outputs": [
    {
     "data": {
      "text/plain": [
       "(389323, 19)"
      ]
     },
     "execution_count": 69,
     "metadata": {},
     "output_type": "execute_result"
    }
   ],
   "source": [
    "acq_perf2.shape"
   ]
  },
  {
   "cell_type": "code",
   "execution_count": 70,
   "metadata": {},
   "outputs": [
    {
     "data": {
      "text/plain": [
       "Index(['Channel', 'SellerName', 'OrInterestRate', 'OrUnpaidPrinc',\n",
       "       'OrLoanTerm', 'OrLTV', 'OrCLTV', 'NumBorrow', 'DTIRat', 'CreditScore',\n",
       "       'FTHomeBuyer', 'LoanPurpose', 'PropertyType', 'NumUnits', 'OccStatus',\n",
       "       'MortInsPerc', 'CoCreditScore', 'MortInsType', 'Default'],\n",
       "      dtype='object')"
      ]
     },
     "execution_count": 70,
     "metadata": {},
     "output_type": "execute_result"
    }
   ],
   "source": [
    "acq_perf2.columns"
   ]
  },
  {
   "cell_type": "markdown",
   "metadata": {},
   "source": [
    "# is there any missing values in given data"
   ]
  },
  {
   "cell_type": "code",
   "execution_count": 71,
   "metadata": {},
   "outputs": [],
   "source": [
    "miss_identify=lambda x:x.isnull().sum()/len(x)*100"
   ]
  },
  {
   "cell_type": "code",
   "execution_count": 72,
   "metadata": {},
   "outputs": [
    {
     "data": {
      "text/plain": [
       "Channel            0.000000\n",
       "SellerName         0.000000\n",
       "OrInterestRate     0.000257\n",
       "OrUnpaidPrinc      0.000000\n",
       "OrLoanTerm         0.000000\n",
       "OrLTV              0.000000\n",
       "OrCLTV             0.008219\n",
       "NumBorrow          0.001541\n",
       "DTIRat             2.902474\n",
       "CreditScore        0.129969\n",
       "FTHomeBuyer        0.000000\n",
       "LoanPurpose        0.000000\n",
       "PropertyType       0.000000\n",
       "NumUnits           0.000000\n",
       "OccStatus          0.000000\n",
       "MortInsPerc       78.331617\n",
       "CoCreditScore     60.048340\n",
       "MortInsType       78.331617\n",
       "Default            0.000000\n",
       "dtype: float64"
      ]
     },
     "execution_count": 72,
     "metadata": {},
     "output_type": "execute_result"
    }
   ],
   "source": [
    "miss_identify(acq_perf2)"
   ]
  },
  {
   "cell_type": "code",
   "execution_count": 92,
   "metadata": {},
   "outputs": [],
   "source": [
    "def numerical_summary(data):\n",
    "    abc=data.describe().T\n",
    "    abc[\"unique_Records\"]=data.nunique()\n",
    "    abc[\"skew\"]=data.skew()\n",
    "    abc[\"Missing%\"]=(len(data)-abc[\"count\"])/len(data)*100\n",
    "    abc[\"lo\"]=data.quantile(0.25)-(1.5*(data.quantile(0.75)-data.quantile(0.25)))\n",
    "    abc[\"uo\"]=data.quantile(0.75)+(1.5*(data.quantile(0.75)-data.quantile(0.25)))\n",
    "    abc1=abc[[\"count\",\"unique_Records\",\"min\",\"25%\",\"50%\",\"mean\",\"75%\",\"max\",\"std\",\"Missing%\",\"skew\",\"lo\",\"uo\"]]\n",
    "    abc1.to_csv(\"C:\\\\Users\\\\Koti\\\\Desktop\\\\data\\\\DVS\\\\DVS_NOV_WKND\\\\final_project\\\\summary_stat.csv\")\n",
    "    return abc1"
   ]
  },
  {
   "cell_type": "code",
   "execution_count": 93,
   "metadata": {},
   "outputs": [
    {
     "data": {
      "text/html": [
       "<div>\n",
       "<style scoped>\n",
       "    .dataframe tbody tr th:only-of-type {\n",
       "        vertical-align: middle;\n",
       "    }\n",
       "\n",
       "    .dataframe tbody tr th {\n",
       "        vertical-align: top;\n",
       "    }\n",
       "\n",
       "    .dataframe thead th {\n",
       "        text-align: right;\n",
       "    }\n",
       "</style>\n",
       "<table border=\"1\" class=\"dataframe\">\n",
       "  <thead>\n",
       "    <tr style=\"text-align: right;\">\n",
       "      <th></th>\n",
       "      <th>count</th>\n",
       "      <th>unique_Records</th>\n",
       "      <th>min</th>\n",
       "      <th>25%</th>\n",
       "      <th>50%</th>\n",
       "      <th>mean</th>\n",
       "      <th>75%</th>\n",
       "      <th>max</th>\n",
       "      <th>std</th>\n",
       "      <th>Missing%</th>\n",
       "      <th>skew</th>\n",
       "      <th>lo</th>\n",
       "      <th>uo</th>\n",
       "    </tr>\n",
       "  </thead>\n",
       "  <tbody>\n",
       "    <tr>\n",
       "      <th>OrInterestRate</th>\n",
       "      <td>389322.0</td>\n",
       "      <td>514</td>\n",
       "      <td>3.97</td>\n",
       "      <td>6.25</td>\n",
       "      <td>6.5</td>\n",
       "      <td>6.483363</td>\n",
       "      <td>6.75</td>\n",
       "      <td>9.375</td>\n",
       "      <td>0.387006</td>\n",
       "      <td>0.000257</td>\n",
       "      <td>0.476013</td>\n",
       "      <td>5.5</td>\n",
       "      <td>7.5</td>\n",
       "    </tr>\n",
       "    <tr>\n",
       "      <th>OrUnpaidPrinc</th>\n",
       "      <td>389323.0</td>\n",
       "      <td>649</td>\n",
       "      <td>8000.00</td>\n",
       "      <td>119000.00</td>\n",
       "      <td>180000.0</td>\n",
       "      <td>197112.446478</td>\n",
       "      <td>260000.00</td>\n",
       "      <td>802000.000</td>\n",
       "      <td>101486.224643</td>\n",
       "      <td>0.000000</td>\n",
       "      <td>0.677496</td>\n",
       "      <td>-92500.0</td>\n",
       "      <td>471500.0</td>\n",
       "    </tr>\n",
       "    <tr>\n",
       "      <th>OrLoanTerm</th>\n",
       "      <td>389323.0</td>\n",
       "      <td>140</td>\n",
       "      <td>60.00</td>\n",
       "      <td>360.00</td>\n",
       "      <td>360.0</td>\n",
       "      <td>338.653439</td>\n",
       "      <td>360.00</td>\n",
       "      <td>360.000</td>\n",
       "      <td>56.834982</td>\n",
       "      <td>0.000000</td>\n",
       "      <td>-2.444836</td>\n",
       "      <td>360.0</td>\n",
       "      <td>360.0</td>\n",
       "    </tr>\n",
       "    <tr>\n",
       "      <th>OrLTV</th>\n",
       "      <td>389323.0</td>\n",
       "      <td>97</td>\n",
       "      <td>1.00</td>\n",
       "      <td>64.00</td>\n",
       "      <td>78.0</td>\n",
       "      <td>72.148576</td>\n",
       "      <td>80.00</td>\n",
       "      <td>97.000</td>\n",
       "      <td>16.812060</td>\n",
       "      <td>0.000000</td>\n",
       "      <td>-1.104953</td>\n",
       "      <td>40.0</td>\n",
       "      <td>104.0</td>\n",
       "    </tr>\n",
       "    <tr>\n",
       "      <th>OrCLTV</th>\n",
       "      <td>389291.0</td>\n",
       "      <td>120</td>\n",
       "      <td>1.00</td>\n",
       "      <td>65.00</td>\n",
       "      <td>80.0</td>\n",
       "      <td>73.745178</td>\n",
       "      <td>87.00</td>\n",
       "      <td>143.000</td>\n",
       "      <td>17.116090</td>\n",
       "      <td>0.008219</td>\n",
       "      <td>-1.100709</td>\n",
       "      <td>32.0</td>\n",
       "      <td>120.0</td>\n",
       "    </tr>\n",
       "    <tr>\n",
       "      <th>NumBorrow</th>\n",
       "      <td>389317.0</td>\n",
       "      <td>9</td>\n",
       "      <td>1.00</td>\n",
       "      <td>1.00</td>\n",
       "      <td>2.0</td>\n",
       "      <td>1.523594</td>\n",
       "      <td>2.00</td>\n",
       "      <td>10.000</td>\n",
       "      <td>0.516007</td>\n",
       "      <td>0.001541</td>\n",
       "      <td>0.170501</td>\n",
       "      <td>-0.5</td>\n",
       "      <td>3.5</td>\n",
       "    </tr>\n",
       "    <tr>\n",
       "      <th>DTIRat</th>\n",
       "      <td>378023.0</td>\n",
       "      <td>64</td>\n",
       "      <td>1.00</td>\n",
       "      <td>30.00</td>\n",
       "      <td>39.0</td>\n",
       "      <td>38.678652</td>\n",
       "      <td>48.00</td>\n",
       "      <td>64.000</td>\n",
       "      <td>12.508204</td>\n",
       "      <td>2.902474</td>\n",
       "      <td>-0.105742</td>\n",
       "      <td>3.0</td>\n",
       "      <td>75.0</td>\n",
       "    </tr>\n",
       "    <tr>\n",
       "      <th>CreditScore</th>\n",
       "      <td>388817.0</td>\n",
       "      <td>386</td>\n",
       "      <td>392.00</td>\n",
       "      <td>673.00</td>\n",
       "      <td>725.0</td>\n",
       "      <td>720.094397</td>\n",
       "      <td>774.00</td>\n",
       "      <td>843.000</td>\n",
       "      <td>61.343348</td>\n",
       "      <td>0.129969</td>\n",
       "      <td>-0.389839</td>\n",
       "      <td>521.5</td>\n",
       "      <td>925.5</td>\n",
       "    </tr>\n",
       "    <tr>\n",
       "      <th>NumUnits</th>\n",
       "      <td>389323.0</td>\n",
       "      <td>4</td>\n",
       "      <td>1.00</td>\n",
       "      <td>1.00</td>\n",
       "      <td>1.0</td>\n",
       "      <td>1.042160</td>\n",
       "      <td>1.00</td>\n",
       "      <td>4.000</td>\n",
       "      <td>0.257737</td>\n",
       "      <td>0.000000</td>\n",
       "      <td>7.597839</td>\n",
       "      <td>1.0</td>\n",
       "      <td>1.0</td>\n",
       "    </tr>\n",
       "    <tr>\n",
       "      <th>MortInsPerc</th>\n",
       "      <td>84360.0</td>\n",
       "      <td>18</td>\n",
       "      <td>6.00</td>\n",
       "      <td>17.00</td>\n",
       "      <td>25.0</td>\n",
       "      <td>23.035005</td>\n",
       "      <td>25.00</td>\n",
       "      <td>39.000</td>\n",
       "      <td>6.483059</td>\n",
       "      <td>78.331617</td>\n",
       "      <td>-0.662646</td>\n",
       "      <td>5.0</td>\n",
       "      <td>37.0</td>\n",
       "    </tr>\n",
       "    <tr>\n",
       "      <th>CoCreditScore</th>\n",
       "      <td>155541.0</td>\n",
       "      <td>359</td>\n",
       "      <td>390.00</td>\n",
       "      <td>683.00</td>\n",
       "      <td>739.0</td>\n",
       "      <td>728.543657</td>\n",
       "      <td>781.00</td>\n",
       "      <td>844.000</td>\n",
       "      <td>60.285355</td>\n",
       "      <td>60.048340</td>\n",
       "      <td>-0.507347</td>\n",
       "      <td>536.0</td>\n",
       "      <td>928.0</td>\n",
       "    </tr>\n",
       "    <tr>\n",
       "      <th>MortInsType</th>\n",
       "      <td>84360.0</td>\n",
       "      <td>2</td>\n",
       "      <td>1.00</td>\n",
       "      <td>1.00</td>\n",
       "      <td>1.0</td>\n",
       "      <td>1.125284</td>\n",
       "      <td>1.00</td>\n",
       "      <td>2.000</td>\n",
       "      <td>0.331043</td>\n",
       "      <td>78.331617</td>\n",
       "      <td>2.263900</td>\n",
       "      <td>1.0</td>\n",
       "      <td>1.0</td>\n",
       "    </tr>\n",
       "    <tr>\n",
       "      <th>Default</th>\n",
       "      <td>389323.0</td>\n",
       "      <td>2</td>\n",
       "      <td>0.00</td>\n",
       "      <td>0.00</td>\n",
       "      <td>0.0</td>\n",
       "      <td>0.090270</td>\n",
       "      <td>0.00</td>\n",
       "      <td>1.000</td>\n",
       "      <td>0.286568</td>\n",
       "      <td>0.000000</td>\n",
       "      <td>2.859585</td>\n",
       "      <td>0.0</td>\n",
       "      <td>0.0</td>\n",
       "    </tr>\n",
       "  </tbody>\n",
       "</table>\n",
       "</div>"
      ],
      "text/plain": [
       "                   count  unique_Records      min        25%       50%  \\\n",
       "OrInterestRate  389322.0             514     3.97       6.25       6.5   \n",
       "OrUnpaidPrinc   389323.0             649  8000.00  119000.00  180000.0   \n",
       "OrLoanTerm      389323.0             140    60.00     360.00     360.0   \n",
       "OrLTV           389323.0              97     1.00      64.00      78.0   \n",
       "OrCLTV          389291.0             120     1.00      65.00      80.0   \n",
       "NumBorrow       389317.0               9     1.00       1.00       2.0   \n",
       "DTIRat          378023.0              64     1.00      30.00      39.0   \n",
       "CreditScore     388817.0             386   392.00     673.00     725.0   \n",
       "NumUnits        389323.0               4     1.00       1.00       1.0   \n",
       "MortInsPerc      84360.0              18     6.00      17.00      25.0   \n",
       "CoCreditScore   155541.0             359   390.00     683.00     739.0   \n",
       "MortInsType      84360.0               2     1.00       1.00       1.0   \n",
       "Default         389323.0               2     0.00       0.00       0.0   \n",
       "\n",
       "                         mean        75%         max            std  \\\n",
       "OrInterestRate       6.483363       6.75       9.375       0.387006   \n",
       "OrUnpaidPrinc   197112.446478  260000.00  802000.000  101486.224643   \n",
       "OrLoanTerm         338.653439     360.00     360.000      56.834982   \n",
       "OrLTV               72.148576      80.00      97.000      16.812060   \n",
       "OrCLTV              73.745178      87.00     143.000      17.116090   \n",
       "NumBorrow            1.523594       2.00      10.000       0.516007   \n",
       "DTIRat              38.678652      48.00      64.000      12.508204   \n",
       "CreditScore        720.094397     774.00     843.000      61.343348   \n",
       "NumUnits             1.042160       1.00       4.000       0.257737   \n",
       "MortInsPerc         23.035005      25.00      39.000       6.483059   \n",
       "CoCreditScore      728.543657     781.00     844.000      60.285355   \n",
       "MortInsType          1.125284       1.00       2.000       0.331043   \n",
       "Default              0.090270       0.00       1.000       0.286568   \n",
       "\n",
       "                 Missing%      skew       lo        uo  \n",
       "OrInterestRate   0.000257  0.476013      5.5       7.5  \n",
       "OrUnpaidPrinc    0.000000  0.677496 -92500.0  471500.0  \n",
       "OrLoanTerm       0.000000 -2.444836    360.0     360.0  \n",
       "OrLTV            0.000000 -1.104953     40.0     104.0  \n",
       "OrCLTV           0.008219 -1.100709     32.0     120.0  \n",
       "NumBorrow        0.001541  0.170501     -0.5       3.5  \n",
       "DTIRat           2.902474 -0.105742      3.0      75.0  \n",
       "CreditScore      0.129969 -0.389839    521.5     925.5  \n",
       "NumUnits         0.000000  7.597839      1.0       1.0  \n",
       "MortInsPerc     78.331617 -0.662646      5.0      37.0  \n",
       "CoCreditScore   60.048340 -0.507347    536.0     928.0  \n",
       "MortInsType     78.331617  2.263900      1.0       1.0  \n",
       "Default          0.000000  2.859585      0.0       0.0  "
      ]
     },
     "execution_count": 93,
     "metadata": {},
     "output_type": "execute_result"
    }
   ],
   "source": [
    "numerical_summary(data=acq_perf2)"
   ]
  },
  {
   "cell_type": "code",
   "execution_count": 94,
   "metadata": {},
   "outputs": [
    {
     "data": {
      "text/plain": [
       "360    336960\n",
       "180     31017\n",
       "240     13302\n",
       "120      3756\n",
       "300      1910\n",
       "        ...  \n",
       "163         1\n",
       "164         1\n",
       "165         1\n",
       "166         1\n",
       "256         1\n",
       "Name: OrLoanTerm, Length: 140, dtype: int64"
      ]
     },
     "execution_count": 94,
     "metadata": {},
     "output_type": "execute_result"
    }
   ],
   "source": [
    "acq_perf2[\"OrLoanTerm\"].value_counts()"
   ]
  },
  {
   "cell_type": "code",
   "execution_count": 140,
   "metadata": {},
   "outputs": [
    {
     "data": {
      "text/html": [
       "<div>\n",
       "<style scoped>\n",
       "    .dataframe tbody tr th:only-of-type {\n",
       "        vertical-align: middle;\n",
       "    }\n",
       "\n",
       "    .dataframe tbody tr th {\n",
       "        vertical-align: top;\n",
       "    }\n",
       "\n",
       "    .dataframe thead th {\n",
       "        text-align: right;\n",
       "    }\n",
       "</style>\n",
       "<table border=\"1\" class=\"dataframe\">\n",
       "  <thead>\n",
       "    <tr style=\"text-align: right;\">\n",
       "      <th></th>\n",
       "      <th>index</th>\n",
       "      <th>Channel</th>\n",
       "    </tr>\n",
       "  </thead>\n",
       "  <tbody>\n",
       "    <tr>\n",
       "      <th>0</th>\n",
       "      <td>C</td>\n",
       "      <td>42.622963</td>\n",
       "    </tr>\n",
       "    <tr>\n",
       "      <th>1</th>\n",
       "      <td>R</td>\n",
       "      <td>38.380471</td>\n",
       "    </tr>\n",
       "    <tr>\n",
       "      <th>2</th>\n",
       "      <td>B</td>\n",
       "      <td>18.996566</td>\n",
       "    </tr>\n",
       "  </tbody>\n",
       "</table>\n",
       "</div>"
      ],
      "text/plain": [
       "  index    Channel\n",
       "0     C  42.622963\n",
       "1     R  38.380471\n",
       "2     B  18.996566"
      ]
     },
     "execution_count": 140,
     "metadata": {},
     "output_type": "execute_result"
    }
   ],
   "source": [
    "abc=pd.DataFrame(acq_perf2[\"Channel\"].value_counts()/len(acq_perf2)*100).reset_index()\n",
    "abc"
   ]
  },
  {
   "cell_type": "code",
   "execution_count": 105,
   "metadata": {},
   "outputs": [
    {
     "data": {
      "text/plain": [
       "pandas.core.frame.DataFrame"
      ]
     },
     "execution_count": 105,
     "metadata": {},
     "output_type": "execute_result"
    }
   ],
   "source": [
    "type(abc)"
   ]
  },
  {
   "cell_type": "code",
   "execution_count": 108,
   "metadata": {},
   "outputs": [],
   "source": [
    "abc1=abc.rename(columns={abc.columns[0]:\"Channel\",abc.columns[1]:\"Channel_percent\"})"
   ]
  },
  {
   "cell_type": "code",
   "execution_count": 109,
   "metadata": {},
   "outputs": [
    {
     "data": {
      "text/html": [
       "<div>\n",
       "<style scoped>\n",
       "    .dataframe tbody tr th:only-of-type {\n",
       "        vertical-align: middle;\n",
       "    }\n",
       "\n",
       "    .dataframe tbody tr th {\n",
       "        vertical-align: top;\n",
       "    }\n",
       "\n",
       "    .dataframe thead th {\n",
       "        text-align: right;\n",
       "    }\n",
       "</style>\n",
       "<table border=\"1\" class=\"dataframe\">\n",
       "  <thead>\n",
       "    <tr style=\"text-align: right;\">\n",
       "      <th></th>\n",
       "      <th>Channel</th>\n",
       "      <th>Channel_percent</th>\n",
       "    </tr>\n",
       "  </thead>\n",
       "  <tbody>\n",
       "    <tr>\n",
       "      <th>0</th>\n",
       "      <td>C</td>\n",
       "      <td>42.622963</td>\n",
       "    </tr>\n",
       "    <tr>\n",
       "      <th>1</th>\n",
       "      <td>R</td>\n",
       "      <td>38.380471</td>\n",
       "    </tr>\n",
       "    <tr>\n",
       "      <th>2</th>\n",
       "      <td>B</td>\n",
       "      <td>18.996566</td>\n",
       "    </tr>\n",
       "  </tbody>\n",
       "</table>\n",
       "</div>"
      ],
      "text/plain": [
       "  Channel  Channel_percent\n",
       "0       C        42.622963\n",
       "1       R        38.380471\n",
       "2       B        18.996566"
      ]
     },
     "execution_count": 109,
     "metadata": {},
     "output_type": "execute_result"
    }
   ],
   "source": [
    "abc1"
   ]
  },
  {
   "cell_type": "code",
   "execution_count": 138,
   "metadata": {},
   "outputs": [],
   "source": [
    "def char_summary(data):\n",
    "    col=list(data.columns)\n",
    "    for i in col:\n",
    "        if data[i].dtypes==\"object\":\n",
    "            abc=pd.DataFrame(data[i].value_counts()/len(data)*100).reset_index()\n",
    "            abc1=abc.rename(columns={abc.columns[0]:i,abc.columns[1]:i+\"_percent\"})\n",
    "           \n",
    "            print(abc1)"
   ]
  },
  {
   "cell_type": "code",
   "execution_count": 142,
   "metadata": {
    "scrolled": true
   },
   "outputs": [
    {
     "name": "stdout",
     "output_type": "stream",
     "text": [
      "  Channel  Channel_percent\n",
      "0       C        42.622963\n",
      "1       R        38.380471\n",
      "2       B        18.996566\n",
      "                                   SellerName  SellerName_percent\n",
      "0                       BANK OF AMERICA, N.A.           28.651274\n",
      "1                                       OTHER           15.012727\n",
      "2   JPMORGAN CHASE BANK, NATIONAL ASSOCIATION           10.067733\n",
      "3                          CITIMORTGAGE, INC.            9.413520\n",
      "4                      WELLS FARGO BANK, N.A.            7.479907\n",
      "5                              PNC BANK, N.A.            7.027070\n",
      "6                          GMAC MORTGAGE, LLC            5.751009\n",
      "7                      SUNTRUST MORTGAGE INC.            4.096342\n",
      "8        FLAGSTAR CAPITAL MARKETS CORPORATION            3.402830\n",
      "9                                AMTRUST BANK            2.835692\n",
      "10   FDIC, RECEIVER, INDYMAC FEDERAL BANK FSB            2.395954\n",
      "11  FIRST TENNESSEE BANK NATIONAL ASSOCIATION            1.973683\n",
      "12                    CHASE HOME FINANCE, LLC            1.754327\n",
      "13        HSBC BANK USA, NATIONAL ASSOCIATION            0.137932\n",
      "  FTHomeBuyer  FTHomeBuyer_percent\n",
      "0           N            89.639708\n",
      "1           Y            10.268594\n",
      "2           U             0.091698\n",
      "  LoanPurpose  LoanPurpose_percent\n",
      "0           C            42.115929\n",
      "1           P            38.120789\n",
      "2           R            19.763281\n",
      "  PropertyType  PropertyType_percent\n",
      "0           SF             74.313102\n",
      "1           PU             15.072832\n",
      "2           CO              9.042106\n",
      "3           MH              1.005849\n",
      "4           CP              0.566111\n",
      "  OccStatus  OccStatus_percent\n",
      "0         P          86.036016\n",
      "1         I           9.278928\n",
      "2         S           4.685056\n"
     ]
    }
   ],
   "source": [
    "char_summary(data=acq_perf2)"
   ]
  },
  {
   "cell_type": "code",
   "execution_count": 143,
   "metadata": {},
   "outputs": [],
   "source": [
    "acq_perf2.drop([\"SellerName\"],axis=1,inplace=True)"
   ]
  },
  {
   "cell_type": "code",
   "execution_count": 144,
   "metadata": {},
   "outputs": [
    {
     "data": {
      "text/plain": [
       "(389323, 18)"
      ]
     },
     "execution_count": 144,
     "metadata": {},
     "output_type": "execute_result"
    }
   ],
   "source": [
    "acq_perf2.shape"
   ]
  },
  {
   "cell_type": "code",
   "execution_count": 145,
   "metadata": {},
   "outputs": [],
   "source": [
    "acq_perf3=pd.get_dummies(acq_perf2,drop_first=True) # here converting the categorical information into binary format"
   ]
  },
  {
   "cell_type": "code",
   "execution_count": 146,
   "metadata": {},
   "outputs": [
    {
     "data": {
      "text/plain": [
       "(389323, 25)"
      ]
     },
     "execution_count": 146,
     "metadata": {},
     "output_type": "execute_result"
    }
   ],
   "source": [
    "acq_perf3.shape"
   ]
  },
  {
   "cell_type": "code",
   "execution_count": 147,
   "metadata": {},
   "outputs": [
    {
     "data": {
      "text/html": [
       "<div>\n",
       "<style scoped>\n",
       "    .dataframe tbody tr th:only-of-type {\n",
       "        vertical-align: middle;\n",
       "    }\n",
       "\n",
       "    .dataframe tbody tr th {\n",
       "        vertical-align: top;\n",
       "    }\n",
       "\n",
       "    .dataframe thead th {\n",
       "        text-align: right;\n",
       "    }\n",
       "</style>\n",
       "<table border=\"1\" class=\"dataframe\">\n",
       "  <thead>\n",
       "    <tr style=\"text-align: right;\">\n",
       "      <th></th>\n",
       "      <th>OrInterestRate</th>\n",
       "      <th>OrUnpaidPrinc</th>\n",
       "      <th>OrLoanTerm</th>\n",
       "      <th>OrLTV</th>\n",
       "      <th>OrCLTV</th>\n",
       "      <th>NumBorrow</th>\n",
       "      <th>DTIRat</th>\n",
       "      <th>CreditScore</th>\n",
       "      <th>NumUnits</th>\n",
       "      <th>MortInsPerc</th>\n",
       "      <th>...</th>\n",
       "      <th>FTHomeBuyer_U</th>\n",
       "      <th>FTHomeBuyer_Y</th>\n",
       "      <th>LoanPurpose_P</th>\n",
       "      <th>LoanPurpose_R</th>\n",
       "      <th>PropertyType_CP</th>\n",
       "      <th>PropertyType_MH</th>\n",
       "      <th>PropertyType_PU</th>\n",
       "      <th>PropertyType_SF</th>\n",
       "      <th>OccStatus_P</th>\n",
       "      <th>OccStatus_S</th>\n",
       "    </tr>\n",
       "  </thead>\n",
       "  <tbody>\n",
       "    <tr>\n",
       "      <th>0</th>\n",
       "      <td>6.625</td>\n",
       "      <td>343000</td>\n",
       "      <td>360</td>\n",
       "      <td>86</td>\n",
       "      <td>86.0</td>\n",
       "      <td>2.0</td>\n",
       "      <td>27.0</td>\n",
       "      <td>751.0</td>\n",
       "      <td>1</td>\n",
       "      <td>25.0</td>\n",
       "      <td>...</td>\n",
       "      <td>0</td>\n",
       "      <td>0</td>\n",
       "      <td>0</td>\n",
       "      <td>0</td>\n",
       "      <td>0</td>\n",
       "      <td>0</td>\n",
       "      <td>1</td>\n",
       "      <td>0</td>\n",
       "      <td>1</td>\n",
       "      <td>0</td>\n",
       "    </tr>\n",
       "    <tr>\n",
       "      <th>1</th>\n",
       "      <td>6.250</td>\n",
       "      <td>400000</td>\n",
       "      <td>360</td>\n",
       "      <td>62</td>\n",
       "      <td>62.0</td>\n",
       "      <td>2.0</td>\n",
       "      <td>35.0</td>\n",
       "      <td>804.0</td>\n",
       "      <td>1</td>\n",
       "      <td>NaN</td>\n",
       "      <td>...</td>\n",
       "      <td>0</td>\n",
       "      <td>0</td>\n",
       "      <td>1</td>\n",
       "      <td>0</td>\n",
       "      <td>0</td>\n",
       "      <td>0</td>\n",
       "      <td>0</td>\n",
       "      <td>1</td>\n",
       "      <td>1</td>\n",
       "      <td>0</td>\n",
       "    </tr>\n",
       "    <tr>\n",
       "      <th>2</th>\n",
       "      <td>6.625</td>\n",
       "      <td>81000</td>\n",
       "      <td>360</td>\n",
       "      <td>64</td>\n",
       "      <td>82.0</td>\n",
       "      <td>1.0</td>\n",
       "      <td>53.0</td>\n",
       "      <td>585.0</td>\n",
       "      <td>1</td>\n",
       "      <td>NaN</td>\n",
       "      <td>...</td>\n",
       "      <td>0</td>\n",
       "      <td>0</td>\n",
       "      <td>0</td>\n",
       "      <td>1</td>\n",
       "      <td>0</td>\n",
       "      <td>0</td>\n",
       "      <td>0</td>\n",
       "      <td>1</td>\n",
       "      <td>1</td>\n",
       "      <td>0</td>\n",
       "    </tr>\n",
       "    <tr>\n",
       "      <th>3</th>\n",
       "      <td>6.500</td>\n",
       "      <td>119000</td>\n",
       "      <td>360</td>\n",
       "      <td>71</td>\n",
       "      <td>71.0</td>\n",
       "      <td>1.0</td>\n",
       "      <td>35.0</td>\n",
       "      <td>646.0</td>\n",
       "      <td>1</td>\n",
       "      <td>NaN</td>\n",
       "      <td>...</td>\n",
       "      <td>0</td>\n",
       "      <td>0</td>\n",
       "      <td>0</td>\n",
       "      <td>1</td>\n",
       "      <td>0</td>\n",
       "      <td>0</td>\n",
       "      <td>0</td>\n",
       "      <td>0</td>\n",
       "      <td>1</td>\n",
       "      <td>0</td>\n",
       "    </tr>\n",
       "    <tr>\n",
       "      <th>4</th>\n",
       "      <td>6.625</td>\n",
       "      <td>205000</td>\n",
       "      <td>360</td>\n",
       "      <td>27</td>\n",
       "      <td>27.0</td>\n",
       "      <td>1.0</td>\n",
       "      <td>54.0</td>\n",
       "      <td>591.0</td>\n",
       "      <td>1</td>\n",
       "      <td>NaN</td>\n",
       "      <td>...</td>\n",
       "      <td>0</td>\n",
       "      <td>0</td>\n",
       "      <td>0</td>\n",
       "      <td>0</td>\n",
       "      <td>0</td>\n",
       "      <td>0</td>\n",
       "      <td>0</td>\n",
       "      <td>1</td>\n",
       "      <td>1</td>\n",
       "      <td>0</td>\n",
       "    </tr>\n",
       "  </tbody>\n",
       "</table>\n",
       "<p>5 rows × 25 columns</p>\n",
       "</div>"
      ],
      "text/plain": [
       "   OrInterestRate  OrUnpaidPrinc  OrLoanTerm  OrLTV  OrCLTV  NumBorrow  \\\n",
       "0           6.625         343000         360     86    86.0        2.0   \n",
       "1           6.250         400000         360     62    62.0        2.0   \n",
       "2           6.625          81000         360     64    82.0        1.0   \n",
       "3           6.500         119000         360     71    71.0        1.0   \n",
       "4           6.625         205000         360     27    27.0        1.0   \n",
       "\n",
       "   DTIRat  CreditScore  NumUnits  MortInsPerc  ...  FTHomeBuyer_U  \\\n",
       "0    27.0        751.0         1         25.0  ...              0   \n",
       "1    35.0        804.0         1          NaN  ...              0   \n",
       "2    53.0        585.0         1          NaN  ...              0   \n",
       "3    35.0        646.0         1          NaN  ...              0   \n",
       "4    54.0        591.0         1          NaN  ...              0   \n",
       "\n",
       "   FTHomeBuyer_Y  LoanPurpose_P  LoanPurpose_R  PropertyType_CP  \\\n",
       "0              0              0              0                0   \n",
       "1              0              1              0                0   \n",
       "2              0              0              1                0   \n",
       "3              0              0              1                0   \n",
       "4              0              0              0                0   \n",
       "\n",
       "   PropertyType_MH  PropertyType_PU  PropertyType_SF  OccStatus_P  OccStatus_S  \n",
       "0                0                1                0            1            0  \n",
       "1                0                0                1            1            0  \n",
       "2                0                0                1            1            0  \n",
       "3                0                0                0            1            0  \n",
       "4                0                0                1            1            0  \n",
       "\n",
       "[5 rows x 25 columns]"
      ]
     },
     "execution_count": 147,
     "metadata": {},
     "output_type": "execute_result"
    }
   ],
   "source": [
    "acq_perf3.head()"
   ]
  },
  {
   "cell_type": "markdown",
   "metadata": {},
   "source": [
    "# treating the missing value with the help of machine learning algorithms\n",
    "1. We can not same algorithm for different indepdent variables\n",
    "2. here in this case algorithm is building each variable \n",
    "3. so we need to have different variables we have different variables\n",
    "for example we would like to apply linear regression for all the variables as per assumptions it does not accept the cateogrical variables\n",
    "vice versa for classificaiton\n",
    "so we need to different models for the corrsponding variables"
   ]
  },
  {
   "cell_type": "code",
   "execution_count": 149,
   "metadata": {},
   "outputs": [],
   "source": [
    "from sklearn.linear_model import LinearRegression  # this will help us to impute the numerical varaible missing values\n",
    "from sklearn.linear_model import LogisticRegression # this will help us to impute the categorical varaible missing values\n",
    "def fillnan(df):\n",
    "    columns = df.columns[df.isnull().any()]\n",
    "    for name in columns:\n",
    "        y = df.loc[df[name].notnull(), name].values # the varaibles, which are having missing but consider only non missing rows of missing variables\n",
    "        X = df.loc[df[name].notnull()].drop(columns, axis=1).values # non missing variables values are considering\n",
    "        X_test = df.loc[df[name].isnull()].drop(columns, axis=1).values # missing rows \n",
    "        if df[name].dtypes == 'object':\n",
    "            model = LogisticRegression()\n",
    "            model.fit(X, y)\n",
    "            df.loc[df[name].isnull(), name] = model.predict(X_test)\n",
    "        else:\n",
    "            model = LinearRegression()\n",
    "            model.fit(X, y)\n",
    "            df.loc[df[name].isnull(), name] = model.predict(X_test)\n",
    "    return df"
   ]
  },
  {
   "cell_type": "code",
   "execution_count": 150,
   "metadata": {},
   "outputs": [],
   "source": [
    "acq_perf4=fillnan(df=acq_perf3)"
   ]
  },
  {
   "cell_type": "code",
   "execution_count": 151,
   "metadata": {},
   "outputs": [
    {
     "data": {
      "text/plain": [
       "OrInterestRate     0\n",
       "OrUnpaidPrinc      0\n",
       "OrLoanTerm         0\n",
       "OrLTV              0\n",
       "OrCLTV             0\n",
       "NumBorrow          0\n",
       "DTIRat             0\n",
       "CreditScore        0\n",
       "NumUnits           0\n",
       "MortInsPerc        0\n",
       "CoCreditScore      0\n",
       "MortInsType        0\n",
       "Default            0\n",
       "Channel_C          0\n",
       "Channel_R          0\n",
       "FTHomeBuyer_U      0\n",
       "FTHomeBuyer_Y      0\n",
       "LoanPurpose_P      0\n",
       "LoanPurpose_R      0\n",
       "PropertyType_CP    0\n",
       "PropertyType_MH    0\n",
       "PropertyType_PU    0\n",
       "PropertyType_SF    0\n",
       "OccStatus_P        0\n",
       "OccStatus_S        0\n",
       "dtype: int64"
      ]
     },
     "execution_count": 151,
     "metadata": {},
     "output_type": "execute_result"
    }
   ],
   "source": [
    "acq_perf4.isnull().sum()"
   ]
  },
  {
   "cell_type": "markdown",
   "metadata": {},
   "source": [
    "# outliers (extreme values of a given variable)\n",
    "1. there are two kinds of outliers\n",
    "\n",
    " . Lower outliers ---- Q1-1.5*IQR\n",
    " \n",
    " . Upper outliers -----Q3+1.5*IQR"
   ]
  },
  {
   "cell_type": "code",
   "execution_count": 159,
   "metadata": {},
   "outputs": [],
   "source": [
    "def outlier_detection(df):\n",
    "    col=list(df.columns)\n",
    "    for i in col:\n",
    "        if df[i].dtypes!=\"object\":\n",
    "            if df[i].nunique()>5:\n",
    "                iqr=df[i].quantile(0.75)-df[i].quantile(0.25)\n",
    "                lo=df[i].quantile(0.25)-1.5*iqr\n",
    "                uo=df[i].quantile(0.75)+1.5*iqr\n",
    "                print(\"lower cut off value\",lo)\n",
    "                print(\"min  of \",i,\"value\",df[i].min())\n",
    "                print(\"\\n\")\n",
    "                print(\"upper cut off value\",uo)\n",
    "                print(\"max  of \",i,\"value\",df[i].max())\n",
    "                print(\"\\n\")\n",
    "            \n",
    "    "
   ]
  },
  {
   "cell_type": "code",
   "execution_count": 160,
   "metadata": {
    "scrolled": false
   },
   "outputs": [
    {
     "name": "stdout",
     "output_type": "stream",
     "text": [
      "lower cut off value 5.5\n",
      "min  of  OrInterestRate value 3.97\n",
      "\n",
      "\n",
      "upper cut off value 7.5\n",
      "max  of  OrInterestRate value 9.375\n",
      "\n",
      "\n",
      "lower cut off value -92500.0\n",
      "min  of  OrUnpaidPrinc value 8000\n",
      "\n",
      "\n",
      "upper cut off value 471500.0\n",
      "max  of  OrUnpaidPrinc value 802000\n",
      "\n",
      "\n",
      "lower cut off value 360.0\n",
      "min  of  OrLoanTerm value 60\n",
      "\n",
      "\n",
      "upper cut off value 360.0\n",
      "max  of  OrLoanTerm value 360\n",
      "\n",
      "\n",
      "lower cut off value 40.0\n",
      "min  of  OrLTV value 1\n",
      "\n",
      "\n",
      "upper cut off value 104.0\n",
      "max  of  OrLTV value 97\n",
      "\n",
      "\n",
      "lower cut off value 32.0\n",
      "min  of  OrCLTV value 1.0\n",
      "\n",
      "\n",
      "upper cut off value 120.0\n",
      "max  of  OrCLTV value 143.0\n",
      "\n",
      "\n",
      "lower cut off value -0.5\n",
      "min  of  NumBorrow value 1.0\n",
      "\n",
      "\n",
      "upper cut off value 3.5\n",
      "max  of  NumBorrow value 10.0\n",
      "\n",
      "\n",
      "lower cut off value 3.0\n",
      "min  of  DTIRat value 1.0\n",
      "\n",
      "\n",
      "upper cut off value 75.0\n",
      "max  of  DTIRat value 64.0\n",
      "\n",
      "\n",
      "lower cut off value 521.5\n",
      "min  of  CreditScore value 392.0\n",
      "\n",
      "\n",
      "upper cut off value 925.5\n",
      "max  of  CreditScore value 843.0\n",
      "\n",
      "\n",
      "lower cut off value -44.88160528215847\n",
      "min  of  MortInsPerc value -103.09772213399977\n",
      "\n",
      "\n",
      "upper cut off value 44.41816820986784\n",
      "max  of  MortInsPerc value 39.0\n",
      "\n",
      "\n",
      "lower cut off value 635.9751815334346\n",
      "min  of  CoCreditScore value 390.0\n",
      "\n",
      "\n",
      "upper cut off value 822.7080307776089\n",
      "max  of  CoCreditScore value 844.0\n",
      "\n",
      "\n",
      "lower cut off value 0.8567581470843739\n",
      "min  of  MortInsType value 0.5269683000770976\n",
      "\n",
      "\n",
      "upper cut off value 1.2387364215260435\n",
      "max  of  MortInsType value 2.0\n",
      "\n",
      "\n"
     ]
    }
   ],
   "source": [
    "outlier_detection(df=acq_perf4)"
   ]
  },
  {
   "cell_type": "markdown",
   "metadata": {},
   "source": [
    "# identified outliers\n",
    "\n",
    "    1.  MortInsType - cut off value is 1.23  but our data max value 2\n",
    "    2. CoCreditScore -- cut off value is 822.7080 but our data max value is 844\n",
    "    3. MortInsPerc -- lower side cut off value is -44.88160528215847 but our data min value is -103.09772213399977\n",
    "    4. OrCLTV ---- upper side cut off value is 120 but our data max value is 143\n",
    "    5. OrUnpaidPrinc---- upper side cut off values are 471500 but our data max value is 802000\n",
    "    6.OrInterestRate --- upper side cut off values are 7.5 but our data max value is 9.35\n",
    "    6.OrInterestRate ---- lower side cut off values are 5.5 but our dat min value is 3.97"
   ]
  },
  {
   "cell_type": "code",
   "execution_count": 163,
   "metadata": {},
   "outputs": [],
   "source": [
    "acq_perf4[\"MortInsType\"]=np.where(acq_perf4[\"MortInsType\"]>1.23,1.23,acq_perf4[\"MortInsType\"])\n",
    "acq_perf4[\"CoCreditScore\"]=np.where(acq_perf4[\"CoCreditScore\"]>822.7,822.7,acq_perf4[\"CoCreditScore\"])\n",
    "acq_perf4[\"MortInsPerc\"]=np.where(acq_perf4[\"MortInsPerc\"]<-44.88,-44.88,acq_perf4[\"MortInsPerc\"])\n",
    "acq_perf4[\"OrCLTV\"]=np.where(acq_perf4[\"OrCLTV\"]>120,120,acq_perf4[\"OrCLTV\"])\n",
    "acq_perf4[\"OrUnpaidPrinc\"]=np.where(acq_perf4[\"OrUnpaidPrinc\"]>471500,471500,acq_perf4[\"OrUnpaidPrinc\"])\n",
    "acq_perf4[\"OrInterestRate\"]=np.where(acq_perf4[\"OrInterestRate\"]>7.5,7.5,acq_perf4[\"OrInterestRate\"])\n",
    "acq_perf4[\"OrInterestRate\"]=np.where(acq_perf4[\"OrInterestRate\"]<5.5,5.5,acq_perf4[\"OrInterestRate\"])"
   ]
  },
  {
   "cell_type": "markdown",
   "metadata": {},
   "source": [
    "# check is indepdent variables are normally distributed?"
   ]
  },
  {
   "cell_type": "code",
   "execution_count": 164,
   "metadata": {},
   "outputs": [
    {
     "data": {
      "text/plain": [
       "OrInterestRate      0.370896\n",
       "OrUnpaidPrinc       0.615532\n",
       "OrLoanTerm         -2.444836\n",
       "OrLTV              -1.104953\n",
       "OrCLTV             -1.101351\n",
       "NumBorrow           0.170500\n",
       "DTIRat             -0.108849\n",
       "CreditScore        -0.390598\n",
       "NumUnits            7.597839\n",
       "MortInsPerc        -0.717462\n",
       "CoCreditScore      -0.527518\n",
       "MortInsType        -0.453546\n",
       "Default             2.859585\n",
       "Channel_C           0.298348\n",
       "Channel_R           0.477866\n",
       "FTHomeBuyer_U      32.978022\n",
       "FTHomeBuyer_Y       2.617808\n",
       "LoanPurpose_P       0.489177\n",
       "LoanPurpose_R       1.518624\n",
       "PropertyType_CP    13.177665\n",
       "PropertyType_MH     9.819849\n",
       "PropertyType_PU     1.952425\n",
       "PropertyType_SF    -1.112970\n",
       "OccStatus_P        -2.079331\n",
       "OccStatus_S         4.288794\n",
       "dtype: float64"
      ]
     },
     "execution_count": 164,
     "metadata": {},
     "output_type": "execute_result"
    }
   ],
   "source": [
    "acq_perf4.skew()"
   ]
  },
  {
   "cell_type": "code",
   "execution_count": 165,
   "metadata": {},
   "outputs": [
    {
     "data": {
      "text/plain": [
       "(389323, 25)"
      ]
     },
     "execution_count": 165,
     "metadata": {},
     "output_type": "execute_result"
    }
   ],
   "source": [
    "acq_perf4.shape"
   ]
  },
  {
   "cell_type": "markdown",
   "metadata": {},
   "source": [
    "# Hypothesis testing:"
   ]
  },
  {
   "cell_type": "markdown",
   "metadata": {},
   "source": [
    "# OrUnpaidPrinc\n",
    "\n",
    "1. H0: average OrUnpaidPrinc is same for both defaulters and non defaulters----(null hypothesis) -- reject the null hypothesis\n",
    "2. Ha: average OrUnpaidPrinc is not same for both defaulters and non defaulters(alternative hypothesis)\n",
    "    \n",
    "if p>0.05,that means there is no strong evidence to reject the null hypothesis-- OrUnpaidPrinc is not influnce the defaulter"
   ]
  },
  {
   "cell_type": "code",
   "execution_count": 167,
   "metadata": {},
   "outputs": [
    {
     "data": {
      "text/plain": [
       "Ttest_indResult(statistic=-4.41512706651976, pvalue=1.0097779229290168e-05)"
      ]
     },
     "execution_count": 167,
     "metadata": {},
     "output_type": "execute_result"
    }
   ],
   "source": [
    "from scipy.stats import ttest_ind\n",
    "ttest_ind(acq_perf4[acq_perf4[\"Default\"]==0][\"OrUnpaidPrinc\"],acq_perf4[acq_perf4[\"Default\"]==1][\"OrUnpaidPrinc\"])"
   ]
  },
  {
   "cell_type": "code",
   "execution_count": 173,
   "metadata": {},
   "outputs": [
    {
     "data": {
      "text/plain": [
       "1.0097779229290168e-05"
      ]
     },
     "execution_count": 173,
     "metadata": {},
     "output_type": "execute_result"
    }
   ],
   "source": [
    "abc=ttest_ind(acq_perf4[acq_perf4[\"Default\"]==0][\"OrUnpaidPrinc\"],acq_perf4[acq_perf4[\"Default\"]==1][\"OrUnpaidPrinc\"])[1]\n",
    "abc"
   ]
  },
  {
   "cell_type": "code",
   "execution_count": 169,
   "metadata": {},
   "outputs": [
    {
     "data": {
      "text/plain": [
       "<matplotlib.axes._subplots.AxesSubplot at 0x18f9b828f60>"
      ]
     },
     "execution_count": 169,
     "metadata": {},
     "output_type": "execute_result"
    },
    {
     "data": {
      "image/png": "[encoded data removed]",
      "text/plain": [
       "<Figure size 432x288 with 1 Axes>"
      ]
     },
     "metadata": {
      "needs_background": "light"
     },
     "output_type": "display_data"
    }
   ],
   "source": [
    "sns.distplot(acq_perf4[acq_perf4[\"Default\"]==0][\"OrUnpaidPrinc\"],color=\"b\")\n",
    "sns.distplot(acq_perf4[acq_perf4[\"Default\"]==1][\"OrUnpaidPrinc\"],color=\"r\")"
   ]
  },
  {
   "cell_type": "markdown",
   "metadata": {},
   "source": [
    "# 4.4 times of non defaulter OrUnpaidPrinc amount is higher compared defaulter\n"
   ]
  },
  {
   "cell_type": "code",
   "execution_count": 181,
   "metadata": {},
   "outputs": [],
   "source": [
    "def influnce_check(data,depdent_col):\n",
    "    col=list(data.columns)\n",
    "    for i in col:\n",
    "        if data[i].dtypes!=\"object\":\n",
    "            if data[i].nunique()>5:\n",
    "                from scipy.stats import ttest_ind\n",
    "                abc_p=ttest_ind(data[data[depdent_col]==0][i],data[data[depdent_col]==1][i])[1]\n",
    "                abc_s=ttest_ind(data[data[depdent_col]==0][i],data[data[depdent_col]==1][i])[0]\n",
    "                print(\"importance\",i,\"values are\",abc_p)\n",
    "                print(\"static\",i,\"values are\",abc_s)\n",
    "                print(\"\\n\")\n",
    "            "
   ]
  },
  {
   "cell_type": "code",
   "execution_count": 182,
   "metadata": {
    "scrolled": true
   },
   "outputs": [
    {
     "name": "stdout",
     "output_type": "stream",
     "text": [
      "importance OrInterestRate values are 0.0\n",
      "static OrInterestRate values are -87.2241040126063\n",
      "\n",
      "\n",
      "importance OrUnpaidPrinc values are 1.0097779229290168e-05\n",
      "static OrUnpaidPrinc values are -4.41512706651976\n",
      "\n",
      "\n",
      "importance OrLoanTerm values are 0.0\n",
      "static OrLoanTerm values are -52.9478297702962\n",
      "\n",
      "\n",
      "importance OrLTV values are 0.0\n",
      "static OrLTV values are -95.63967634022393\n",
      "\n",
      "\n",
      "importance OrCLTV values are 0.0\n",
      "static OrCLTV values are -89.81055573066422\n",
      "\n",
      "\n",
      "importance NumBorrow values are 0.0\n",
      "static NumBorrow values are 48.219954678952135\n",
      "\n",
      "\n",
      "importance DTIRat values are 0.0\n",
      "static DTIRat values are -56.369118434918974\n",
      "\n",
      "\n",
      "importance CreditScore values are 0.0\n",
      "static CreditScore values are 95.52324407549358\n",
      "\n",
      "\n",
      "importance MortInsPerc values are 0.0\n",
      "static MortInsPerc values are -106.36160639630168\n",
      "\n",
      "\n",
      "importance CoCreditScore values are 0.0\n",
      "static CoCreditScore values are 157.0159499248826\n",
      "\n",
      "\n",
      "importance MortInsType values are 0.0\n",
      "static MortInsType values are -61.952732403806266\n",
      "\n",
      "\n"
     ]
    }
   ],
   "source": [
    "influnce_check(data=acq_perf4,depdent_col=\"Default\")"
   ]
  },
  {
   "cell_type": "code",
   "execution_count": 183,
   "metadata": {},
   "outputs": [
    {
     "data": {
      "text/plain": [
       "(389323, 25)"
      ]
     },
     "execution_count": 183,
     "metadata": {},
     "output_type": "execute_result"
    }
   ],
   "source": [
    "acq_perf4.shape"
   ]
  },
  {
   "cell_type": "markdown",
   "metadata": {},
   "source": [
    "# EDA-Exploratary Data analysis\n",
    "\n",
    "1. we need to identify the reasons for default"
   ]
  },
  {
   "cell_type": "code",
   "execution_count": 185,
   "metadata": {},
   "outputs": [
    {
     "data": {
      "text/plain": [
       "Index(['OrInterestRate', 'OrUnpaidPrinc', 'OrLoanTerm', 'OrLTV', 'OrCLTV',\n",
       "       'NumBorrow', 'DTIRat', 'CreditScore', 'NumUnits', 'MortInsPerc',\n",
       "       'CoCreditScore', 'MortInsType', 'Default', 'Channel_C', 'Channel_R',\n",
       "       'FTHomeBuyer_U', 'FTHomeBuyer_Y', 'LoanPurpose_P', 'LoanPurpose_R',\n",
       "       'PropertyType_CP', 'PropertyType_MH', 'PropertyType_PU',\n",
       "       'PropertyType_SF', 'OccStatus_P', 'OccStatus_S'],\n",
       "      dtype='object')"
      ]
     },
     "execution_count": 185,
     "metadata": {},
     "output_type": "execute_result"
    }
   ],
   "source": [
    "acq_perf4.columns"
   ]
  },
  {
   "cell_type": "code",
   "execution_count": 188,
   "metadata": {},
   "outputs": [],
   "source": [
    "abc=pd.qcut(acq_perf4[\"OrUnpaidPrinc\"],q=4)"
   ]
  },
  {
   "cell_type": "code",
   "execution_count": 189,
   "metadata": {},
   "outputs": [
    {
     "data": {
      "text/plain": [
       "389323"
      ]
     },
     "execution_count": 189,
     "metadata": {},
     "output_type": "execute_result"
    }
   ],
   "source": [
    "len(abc)"
   ]
  },
  {
   "cell_type": "code",
   "execution_count": 192,
   "metadata": {},
   "outputs": [
    {
     "data": {
      "text/html": [
       "<div>\n",
       "<style scoped>\n",
       "    .dataframe tbody tr th:only-of-type {\n",
       "        vertical-align: middle;\n",
       "    }\n",
       "\n",
       "    .dataframe tbody tr th {\n",
       "        vertical-align: top;\n",
       "    }\n",
       "\n",
       "    .dataframe thead th {\n",
       "        text-align: right;\n",
       "    }\n",
       "</style>\n",
       "<table border=\"1\" class=\"dataframe\">\n",
       "  <thead>\n",
       "    <tr style=\"text-align: right;\">\n",
       "      <th>Default</th>\n",
       "      <th>0</th>\n",
       "      <th>1</th>\n",
       "    </tr>\n",
       "    <tr>\n",
       "      <th>OrUnpaidPrinc</th>\n",
       "      <th></th>\n",
       "      <th></th>\n",
       "    </tr>\n",
       "  </thead>\n",
       "  <tbody>\n",
       "    <tr>\n",
       "      <th>(7999.999, 119000.0]</th>\n",
       "      <td>89743</td>\n",
       "      <td>8028</td>\n",
       "    </tr>\n",
       "    <tr>\n",
       "      <th>(119000.0, 180000.0]</th>\n",
       "      <td>91373</td>\n",
       "      <td>8964</td>\n",
       "    </tr>\n",
       "    <tr>\n",
       "      <th>(180000.0, 260000.0]</th>\n",
       "      <td>86108</td>\n",
       "      <td>9353</td>\n",
       "    </tr>\n",
       "    <tr>\n",
       "      <th>(260000.0, 471500.0]</th>\n",
       "      <td>86955</td>\n",
       "      <td>8799</td>\n",
       "    </tr>\n",
       "  </tbody>\n",
       "</table>\n",
       "</div>"
      ],
      "text/plain": [
       "Default                   0     1\n",
       "OrUnpaidPrinc                    \n",
       "(7999.999, 119000.0]  89743  8028\n",
       "(119000.0, 180000.0]  91373  8964\n",
       "(180000.0, 260000.0]  86108  9353\n",
       "(260000.0, 471500.0]  86955  8799"
      ]
     },
     "execution_count": 192,
     "metadata": {},
     "output_type": "execute_result"
    }
   ],
   "source": [
    "pd.crosstab(pd.qcut(acq_perf4[\"OrUnpaidPrinc\"],q=[0,0.25,0.5,0.75,1]),acq_perf4[\"Default\"])"
   ]
  },
  {
   "cell_type": "code",
   "execution_count": 197,
   "metadata": {},
   "outputs": [
    {
     "data": {
      "text/html": [
       "<div>\n",
       "<style scoped>\n",
       "    .dataframe tbody tr th:only-of-type {\n",
       "        vertical-align: middle;\n",
       "    }\n",
       "\n",
       "    .dataframe tbody tr th {\n",
       "        vertical-align: top;\n",
       "    }\n",
       "\n",
       "    .dataframe thead th {\n",
       "        text-align: right;\n",
       "    }\n",
       "</style>\n",
       "<table border=\"1\" class=\"dataframe\">\n",
       "  <thead>\n",
       "    <tr style=\"text-align: right;\">\n",
       "      <th>Default</th>\n",
       "      <th>0</th>\n",
       "      <th>1</th>\n",
       "    </tr>\n",
       "    <tr>\n",
       "      <th>OrUnpaidPrinc</th>\n",
       "      <th></th>\n",
       "      <th></th>\n",
       "    </tr>\n",
       "  </thead>\n",
       "  <tbody>\n",
       "    <tr>\n",
       "      <th>(7999.999, 119000.0]</th>\n",
       "      <td>89743</td>\n",
       "      <td>8028</td>\n",
       "    </tr>\n",
       "    <tr>\n",
       "      <th>(119000.0, 180000.0]</th>\n",
       "      <td>91373</td>\n",
       "      <td>8964</td>\n",
       "    </tr>\n",
       "    <tr>\n",
       "      <th>(180000.0, 260000.0]</th>\n",
       "      <td>86108</td>\n",
       "      <td>9353</td>\n",
       "    </tr>\n",
       "    <tr>\n",
       "      <th>(260000.0, 471500.0]</th>\n",
       "      <td>86955</td>\n",
       "      <td>8799</td>\n",
       "    </tr>\n",
       "  </tbody>\n",
       "</table>\n",
       "</div>"
      ],
      "text/plain": [
       "Default                   0     1\n",
       "OrUnpaidPrinc                    \n",
       "(7999.999, 119000.0]  89743  8028\n",
       "(119000.0, 180000.0]  91373  8964\n",
       "(180000.0, 260000.0]  86108  9353\n",
       "(260000.0, 471500.0]  86955  8799"
      ]
     },
     "execution_count": 197,
     "metadata": {},
     "output_type": "execute_result"
    }
   ],
   "source": [
    "pd.crosstab(pd.qcut(acq_perf4[\"OrUnpaidPrinc\"],q=4),acq_perf4[\"Default\"])"
   ]
  },
  {
   "cell_type": "markdown",
   "metadata": {},
   "source": [
    "# most of defaulter  are having unpaid principal amout is in range of 180000-260000"
   ]
  },
  {
   "cell_type": "code",
   "execution_count": 198,
   "metadata": {},
   "outputs": [
    {
     "data": {
      "text/html": [
       "<div>\n",
       "<style scoped>\n",
       "    .dataframe tbody tr th:only-of-type {\n",
       "        vertical-align: middle;\n",
       "    }\n",
       "\n",
       "    .dataframe tbody tr th {\n",
       "        vertical-align: top;\n",
       "    }\n",
       "\n",
       "    .dataframe thead th {\n",
       "        text-align: right;\n",
       "    }\n",
       "</style>\n",
       "<table border=\"1\" class=\"dataframe\">\n",
       "  <thead>\n",
       "    <tr style=\"text-align: right;\">\n",
       "      <th>Default</th>\n",
       "      <th>0</th>\n",
       "      <th>1</th>\n",
       "    </tr>\n",
       "    <tr>\n",
       "      <th>OrInterestRate</th>\n",
       "      <th></th>\n",
       "      <th></th>\n",
       "    </tr>\n",
       "  </thead>\n",
       "  <tbody>\n",
       "    <tr>\n",
       "      <th>(5.499, 6.25]</th>\n",
       "      <td>114563</td>\n",
       "      <td>6256</td>\n",
       "    </tr>\n",
       "    <tr>\n",
       "      <th>(6.25, 6.5]</th>\n",
       "      <td>118381</td>\n",
       "      <td>10342</td>\n",
       "    </tr>\n",
       "    <tr>\n",
       "      <th>(6.5, 6.75]</th>\n",
       "      <td>66429</td>\n",
       "      <td>7763</td>\n",
       "    </tr>\n",
       "    <tr>\n",
       "      <th>(6.75, 7.5]</th>\n",
       "      <td>54806</td>\n",
       "      <td>10783</td>\n",
       "    </tr>\n",
       "  </tbody>\n",
       "</table>\n",
       "</div>"
      ],
      "text/plain": [
       "Default              0      1\n",
       "OrInterestRate               \n",
       "(5.499, 6.25]   114563   6256\n",
       "(6.25, 6.5]     118381  10342\n",
       "(6.5, 6.75]      66429   7763\n",
       "(6.75, 7.5]      54806  10783"
      ]
     },
     "execution_count": 198,
     "metadata": {},
     "output_type": "execute_result"
    }
   ],
   "source": [
    "pd.crosstab(pd.qcut(acq_perf4[\"OrInterestRate\"],q=4),acq_perf4[\"Default\"])"
   ]
  },
  {
   "cell_type": "markdown",
   "metadata": {},
   "source": [
    "# OrInterestRate: if interest rate >6.75 there more 16.5% chances customers is going to become defaulter"
   ]
  },
  {
   "cell_type": "code",
   "execution_count": 200,
   "metadata": {},
   "outputs": [
    {
     "data": {
      "text/html": [
       "<div>\n",
       "<style scoped>\n",
       "    .dataframe tbody tr th:only-of-type {\n",
       "        vertical-align: middle;\n",
       "    }\n",
       "\n",
       "    .dataframe tbody tr th {\n",
       "        vertical-align: top;\n",
       "    }\n",
       "\n",
       "    .dataframe thead th {\n",
       "        text-align: right;\n",
       "    }\n",
       "</style>\n",
       "<table border=\"1\" class=\"dataframe\">\n",
       "  <thead>\n",
       "    <tr style=\"text-align: right;\">\n",
       "      <th>Default</th>\n",
       "      <th>0</th>\n",
       "      <th>1</th>\n",
       "    </tr>\n",
       "    <tr>\n",
       "      <th>DTIRat</th>\n",
       "      <th></th>\n",
       "      <th></th>\n",
       "    </tr>\n",
       "  </thead>\n",
       "  <tbody>\n",
       "    <tr>\n",
       "      <th>(0.999, 30.0]</th>\n",
       "      <td>96703</td>\n",
       "      <td>5468</td>\n",
       "    </tr>\n",
       "    <tr>\n",
       "      <th>(30.0, 39.0]</th>\n",
       "      <td>91004</td>\n",
       "      <td>7920</td>\n",
       "    </tr>\n",
       "    <tr>\n",
       "      <th>(39.0, 48.0]</th>\n",
       "      <td>88184</td>\n",
       "      <td>11099</td>\n",
       "    </tr>\n",
       "    <tr>\n",
       "      <th>(48.0, 64.0]</th>\n",
       "      <td>78288</td>\n",
       "      <td>10657</td>\n",
       "    </tr>\n",
       "  </tbody>\n",
       "</table>\n",
       "</div>"
      ],
      "text/plain": [
       "Default            0      1\n",
       "DTIRat                     \n",
       "(0.999, 30.0]  96703   5468\n",
       "(30.0, 39.0]   91004   7920\n",
       "(39.0, 48.0]   88184  11099\n",
       "(48.0, 64.0]   78288  10657"
      ]
     },
     "execution_count": 200,
     "metadata": {},
     "output_type": "execute_result"
    }
   ],
   "source": [
    "pd.crosstab(pd.qcut(acq_perf4[\"DTIRat\"],q=4),acq_perf4[\"Default\"])"
   ]
  },
  {
   "cell_type": "markdown",
   "metadata": {},
   "source": [
    "# DTI ratio : if dti ratio is more than 40% there are 12% of customer are highly likely chances to become defaulter"
   ]
  },
  {
   "cell_type": "code",
   "execution_count": 202,
   "metadata": {},
   "outputs": [
    {
     "data": {
      "text/html": [
       "<div>\n",
       "<style scoped>\n",
       "    .dataframe tbody tr th:only-of-type {\n",
       "        vertical-align: middle;\n",
       "    }\n",
       "\n",
       "    .dataframe tbody tr th {\n",
       "        vertical-align: top;\n",
       "    }\n",
       "\n",
       "    .dataframe thead th {\n",
       "        text-align: right;\n",
       "    }\n",
       "</style>\n",
       "<table border=\"1\" class=\"dataframe\">\n",
       "  <thead>\n",
       "    <tr style=\"text-align: right;\">\n",
       "      <th>Default</th>\n",
       "      <th>0</th>\n",
       "      <th>1</th>\n",
       "    </tr>\n",
       "    <tr>\n",
       "      <th>FTHomeBuyer</th>\n",
       "      <th></th>\n",
       "      <th></th>\n",
       "    </tr>\n",
       "  </thead>\n",
       "  <tbody>\n",
       "    <tr>\n",
       "      <th>N</th>\n",
       "      <td>316801</td>\n",
       "      <td>32187</td>\n",
       "    </tr>\n",
       "    <tr>\n",
       "      <th>U</th>\n",
       "      <td>304</td>\n",
       "      <td>53</td>\n",
       "    </tr>\n",
       "    <tr>\n",
       "      <th>Y</th>\n",
       "      <td>37074</td>\n",
       "      <td>2904</td>\n",
       "    </tr>\n",
       "  </tbody>\n",
       "</table>\n",
       "</div>"
      ],
      "text/plain": [
       "Default           0      1\n",
       "FTHomeBuyer               \n",
       "N            316801  32187\n",
       "U               304     53\n",
       "Y             37074   2904"
      ]
     },
     "execution_count": 202,
     "metadata": {},
     "output_type": "execute_result"
    }
   ],
   "source": [
    "pd.crosstab(acq_perf2[\"FTHomeBuyer\"],acq_perf2[\"Default\"])"
   ]
  },
  {
   "cell_type": "markdown",
   "metadata": {},
   "source": [
    "# if customer is having more properites there are highly likely chance to become defaulter--- the default rate is 15%"
   ]
  },
  {
   "cell_type": "code",
   "execution_count": 203,
   "metadata": {},
   "outputs": [
    {
     "data": {
      "text/plain": [
       "Index(['OrInterestRate', 'OrUnpaidPrinc', 'OrLoanTerm', 'OrLTV', 'OrCLTV',\n",
       "       'NumBorrow', 'DTIRat', 'CreditScore', 'NumUnits', 'MortInsPerc',\n",
       "       'CoCreditScore', 'MortInsType', 'Default', 'Channel_C', 'Channel_R',\n",
       "       'FTHomeBuyer_U', 'FTHomeBuyer_Y', 'LoanPurpose_P', 'LoanPurpose_R',\n",
       "       'PropertyType_CP', 'PropertyType_MH', 'PropertyType_PU',\n",
       "       'PropertyType_SF', 'OccStatus_P', 'OccStatus_S'],\n",
       "      dtype='object')"
      ]
     },
     "execution_count": 203,
     "metadata": {},
     "output_type": "execute_result"
    }
   ],
   "source": [
    "acq_perf4.columns"
   ]
  },
  {
   "cell_type": "code",
   "execution_count": 204,
   "metadata": {},
   "outputs": [],
   "source": [
    "sample=acq_perf4[['OrInterestRate', 'OrUnpaidPrinc','OrLTV','DTIRat','MortInsPerc']]"
   ]
  },
  {
   "cell_type": "code",
   "execution_count": 205,
   "metadata": {},
   "outputs": [
    {
     "data": {
      "text/html": [
       "<div>\n",
       "<style scoped>\n",
       "    .dataframe tbody tr th:only-of-type {\n",
       "        vertical-align: middle;\n",
       "    }\n",
       "\n",
       "    .dataframe tbody tr th {\n",
       "        vertical-align: top;\n",
       "    }\n",
       "\n",
       "    .dataframe thead th {\n",
       "        text-align: right;\n",
       "    }\n",
       "</style>\n",
       "<table border=\"1\" class=\"dataframe\">\n",
       "  <thead>\n",
       "    <tr style=\"text-align: right;\">\n",
       "      <th></th>\n",
       "      <th>OrInterestRate</th>\n",
       "      <th>OrUnpaidPrinc</th>\n",
       "      <th>OrLTV</th>\n",
       "      <th>DTIRat</th>\n",
       "      <th>MortInsPerc</th>\n",
       "    </tr>\n",
       "  </thead>\n",
       "  <tbody>\n",
       "    <tr>\n",
       "      <th>0</th>\n",
       "      <td>6.625</td>\n",
       "      <td>343000</td>\n",
       "      <td>86</td>\n",
       "      <td>27.0</td>\n",
       "      <td>25.000000</td>\n",
       "    </tr>\n",
       "    <tr>\n",
       "      <th>1</th>\n",
       "      <td>6.250</td>\n",
       "      <td>400000</td>\n",
       "      <td>62</td>\n",
       "      <td>35.0</td>\n",
       "      <td>-14.825609</td>\n",
       "    </tr>\n",
       "    <tr>\n",
       "      <th>2</th>\n",
       "      <td>6.625</td>\n",
       "      <td>81000</td>\n",
       "      <td>64</td>\n",
       "      <td>53.0</td>\n",
       "      <td>-10.766463</td>\n",
       "    </tr>\n",
       "    <tr>\n",
       "      <th>3</th>\n",
       "      <td>6.500</td>\n",
       "      <td>119000</td>\n",
       "      <td>71</td>\n",
       "      <td>35.0</td>\n",
       "      <td>-1.551262</td>\n",
       "    </tr>\n",
       "    <tr>\n",
       "      <th>4</th>\n",
       "      <td>6.625</td>\n",
       "      <td>205000</td>\n",
       "      <td>27</td>\n",
       "      <td>54.0</td>\n",
       "      <td>-44.880000</td>\n",
       "    </tr>\n",
       "  </tbody>\n",
       "</table>\n",
       "</div>"
      ],
      "text/plain": [
       "   OrInterestRate  OrUnpaidPrinc  OrLTV  DTIRat  MortInsPerc\n",
       "0           6.625         343000     86    27.0    25.000000\n",
       "1           6.250         400000     62    35.0   -14.825609\n",
       "2           6.625          81000     64    53.0   -10.766463\n",
       "3           6.500         119000     71    35.0    -1.551262\n",
       "4           6.625         205000     27    54.0   -44.880000"
      ]
     },
     "execution_count": 205,
     "metadata": {},
     "output_type": "execute_result"
    }
   ],
   "source": [
    "sample.head()"
   ]
  },
  {
   "cell_type": "code",
   "execution_count": 209,
   "metadata": {},
   "outputs": [],
   "source": [
    "# to make all variables into same units , we have to use minmax scalar\n",
    "from sklearn.preprocessing import MinMaxScaler\n",
    "mn=MinMaxScaler()\n",
    "sample1=pd.DataFrame(mn.fit_transform(sample),columns=sample.columns)"
   ]
  },
  {
   "cell_type": "code",
   "execution_count": 210,
   "metadata": {},
   "outputs": [
    {
     "data": {
      "text/html": [
       "<div>\n",
       "<style scoped>\n",
       "    .dataframe tbody tr th:only-of-type {\n",
       "        vertical-align: middle;\n",
       "    }\n",
       "\n",
       "    .dataframe tbody tr th {\n",
       "        vertical-align: top;\n",
       "    }\n",
       "\n",
       "    .dataframe thead th {\n",
       "        text-align: right;\n",
       "    }\n",
       "</style>\n",
       "<table border=\"1\" class=\"dataframe\">\n",
       "  <thead>\n",
       "    <tr style=\"text-align: right;\">\n",
       "      <th></th>\n",
       "      <th>OrInterestRate</th>\n",
       "      <th>OrUnpaidPrinc</th>\n",
       "      <th>OrLTV</th>\n",
       "      <th>DTIRat</th>\n",
       "      <th>MortInsPerc</th>\n",
       "    </tr>\n",
       "  </thead>\n",
       "  <tbody>\n",
       "    <tr>\n",
       "      <th>0</th>\n",
       "      <td>0.5625</td>\n",
       "      <td>0.722762</td>\n",
       "      <td>0.885417</td>\n",
       "      <td>0.412698</td>\n",
       "      <td>0.833095</td>\n",
       "    </tr>\n",
       "    <tr>\n",
       "      <th>1</th>\n",
       "      <td>0.3750</td>\n",
       "      <td>0.845739</td>\n",
       "      <td>0.635417</td>\n",
       "      <td>0.539683</td>\n",
       "      <td>0.358302</td>\n",
       "    </tr>\n",
       "    <tr>\n",
       "      <th>2</th>\n",
       "      <td>0.5625</td>\n",
       "      <td>0.157497</td>\n",
       "      <td>0.656250</td>\n",
       "      <td>0.825397</td>\n",
       "      <td>0.406695</td>\n",
       "    </tr>\n",
       "    <tr>\n",
       "      <th>3</th>\n",
       "      <td>0.5000</td>\n",
       "      <td>0.239482</td>\n",
       "      <td>0.729167</td>\n",
       "      <td>0.539683</td>\n",
       "      <td>0.516556</td>\n",
       "    </tr>\n",
       "    <tr>\n",
       "      <th>4</th>\n",
       "      <td>0.5625</td>\n",
       "      <td>0.425027</td>\n",
       "      <td>0.270833</td>\n",
       "      <td>0.841270</td>\n",
       "      <td>0.000000</td>\n",
       "    </tr>\n",
       "  </tbody>\n",
       "</table>\n",
       "</div>"
      ],
      "text/plain": [
       "   OrInterestRate  OrUnpaidPrinc     OrLTV    DTIRat  MortInsPerc\n",
       "0          0.5625       0.722762  0.885417  0.412698     0.833095\n",
       "1          0.3750       0.845739  0.635417  0.539683     0.358302\n",
       "2          0.5625       0.157497  0.656250  0.825397     0.406695\n",
       "3          0.5000       0.239482  0.729167  0.539683     0.516556\n",
       "4          0.5625       0.425027  0.270833  0.841270     0.000000"
      ]
     },
     "execution_count": 210,
     "metadata": {},
     "output_type": "execute_result"
    }
   ],
   "source": [
    "sample1.head()"
   ]
  },
  {
   "cell_type": "code",
   "execution_count": 211,
   "metadata": {},
   "outputs": [],
   "source": [
    "# divide the data into segments to draw patterns of a data, we are going to apply clustering algoritham\n"
   ]
  },
  {
   "cell_type": "code",
   "execution_count": 213,
   "metadata": {},
   "outputs": [
    {
     "data": {
      "image/png": "[encoded data removed]",
      "text/plain": [
       "<Figure size 432x288 with 1 Axes>"
      ]
     },
     "metadata": {
      "needs_background": "light"
     },
     "output_type": "display_data"
    }
   ],
   "source": [
    "import matplotlib.pyplot as plt\n",
    "sse = {}\n",
    "for k in range(2, 10):\n",
    "    kmeans = KMeans(n_clusters=k, max_iter=100).fit(sample1)\n",
    "    sample1[\"clusters\"] = kmeans.labels_\n",
    "    #print(data[\"clusters\"])\n",
    "    sse[k] = kmeans.inertia_ # Inertia: Sum of distances of samples to their closest cluster center\n",
    "plt.figure()\n",
    "plt.plot(list(sse.keys()), list(sse.values()))\n",
    "plt.xlabel(\"Number of cluster\")\n",
    "plt.ylabel(\"SSE\")\n",
    "plt.show()"
   ]
  },
  {
   "cell_type": "code",
   "execution_count": 215,
   "metadata": {},
   "outputs": [],
   "source": [
    "sample1.drop([\"clusters\"],axis=1,inplace=True)"
   ]
  },
  {
   "cell_type": "code",
   "execution_count": 216,
   "metadata": {},
   "outputs": [
    {
     "data": {
      "text/plain": [
       "KMeans(algorithm='auto', copy_x=True, init='k-means++', max_iter=300,\n",
       "       n_clusters=3, n_init=10, n_jobs=None, precompute_distances='auto',\n",
       "       random_state=None, tol=0.0001, verbose=0)"
      ]
     },
     "execution_count": 216,
     "metadata": {},
     "output_type": "execute_result"
    }
   ],
   "source": [
    "from sklearn.cluster import KMeans\n",
    "km=KMeans(n_clusters=3)\n",
    "km.fit(sample1)\n"
   ]
  },
  {
   "cell_type": "code",
   "execution_count": 217,
   "metadata": {},
   "outputs": [
    {
     "data": {
      "text/plain": [
       "array([2, 2, 0, ..., 1, 2, 1])"
      ]
     },
     "execution_count": 217,
     "metadata": {},
     "output_type": "execute_result"
    }
   ],
   "source": [
    "km.labels_"
   ]
  },
  {
   "cell_type": "code",
   "execution_count": 218,
   "metadata": {},
   "outputs": [],
   "source": [
    "sample1[\"cluster\"]=km.labels_"
   ]
  },
  {
   "cell_type": "code",
   "execution_count": 219,
   "metadata": {},
   "outputs": [
    {
     "data": {
      "text/plain": [
       "0    186574\n",
       "2    113871\n",
       "1     88878\n",
       "Name: cluster, dtype: int64"
      ]
     },
     "execution_count": 219,
     "metadata": {},
     "output_type": "execute_result"
    }
   ],
   "source": [
    "sample1[\"cluster\"].value_counts()"
   ]
  },
  {
   "cell_type": "code",
   "execution_count": 220,
   "metadata": {},
   "outputs": [],
   "source": [
    "acq_perf4[\"cluster\"]=km.labels_"
   ]
  },
  {
   "cell_type": "code",
   "execution_count": 221,
   "metadata": {},
   "outputs": [
    {
     "data": {
      "text/plain": [
       "0    186574\n",
       "2    113871\n",
       "1     88878\n",
       "Name: cluster, dtype: int64"
      ]
     },
     "execution_count": 221,
     "metadata": {},
     "output_type": "execute_result"
    }
   ],
   "source": [
    "acq_perf4[\"cluster\"].value_counts()"
   ]
  },
  {
   "cell_type": "code",
   "execution_count": 238,
   "metadata": {},
   "outputs": [
    {
     "name": "stdout",
     "output_type": "stream",
     "text": [
      "(186574, 26) (88878, 26) (113871, 26)\n"
     ]
    }
   ],
   "source": [
    "seg_data_0=acq_perf4[acq_perf4[\"cluster\"]==0].copy()\n",
    "seg_data_1=acq_perf4[acq_perf4[\"cluster\"]==1].copy()\n",
    "seg_data_2=acq_perf4[acq_perf4[\"cluster\"]==2].copy()\n",
    "print(seg_data_0.shape,seg_data_1.shape,seg_data_2.shape)"
   ]
  },
  {
   "cell_type": "code",
   "execution_count": 223,
   "metadata": {
    "scrolled": true
   },
   "outputs": [
    {
     "data": {
      "text/html": [
       "<div>\n",
       "<style scoped>\n",
       "    .dataframe tbody tr th:only-of-type {\n",
       "        vertical-align: middle;\n",
       "    }\n",
       "\n",
       "    .dataframe tbody tr th {\n",
       "        vertical-align: top;\n",
       "    }\n",
       "\n",
       "    .dataframe thead th {\n",
       "        text-align: right;\n",
       "    }\n",
       "</style>\n",
       "<table border=\"1\" class=\"dataframe\">\n",
       "  <thead>\n",
       "    <tr style=\"text-align: right;\">\n",
       "      <th></th>\n",
       "      <th>OrInterestRate</th>\n",
       "      <th>OrUnpaidPrinc</th>\n",
       "      <th>OrLTV</th>\n",
       "      <th>DTIRat</th>\n",
       "      <th>MortInsPerc</th>\n",
       "    </tr>\n",
       "  </thead>\n",
       "  <tbody>\n",
       "    <tr>\n",
       "      <th>0</th>\n",
       "      <td>6.625</td>\n",
       "      <td>343000</td>\n",
       "      <td>86</td>\n",
       "      <td>27.0</td>\n",
       "      <td>25.000000</td>\n",
       "    </tr>\n",
       "    <tr>\n",
       "      <th>1</th>\n",
       "      <td>6.250</td>\n",
       "      <td>400000</td>\n",
       "      <td>62</td>\n",
       "      <td>35.0</td>\n",
       "      <td>-14.825609</td>\n",
       "    </tr>\n",
       "    <tr>\n",
       "      <th>2</th>\n",
       "      <td>6.625</td>\n",
       "      <td>81000</td>\n",
       "      <td>64</td>\n",
       "      <td>53.0</td>\n",
       "      <td>-10.766463</td>\n",
       "    </tr>\n",
       "    <tr>\n",
       "      <th>3</th>\n",
       "      <td>6.500</td>\n",
       "      <td>119000</td>\n",
       "      <td>71</td>\n",
       "      <td>35.0</td>\n",
       "      <td>-1.551262</td>\n",
       "    </tr>\n",
       "    <tr>\n",
       "      <th>4</th>\n",
       "      <td>6.625</td>\n",
       "      <td>205000</td>\n",
       "      <td>27</td>\n",
       "      <td>54.0</td>\n",
       "      <td>-44.880000</td>\n",
       "    </tr>\n",
       "  </tbody>\n",
       "</table>\n",
       "</div>"
      ],
      "text/plain": [
       "   OrInterestRate  OrUnpaidPrinc  OrLTV  DTIRat  MortInsPerc\n",
       "0           6.625         343000     86    27.0    25.000000\n",
       "1           6.250         400000     62    35.0   -14.825609\n",
       "2           6.625          81000     64    53.0   -10.766463\n",
       "3           6.500         119000     71    35.0    -1.551262\n",
       "4           6.625         205000     27    54.0   -44.880000"
      ]
     },
     "execution_count": 223,
     "metadata": {},
     "output_type": "execute_result"
    }
   ],
   "source": [
    "sample.head()"
   ]
  },
  {
   "cell_type": "code",
   "execution_count": 224,
   "metadata": {},
   "outputs": [
    {
     "name": "stderr",
     "output_type": "stream",
     "text": [
      "C:\\Users\\Koti\\Anaconda3\\lib\\site-packages\\ipykernel_launcher.py:1: SettingWithCopyWarning: \n",
      "A value is trying to be set on a copy of a slice from a DataFrame.\n",
      "Try using .loc[row_indexer,col_indexer] = value instead\n",
      "\n",
      "See the caveats in the documentation: http://pandas.pydata.org/pandas-docs/stable/user_guide/indexing.html#returning-a-view-versus-a-copy\n",
      "  \"\"\"Entry point for launching an IPython kernel.\n"
     ]
    }
   ],
   "source": [
    "sample[\"cluster\"]=km.labels_"
   ]
  },
  {
   "cell_type": "code",
   "execution_count": 225,
   "metadata": {},
   "outputs": [
    {
     "data": {
      "text/plain": [
       "0    186574\n",
       "2    113871\n",
       "1     88878\n",
       "Name: cluster, dtype: int64"
      ]
     },
     "execution_count": 225,
     "metadata": {},
     "output_type": "execute_result"
    }
   ],
   "source": [
    "sample[\"cluster\"].value_counts()"
   ]
  },
  {
   "cell_type": "code",
   "execution_count": 228,
   "metadata": {},
   "outputs": [],
   "source": [
    "abc_0=sample[sample[\"cluster\"]==0]\n",
    "abc_1=sample[sample[\"cluster\"]==1]"
   ]
  },
  {
   "cell_type": "code",
   "execution_count": 227,
   "metadata": {},
   "outputs": [
    {
     "data": {
      "text/html": [
       "<div>\n",
       "<style scoped>\n",
       "    .dataframe tbody tr th:only-of-type {\n",
       "        vertical-align: middle;\n",
       "    }\n",
       "\n",
       "    .dataframe tbody tr th {\n",
       "        vertical-align: top;\n",
       "    }\n",
       "\n",
       "    .dataframe thead th {\n",
       "        text-align: right;\n",
       "    }\n",
       "</style>\n",
       "<table border=\"1\" class=\"dataframe\">\n",
       "  <thead>\n",
       "    <tr style=\"text-align: right;\">\n",
       "      <th></th>\n",
       "      <th>OrInterestRate</th>\n",
       "      <th>OrUnpaidPrinc</th>\n",
       "      <th>OrLTV</th>\n",
       "      <th>DTIRat</th>\n",
       "      <th>MortInsPerc</th>\n",
       "      <th>cluster</th>\n",
       "    </tr>\n",
       "  </thead>\n",
       "  <tbody>\n",
       "    <tr>\n",
       "      <th>2</th>\n",
       "      <td>6.625</td>\n",
       "      <td>81000</td>\n",
       "      <td>64</td>\n",
       "      <td>53.0</td>\n",
       "      <td>-10.766463</td>\n",
       "      <td>0</td>\n",
       "    </tr>\n",
       "    <tr>\n",
       "      <th>3</th>\n",
       "      <td>6.500</td>\n",
       "      <td>119000</td>\n",
       "      <td>71</td>\n",
       "      <td>35.0</td>\n",
       "      <td>-1.551262</td>\n",
       "      <td>0</td>\n",
       "    </tr>\n",
       "    <tr>\n",
       "      <th>5</th>\n",
       "      <td>6.375</td>\n",
       "      <td>210000</td>\n",
       "      <td>80</td>\n",
       "      <td>42.0</td>\n",
       "      <td>8.770598</td>\n",
       "      <td>0</td>\n",
       "    </tr>\n",
       "    <tr>\n",
       "      <th>6</th>\n",
       "      <td>6.750</td>\n",
       "      <td>172000</td>\n",
       "      <td>95</td>\n",
       "      <td>42.0</td>\n",
       "      <td>30.000000</td>\n",
       "      <td>0</td>\n",
       "    </tr>\n",
       "    <tr>\n",
       "      <th>7</th>\n",
       "      <td>6.875</td>\n",
       "      <td>108000</td>\n",
       "      <td>90</td>\n",
       "      <td>51.0</td>\n",
       "      <td>25.000000</td>\n",
       "      <td>0</td>\n",
       "    </tr>\n",
       "  </tbody>\n",
       "</table>\n",
       "</div>"
      ],
      "text/plain": [
       "   OrInterestRate  OrUnpaidPrinc  OrLTV  DTIRat  MortInsPerc  cluster\n",
       "2           6.625          81000     64    53.0   -10.766463        0\n",
       "3           6.500         119000     71    35.0    -1.551262        0\n",
       "5           6.375         210000     80    42.0     8.770598        0\n",
       "6           6.750         172000     95    42.0    30.000000        0\n",
       "7           6.875         108000     90    51.0    25.000000        0"
      ]
     },
     "execution_count": 227,
     "metadata": {},
     "output_type": "execute_result"
    }
   ],
   "source": [
    "abc_0.head()"
   ]
  },
  {
   "cell_type": "code",
   "execution_count": 229,
   "metadata": {},
   "outputs": [
    {
     "data": {
      "text/plain": [
       "OrInterestRate       5.500000\n",
       "OrUnpaidPrinc     8000.000000\n",
       "OrLTV                9.000000\n",
       "DTIRat               1.000000\n",
       "MortInsPerc        -18.944653\n",
       "cluster              0.000000\n",
       "dtype: float64"
      ]
     },
     "execution_count": 229,
     "metadata": {},
     "output_type": "execute_result"
    }
   ],
   "source": [
    "abc_0.min()"
   ]
  },
  {
   "cell_type": "code",
   "execution_count": 230,
   "metadata": {},
   "outputs": [
    {
     "data": {
      "text/plain": [
       "OrInterestRate         7.5\n",
       "OrUnpaidPrinc     351000.0\n",
       "OrLTV                 97.0\n",
       "DTIRat                64.0\n",
       "MortInsPerc           38.0\n",
       "cluster                0.0\n",
       "dtype: float64"
      ]
     },
     "execution_count": 230,
     "metadata": {},
     "output_type": "execute_result"
    }
   ],
   "source": [
    "abc_0.max()"
   ]
  },
  {
   "cell_type": "markdown",
   "metadata": {},
   "source": [
    "# group0: 5.5 <=OrInterestRate <=7.5 and 8000<=OrUnpaidPrinc <=351000.0 and 9<=OrLTV<=97.0 and 1<=DTIRAT<=64 and 18<=MortInsPerc<=38"
   ]
  },
  {
   "cell_type": "code",
   "execution_count": 233,
   "metadata": {},
   "outputs": [
    {
     "data": {
      "text/plain": [
       "OrInterestRate       5.50\n",
       "OrUnpaidPrinc     8000.00\n",
       "OrLTV                1.00\n",
       "DTIRat               1.00\n",
       "MortInsPerc        -44.88\n",
       "cluster              1.00\n",
       "dtype: float64"
      ]
     },
     "execution_count": 233,
     "metadata": {},
     "output_type": "execute_result"
    }
   ],
   "source": [
    "abc_1.min()"
   ]
  },
  {
   "cell_type": "code",
   "execution_count": 234,
   "metadata": {},
   "outputs": [
    {
     "data": {
      "text/plain": [
       "OrInterestRate         7.5\n",
       "OrUnpaidPrinc     471500.0\n",
       "OrLTV                 75.0\n",
       "DTIRat                64.0\n",
       "MortInsPerc           20.0\n",
       "cluster                1.0\n",
       "dtype: float64"
      ]
     },
     "execution_count": 234,
     "metadata": {},
     "output_type": "execute_result"
    }
   ],
   "source": [
    "abc_1.max()"
   ]
  },
  {
   "cell_type": "markdown",
   "metadata": {},
   "source": [
    "# group1: 5.5 <=OrInterestRate <=7.5 and 8000<=OrUnpaidPrinc <=471500.0 and 1<=OrLTV<=75.0 and 1<=DTIRAT<=64 and -44<=MortInsPerc<=20"
   ]
  },
  {
   "cell_type": "code",
   "execution_count": 235,
   "metadata": {},
   "outputs": [
    {
     "data": {
      "text/plain": [
       "(186574, 26)"
      ]
     },
     "execution_count": 235,
     "metadata": {},
     "output_type": "execute_result"
    }
   ],
   "source": [
    "seg_data_0.shape"
   ]
  },
  {
   "cell_type": "code",
   "execution_count": 236,
   "metadata": {},
   "outputs": [
    {
     "data": {
      "text/plain": [
       "Index(['OrInterestRate', 'OrUnpaidPrinc', 'OrLoanTerm', 'OrLTV', 'OrCLTV',\n",
       "       'NumBorrow', 'DTIRat', 'CreditScore', 'NumUnits', 'MortInsPerc',\n",
       "       'CoCreditScore', 'MortInsType', 'Default', 'Channel_C', 'Channel_R',\n",
       "       'FTHomeBuyer_U', 'FTHomeBuyer_Y', 'LoanPurpose_P', 'LoanPurpose_R',\n",
       "       'PropertyType_CP', 'PropertyType_MH', 'PropertyType_PU',\n",
       "       'PropertyType_SF', 'OccStatus_P', 'OccStatus_S', 'cluster'],\n",
       "      dtype='object')"
      ]
     },
     "execution_count": 236,
     "metadata": {},
     "output_type": "execute_result"
    }
   ],
   "source": [
    "seg_data_0.columns"
   ]
  },
  {
   "cell_type": "code",
   "execution_count": 239,
   "metadata": {},
   "outputs": [],
   "source": [
    "seg_data_0.drop([\"cluster\"],axis=1,inplace=True)"
   ]
  },
  {
   "cell_type": "code",
   "execution_count": 240,
   "metadata": {},
   "outputs": [
    {
     "data": {
      "text/plain": [
       "(186574, 25)"
      ]
     },
     "execution_count": 240,
     "metadata": {},
     "output_type": "execute_result"
    }
   ],
   "source": [
    "seg_data_0.shape"
   ]
  },
  {
   "cell_type": "code",
   "execution_count": 242,
   "metadata": {},
   "outputs": [
    {
     "data": {
      "text/plain": [
       "0    88.2154\n",
       "1    11.7846\n",
       "Name: Default, dtype: float64"
      ]
     },
     "execution_count": 242,
     "metadata": {},
     "output_type": "execute_result"
    }
   ],
   "source": [
    "seg_data_0[\"Default\"].value_counts()/len(seg_data_0)*100"
   ]
  },
  {
   "cell_type": "code",
   "execution_count": 243,
   "metadata": {},
   "outputs": [
    {
     "data": {
      "text/plain": [
       "0    97.38968\n",
       "1     2.61032\n",
       "Name: Default, dtype: float64"
      ]
     },
     "execution_count": 243,
     "metadata": {},
     "output_type": "execute_result"
    }
   ],
   "source": [
    "seg_data_1[\"Default\"].value_counts()/len(seg_data_1)*100"
   ]
  },
  {
   "cell_type": "code",
   "execution_count": 244,
   "metadata": {},
   "outputs": [
    {
     "data": {
      "text/plain": [
       "0    90.483091\n",
       "1     9.516909\n",
       "Name: Default, dtype: float64"
      ]
     },
     "execution_count": 244,
     "metadata": {},
     "output_type": "execute_result"
    }
   ],
   "source": [
    "seg_data_2[\"Default\"].value_counts()/len(seg_data_2)*100"
   ]
  },
  {
   "cell_type": "code",
   "execution_count": 245,
   "metadata": {},
   "outputs": [
    {
     "data": {
      "text/plain": [
       "(186574, 25)"
      ]
     },
     "execution_count": 245,
     "metadata": {},
     "output_type": "execute_result"
    }
   ],
   "source": [
    "seg_data_0.shape"
   ]
  },
  {
   "cell_type": "code",
   "execution_count": 246,
   "metadata": {},
   "outputs": [
    {
     "name": "stdout",
     "output_type": "stream",
     "text": [
      "(149259, 25) (37315, 25)\n"
     ]
    }
   ],
   "source": [
    "from sklearn.model_selection import train_test_split\n",
    "train,test=train_test_split(seg_data_0,test_size=0.2,random_state=0)\n",
    "print(train.shape,test.shape)"
   ]
  },
  {
   "cell_type": "code",
   "execution_count": 247,
   "metadata": {},
   "outputs": [],
   "source": [
    "x_train=train.drop([\"Default\"],axis=1)\n",
    "y_train=train[\"Default\"]\n",
    "x_test=test.drop([\"Default\"],axis=1)\n",
    "y_test=test[\"Default\"]"
   ]
  },
  {
   "cell_type": "markdown",
   "metadata": {},
   "source": [
    "# Generally follow the variable reduction method for classification algorithms:\n",
    "\n",
    "1. informatio  gain/Gini\n",
    "\n",
    "2. Pairwaise correlation\n",
    "\n",
    "3. VIF\n",
    "4. P-value"
   ]
  },
  {
   "cell_type": "code",
   "execution_count": 248,
   "metadata": {},
   "outputs": [
    {
     "data": {
      "text/plain": [
       "DecisionTreeClassifier(ccp_alpha=0.0, class_weight=None, criterion='gini',\n",
       "                       max_depth=None, max_features=None, max_leaf_nodes=None,\n",
       "                       min_impurity_decrease=0.0, min_impurity_split=None,\n",
       "                       min_samples_leaf=1, min_samples_split=2,\n",
       "                       min_weight_fraction_leaf=0.0, presort='deprecated',\n",
       "                       random_state=None, splitter='best')"
      ]
     },
     "execution_count": 248,
     "metadata": {},
     "output_type": "execute_result"
    }
   ],
   "source": [
    "from sklearn.tree import DecisionTreeClassifier\n",
    "dt=DecisionTreeClassifier()\n",
    "dt.fit(x_train,y_train)"
   ]
  },
  {
   "cell_type": "code",
   "execution_count": 249,
   "metadata": {},
   "outputs": [
    {
     "data": {
      "text/plain": [
       "array([2.16303091e-02, 5.18389815e-02, 2.92623445e-03, 2.60347330e-02,\n",
       "       1.19411580e-02, 1.93083941e-01, 3.08593744e-02, 4.15219176e-02,\n",
       "       1.90707914e-03, 1.14396321e-01, 2.84009403e-01, 2.85322807e-02,\n",
       "       5.54055137e-03, 9.71846361e-03, 1.24145753e-03, 1.64785473e-02,\n",
       "       9.90107182e-02, 1.71853996e-02, 1.24299149e-04, 4.16041137e-04,\n",
       "       5.96567250e-03, 8.78559273e-03, 2.49764882e-02, 1.87503631e-03])"
      ]
     },
     "execution_count": 249,
     "metadata": {},
     "output_type": "execute_result"
    }
   ],
   "source": [
    "dt.feature_importances_"
   ]
  },
  {
   "cell_type": "code",
   "execution_count": 260,
   "metadata": {},
   "outputs": [],
   "source": [
    "abc=pd.DataFrame(list(zip(x_train.columns,dt.feature_importances_)),columns=[\"var\",\"imp\"])"
   ]
  },
  {
   "cell_type": "code",
   "execution_count": 261,
   "metadata": {},
   "outputs": [
    {
     "data": {
      "text/plain": [
       "pandas.core.frame.DataFrame"
      ]
     },
     "execution_count": 261,
     "metadata": {},
     "output_type": "execute_result"
    }
   ],
   "source": [
    "type(abc)"
   ]
  },
  {
   "cell_type": "code",
   "execution_count": 278,
   "metadata": {},
   "outputs": [],
   "source": [
    "abc1=abc[abc[\"imp\"]>0.005].reset_index().drop([\"index\"],axis=1)"
   ]
  },
  {
   "cell_type": "code",
   "execution_count": 279,
   "metadata": {},
   "outputs": [
    {
     "data": {
      "text/plain": [
       "(18, 2)"
      ]
     },
     "execution_count": 279,
     "metadata": {},
     "output_type": "execute_result"
    }
   ],
   "source": [
    "abc1.shape"
   ]
  },
  {
   "cell_type": "code",
   "execution_count": 284,
   "metadata": {},
   "outputs": [
    {
     "data": {
      "text/html": [
       "<div>\n",
       "<style scoped>\n",
       "    .dataframe tbody tr th:only-of-type {\n",
       "        vertical-align: middle;\n",
       "    }\n",
       "\n",
       "    .dataframe tbody tr th {\n",
       "        vertical-align: top;\n",
       "    }\n",
       "\n",
       "    .dataframe thead th {\n",
       "        text-align: right;\n",
       "    }\n",
       "</style>\n",
       "<table border=\"1\" class=\"dataframe\">\n",
       "  <thead>\n",
       "    <tr style=\"text-align: right;\">\n",
       "      <th></th>\n",
       "      <th>var</th>\n",
       "      <th>imp</th>\n",
       "    </tr>\n",
       "  </thead>\n",
       "  <tbody>\n",
       "    <tr>\n",
       "      <th>0</th>\n",
       "      <td>OrInterestRate</td>\n",
       "      <td>0.021630</td>\n",
       "    </tr>\n",
       "    <tr>\n",
       "      <th>1</th>\n",
       "      <td>OrUnpaidPrinc</td>\n",
       "      <td>0.051839</td>\n",
       "    </tr>\n",
       "    <tr>\n",
       "      <th>2</th>\n",
       "      <td>OrLTV</td>\n",
       "      <td>0.026035</td>\n",
       "    </tr>\n",
       "    <tr>\n",
       "      <th>3</th>\n",
       "      <td>OrCLTV</td>\n",
       "      <td>0.011941</td>\n",
       "    </tr>\n",
       "    <tr>\n",
       "      <th>4</th>\n",
       "      <td>NumBorrow</td>\n",
       "      <td>0.193084</td>\n",
       "    </tr>\n",
       "  </tbody>\n",
       "</table>\n",
       "</div>"
      ],
      "text/plain": [
       "              var       imp\n",
       "0  OrInterestRate  0.021630\n",
       "1   OrUnpaidPrinc  0.051839\n",
       "2           OrLTV  0.026035\n",
       "3          OrCLTV  0.011941\n",
       "4       NumBorrow  0.193084"
      ]
     },
     "execution_count": 284,
     "metadata": {},
     "output_type": "execute_result"
    }
   ],
   "source": [
    "abc1.head()"
   ]
  },
  {
   "cell_type": "code",
   "execution_count": 289,
   "metadata": {},
   "outputs": [],
   "source": [
    "x_train1=x_train[list(abc1[\"var\"])]"
   ]
  },
  {
   "cell_type": "code",
   "execution_count": 290,
   "metadata": {},
   "outputs": [
    {
     "data": {
      "text/plain": [
       "(149259, 18)"
      ]
     },
     "execution_count": 290,
     "metadata": {},
     "output_type": "execute_result"
    }
   ],
   "source": [
    "x_train1.shape"
   ]
  },
  {
   "cell_type": "code",
   "execution_count": 311,
   "metadata": {},
   "outputs": [],
   "source": [
    "def pairwise_correlaiton(data,depdendent_col):\n",
    "    col=list(data.columns)\n",
    "    for i in col:\n",
    "        abc=abs(np.corrcoef(data[i],depdendent_col)[0][1])\n",
    "        if abc>0.02:\n",
    "            print(i)            "
   ]
  },
  {
   "cell_type": "code",
   "execution_count": 312,
   "metadata": {},
   "outputs": [
    {
     "name": "stdout",
     "output_type": "stream",
     "text": [
      "OrInterestRate\n",
      "OrUnpaidPrinc\n",
      "OrLTV\n",
      "OrCLTV\n",
      "NumBorrow\n",
      "DTIRat\n",
      "CreditScore\n",
      "MortInsPerc\n",
      "CoCreditScore\n",
      "MortInsType\n",
      "Channel_R\n",
      "FTHomeBuyer_Y\n",
      "LoanPurpose_P\n",
      "LoanPurpose_R\n",
      "OccStatus_P\n"
     ]
    }
   ],
   "source": [
    "abc2=pairwise_correlaiton(data=x_train1,depdendent_col=y_train)"
   ]
  },
  {
   "cell_type": "code",
   "execution_count": 328,
   "metadata": {},
   "outputs": [],
   "source": [
    "x_train2=x_train1[[\"OrInterestRate\",\n",
    "\"OrUnpaidPrinc\",\n",
    "\"OrLTV\",\n",
    "\"OrCLTV\",\n",
    "\"NumBorrow\",\n",
    "\"DTIRat\",\n",
    "\"CreditScore\",\n",
    "\"MortInsPerc\",\n",
    "\"CoCreditScore\",\n",
    "\"MortInsType\",\n",
    "\"Channel_R\",\n",
    "\"FTHomeBuyer_Y\",\n",
    "\"LoanPurpose_P\",\n",
    "\"LoanPurpose_R\",\n",
    "\"OccStatus_P\"\n",
    "]]"
   ]
  },
  {
   "cell_type": "code",
   "execution_count": 329,
   "metadata": {},
   "outputs": [
    {
     "data": {
      "text/plain": [
       "(149259, 15)"
      ]
     },
     "execution_count": 329,
     "metadata": {},
     "output_type": "execute_result"
    }
   ],
   "source": [
    "x_train2.shape"
   ]
  },
  {
   "cell_type": "code",
   "execution_count": 330,
   "metadata": {},
   "outputs": [],
   "source": [
    "# apply VIF method to drop the variables"
   ]
  },
  {
   "cell_type": "code",
   "execution_count": 333,
   "metadata": {},
   "outputs": [],
   "source": [
    "import statsmodels.formula.api as sm\n",
    "\n",
    "def vif_cal(input_data, dependent_col):\n",
    "    x_vars=input_data.copy()\n",
    "    xvar_names=x_vars.columns\n",
    "    for i in range(0,xvar_names.shape[0]):\n",
    "        y=x_vars[xvar_names[i]] \n",
    "        x=x_vars[xvar_names.drop(xvar_names[i])]\n",
    "        rsq=sm.ols(formula=\"y~x\", data=x_vars).fit().rsquared  \n",
    "        vif=round(1/(1-rsq),2)\n",
    "        print (xvar_names[i], \" VIF = \" , vif)"
   ]
  },
  {
   "cell_type": "code",
   "execution_count": 334,
   "metadata": {},
   "outputs": [
    {
     "name": "stdout",
     "output_type": "stream",
     "text": [
      "OrInterestRate  VIF =  1.26\n",
      "OrUnpaidPrinc  VIF =  1.17\n",
      "OrLTV  VIF =  15.93\n",
      "OrCLTV  VIF =  5.75\n",
      "NumBorrow  VIF =  1.05\n",
      "DTIRat  VIF =  1.04\n",
      "CreditScore  VIF =  1.45\n",
      "MortInsPerc  VIF =  11.56\n",
      "CoCreditScore  VIF =  1.64\n",
      "MortInsType  VIF =  1.57\n",
      "Channel_R  VIF =  1.04\n",
      "FTHomeBuyer_Y  VIF =  1.38\n",
      "LoanPurpose_P  VIF =  2.73\n",
      "LoanPurpose_R  VIF =  1.38\n",
      "OccStatus_P  VIF =  1.48\n"
     ]
    }
   ],
   "source": [
    "vif_cal(input_data=x_train2,dependent_col=y_train)"
   ]
  },
  {
   "cell_type": "code",
   "execution_count": 335,
   "metadata": {},
   "outputs": [
    {
     "name": "stderr",
     "output_type": "stream",
     "text": [
      "C:\\Users\\Koti\\Anaconda3\\lib\\site-packages\\pandas\\core\\frame.py:4117: SettingWithCopyWarning: \n",
      "A value is trying to be set on a copy of a slice from a DataFrame\n",
      "\n",
      "See the caveats in the documentation: http://pandas.pydata.org/pandas-docs/stable/user_guide/indexing.html#returning-a-view-versus-a-copy\n",
      "  errors=errors,\n"
     ]
    }
   ],
   "source": [
    "x_train2.drop([\"OrLTV\"],axis=1,inplace=True)"
   ]
  },
  {
   "cell_type": "code",
   "execution_count": 336,
   "metadata": {},
   "outputs": [
    {
     "name": "stdout",
     "output_type": "stream",
     "text": [
      "OrInterestRate  VIF =  1.25\n",
      "OrUnpaidPrinc  VIF =  1.17\n",
      "OrCLTV  VIF =  4.26\n",
      "NumBorrow  VIF =  1.05\n",
      "DTIRat  VIF =  1.04\n",
      "CreditScore  VIF =  1.45\n",
      "MortInsPerc  VIF =  4.07\n",
      "CoCreditScore  VIF =  1.64\n",
      "MortInsType  VIF =  1.54\n",
      "Channel_R  VIF =  1.03\n",
      "FTHomeBuyer_Y  VIF =  1.38\n",
      "LoanPurpose_P  VIF =  2.72\n",
      "LoanPurpose_R  VIF =  1.37\n",
      "OccStatus_P  VIF =  1.45\n"
     ]
    }
   ],
   "source": [
    "vif_cal(input_data=x_train2,dependent_col=y_train)"
   ]
  },
  {
   "cell_type": "code",
   "execution_count": 337,
   "metadata": {},
   "outputs": [],
   "source": [
    "x_train2.drop([\"OrCLTV\"],axis=1,inplace=True)"
   ]
  },
  {
   "cell_type": "code",
   "execution_count": 338,
   "metadata": {},
   "outputs": [
    {
     "name": "stdout",
     "output_type": "stream",
     "text": [
      "OrInterestRate  VIF =  1.25\n",
      "OrUnpaidPrinc  VIF =  1.17\n",
      "NumBorrow  VIF =  1.05\n",
      "DTIRat  VIF =  1.04\n",
      "CreditScore  VIF =  1.44\n",
      "MortInsPerc  VIF =  1.2\n",
      "CoCreditScore  VIF =  1.64\n",
      "MortInsType  VIF =  1.54\n",
      "Channel_R  VIF =  1.03\n",
      "FTHomeBuyer_Y  VIF =  1.38\n",
      "LoanPurpose_P  VIF =  2.62\n",
      "LoanPurpose_R  VIF =  1.35\n",
      "OccStatus_P  VIF =  1.4\n"
     ]
    }
   ],
   "source": [
    "vif_cal(input_data=x_train2,dependent_col=y_train)"
   ]
  },
  {
   "cell_type": "code",
   "execution_count": 339,
   "metadata": {},
   "outputs": [],
   "source": [
    "x_train2.drop([\"LoanPurpose_P\"],axis=1,inplace=True)"
   ]
  },
  {
   "cell_type": "code",
   "execution_count": 340,
   "metadata": {},
   "outputs": [
    {
     "name": "stdout",
     "output_type": "stream",
     "text": [
      "OrInterestRate  VIF =  1.24\n",
      "OrUnpaidPrinc  VIF =  1.16\n",
      "NumBorrow  VIF =  1.05\n",
      "DTIRat  VIF =  1.04\n",
      "CreditScore  VIF =  1.44\n",
      "MortInsPerc  VIF =  1.12\n",
      "CoCreditScore  VIF =  1.51\n",
      "MortInsType  VIF =  1.19\n",
      "Channel_R  VIF =  1.03\n",
      "FTHomeBuyer_Y  VIF =  1.18\n",
      "LoanPurpose_R  VIF =  1.06\n",
      "OccStatus_P  VIF =  1.38\n"
     ]
    }
   ],
   "source": [
    "vif_cal(input_data=x_train2,dependent_col=y_train)"
   ]
  },
  {
   "cell_type": "code",
   "execution_count": 341,
   "metadata": {},
   "outputs": [
    {
     "data": {
      "text/plain": [
       "LogisticRegression(C=1.0, class_weight=None, dual=False, fit_intercept=True,\n",
       "                   intercept_scaling=1, l1_ratio=None, max_iter=100,\n",
       "                   multi_class='auto', n_jobs=None, penalty='l2',\n",
       "                   random_state=None, solver='liblinear', tol=0.0001, verbose=0,\n",
       "                   warm_start=False)"
      ]
     },
     "execution_count": 341,
     "metadata": {},
     "output_type": "execute_result"
    }
   ],
   "source": [
    "from sklearn.linear_model import LogisticRegression\n",
    "lg=LogisticRegression(solver=\"liblinear\")\n",
    "lg.fit(x_train,y_train)"
   ]
  },
  {
   "cell_type": "code",
   "execution_count": 344,
   "metadata": {},
   "outputs": [
    {
     "data": {
      "text/plain": [
       "[('OrInterestRate', 0.005768063078491254),\n",
       " ('OrUnpaidPrinc', 5.211700797843085e-07),\n",
       " ('NumBorrow', 0.011856112221075167),\n",
       " ('DTIRat', 0.018215449807743006),\n",
       " ('CreditScore', 0.013640589137173455),\n",
       " ('MortInsPerc', -0.003973805768815007),\n",
       " ('CoCreditScore', 0.026475183699774564),\n",
       " ('MortInsType', -0.001183686188075198),\n",
       " ('Channel_R', 0.0007958624000171252),\n",
       " ('FTHomeBuyer_Y', -0.002468235575148787),\n",
       " ('LoanPurpose_R', -0.01285415731045168),\n",
       " ('OccStatus_P', 0.0004735523386061819)]"
      ]
     },
     "execution_count": 344,
     "metadata": {},
     "output_type": "execute_result"
    }
   ],
   "source": [
    "list(zip(x_train2.columns,lg.coef_[0]))"
   ]
  },
  {
   "cell_type": "code",
   "execution_count": 346,
   "metadata": {},
   "outputs": [],
   "source": [
    "x_train3=x_train2.copy()\n",
    "x_train3[\"default\"]=y_train"
   ]
  },
  {
   "cell_type": "code",
   "execution_count": 348,
   "metadata": {},
   "outputs": [
    {
     "name": "stdout",
     "output_type": "stream",
     "text": [
      "Optimization terminated successfully.\n",
      "         Current function value: 0.304586\n",
      "         Iterations 8\n"
     ]
    },
    {
     "data": {
      "text/html": [
       "<table class=\"simpletable\">\n",
       "<tr>\n",
       "        <td>Model:</td>              <td>Logit</td>      <td>Pseudo R-squared:</td>    <td>0.158</td>  \n",
       "</tr>\n",
       "<tr>\n",
       "  <td>Dependent Variable:</td>      <td>default</td>           <td>AIC:</td>        <td>90950.2887</td>\n",
       "</tr>\n",
       "<tr>\n",
       "         <td>Date:</td>        <td>2020-04-05 10:32</td>       <td>BIC:</td>        <td>91079.1634</td>\n",
       "</tr>\n",
       "<tr>\n",
       "   <td>No. Observations:</td>       <td>149259</td>       <td>Log-Likelihood:</td>    <td>-45462.</td> \n",
       "</tr>\n",
       "<tr>\n",
       "       <td>Df Model:</td>             <td>12</td>            <td>LL-Null:</td>        <td>-54019.</td> \n",
       "</tr>\n",
       "<tr>\n",
       "     <td>Df Residuals:</td>         <td>149246</td>        <td>LLR p-value:</td>      <td>0.0000</td>  \n",
       "</tr>\n",
       "<tr>\n",
       "      <td>Converged:</td>           <td>1.0000</td>           <td>Scale:</td>         <td>1.0000</td>  \n",
       "</tr>\n",
       "<tr>\n",
       "    <td>No. Iterations:</td>        <td>8.0000</td>              <td></td>               <td></td>     \n",
       "</tr>\n",
       "</table>\n",
       "<table class=\"simpletable\">\n",
       "<tr>\n",
       "         <td></td>         <th>Coef.</th>  <th>Std.Err.</th>     <th>z</th>     <th>P>|z|</th> <th>[0.025</th>  <th>0.975]</th> \n",
       "</tr>\n",
       "<tr>\n",
       "  <th>Intercept</th>      <td>15.8105</td>  <td>0.3396</td>   <td>46.5578</td> <td>0.0000</td> <td>15.1449</td> <td>16.4761</td>\n",
       "</tr>\n",
       "<tr>\n",
       "  <th>OrInterestRate</th> <td>0.4671</td>   <td>0.0254</td>   <td>18.3734</td> <td>0.0000</td> <td>0.4173</td>  <td>0.5169</td> \n",
       "</tr>\n",
       "<tr>\n",
       "  <th>OrUnpaidPrinc</th>  <td>0.0000</td>   <td>0.0000</td>   <td>22.7619</td> <td>0.0000</td> <td>0.0000</td>  <td>0.0000</td> \n",
       "</tr>\n",
       "<tr>\n",
       "  <th>NumBorrow</th>      <td>-1.1866</td>  <td>0.0220</td>  <td>-53.9057</td> <td>0.0000</td> <td>-1.2298</td> <td>-1.1435</td>\n",
       "</tr>\n",
       "<tr>\n",
       "  <th>DTIRat</th>         <td>0.0148</td>   <td>0.0008</td>   <td>19.6299</td> <td>0.0000</td> <td>0.0134</td>  <td>0.0163</td> \n",
       "</tr>\n",
       "<tr>\n",
       "  <th>CreditScore</th>    <td>-0.0018</td>  <td>0.0002</td>  <td>-10.7991</td> <td>0.0000</td> <td>-0.0022</td> <td>-0.0015</td>\n",
       "</tr>\n",
       "<tr>\n",
       "  <th>MortInsPerc</th>    <td>0.0198</td>   <td>0.0008</td>   <td>23.7106</td> <td>0.0000</td> <td>0.0181</td>  <td>0.0214</td> \n",
       "</tr>\n",
       "<tr>\n",
       "  <th>CoCreditScore</th>  <td>-0.0254</td>  <td>0.0003</td>  <td>-83.5713</td> <td>0.0000</td> <td>-0.0260</td> <td>-0.0248</td>\n",
       "</tr>\n",
       "<tr>\n",
       "  <th>MortInsType</th>    <td>-0.4551</td>  <td>0.1309</td>   <td>-3.4765</td> <td>0.0005</td> <td>-0.7117</td> <td>-0.1985</td>\n",
       "</tr>\n",
       "<tr>\n",
       "  <th>Channel_R</th>      <td>-0.2539</td>  <td>0.0184</td>  <td>-13.7733</td> <td>0.0000</td> <td>-0.2901</td> <td>-0.2178</td>\n",
       "</tr>\n",
       "<tr>\n",
       "  <th>FTHomeBuyer_Y</th>  <td>-0.1498</td>  <td>0.0317</td>   <td>-4.7288</td> <td>0.0000</td> <td>-0.2119</td> <td>-0.0877</td>\n",
       "</tr>\n",
       "<tr>\n",
       "  <th>LoanPurpose_R</th>  <td>0.1777</td>   <td>0.0207</td>   <td>8.5673</td>  <td>0.0000</td> <td>0.1370</td>  <td>0.2183</td> \n",
       "</tr>\n",
       "<tr>\n",
       "  <th>OccStatus_P</th>    <td>-1.1362</td>  <td>0.0255</td>  <td>-44.5953</td> <td>0.0000</td> <td>-1.1861</td> <td>-1.0863</td>\n",
       "</tr>\n",
       "</table>"
      ],
      "text/plain": [
       "<class 'statsmodels.iolib.summary2.Summary'>\n",
       "\"\"\"\n",
       "                         Results: Logit\n",
       "=================================================================\n",
       "Model:              Logit            Pseudo R-squared: 0.158     \n",
       "Dependent Variable: default          AIC:              90950.2887\n",
       "Date:               2020-04-05 10:32 BIC:              91079.1634\n",
       "No. Observations:   149259           Log-Likelihood:   -45462.   \n",
       "Df Model:           12               LL-Null:          -54019.   \n",
       "Df Residuals:       149246           LLR p-value:      0.0000    \n",
       "Converged:          1.0000           Scale:            1.0000    \n",
       "No. Iterations:     8.0000                                       \n",
       "-----------------------------------------------------------------\n",
       "                  Coef.  Std.Err.    z     P>|z|   [0.025  0.975]\n",
       "-----------------------------------------------------------------\n",
       "Intercept        15.8105   0.3396  46.5578 0.0000 15.1449 16.4761\n",
       "OrInterestRate    0.4671   0.0254  18.3734 0.0000  0.4173  0.5169\n",
       "OrUnpaidPrinc     0.0000   0.0000  22.7619 0.0000  0.0000  0.0000\n",
       "NumBorrow        -1.1866   0.0220 -53.9057 0.0000 -1.2298 -1.1435\n",
       "DTIRat            0.0148   0.0008  19.6299 0.0000  0.0134  0.0163\n",
       "CreditScore      -0.0018   0.0002 -10.7991 0.0000 -0.0022 -0.0015\n",
       "MortInsPerc       0.0198   0.0008  23.7106 0.0000  0.0181  0.0214\n",
       "CoCreditScore    -0.0254   0.0003 -83.5713 0.0000 -0.0260 -0.0248\n",
       "MortInsType      -0.4551   0.1309  -3.4765 0.0005 -0.7117 -0.1985\n",
       "Channel_R        -0.2539   0.0184 -13.7733 0.0000 -0.2901 -0.2178\n",
       "FTHomeBuyer_Y    -0.1498   0.0317  -4.7288 0.0000 -0.2119 -0.0877\n",
       "LoanPurpose_R     0.1777   0.0207   8.5673 0.0000  0.1370  0.2183\n",
       "OccStatus_P      -1.1362   0.0255 -44.5953 0.0000 -1.1861 -1.0863\n",
       "=================================================================\n",
       "\n",
       "\"\"\""
      ]
     },
     "execution_count": 348,
     "metadata": {},
     "output_type": "execute_result"
    }
   ],
   "source": [
    "import statsmodels.formula.api as sm\n",
    "model=sm.logit(formula=\"default~OrInterestRate+OrUnpaidPrinc+NumBorrow+DTIRat+CreditScore+MortInsPerc+CoCreditScore+MortInsType+Channel_R+FTHomeBuyer_Y+LoanPurpose_R+OccStatus_P\",data=x_train3).fit()\n",
    "model.summary2()\n"
   ]
  },
  {
   "cell_type": "code",
   "execution_count": 351,
   "metadata": {},
   "outputs": [
    {
     "data": {
      "text/plain": [
       "OrInterestRate    18.373430\n",
       "OrUnpaidPrinc     22.761860\n",
       "NumBorrow         53.905663\n",
       "DTIRat            19.629919\n",
       "CreditScore       10.799097\n",
       "MortInsPerc       23.710650\n",
       "CoCreditScore     83.571306\n",
       "MortInsType        3.476528\n",
       "Channel_R         13.773287\n",
       "FTHomeBuyer_Y      4.728809\n",
       "LoanPurpose_R      8.567279\n",
       "OccStatus_P       44.595268\n",
       "dtype: float64"
      ]
     },
     "execution_count": 351,
     "metadata": {},
     "output_type": "execute_result"
    }
   ],
   "source": [
    "abs(model.tvalues)[1:]"
   ]
  },
  {
   "cell_type": "code",
   "execution_count": 354,
   "metadata": {},
   "outputs": [],
   "source": [
    "x_train3[\"pred\"]=np.where(model.predict()>=0.5,1,0)"
   ]
  },
  {
   "cell_type": "code",
   "execution_count": 355,
   "metadata": {
    "scrolled": true
   },
   "outputs": [
    {
     "data": {
      "text/html": [
       "<div>\n",
       "<style scoped>\n",
       "    .dataframe tbody tr th:only-of-type {\n",
       "        vertical-align: middle;\n",
       "    }\n",
       "\n",
       "    .dataframe tbody tr th {\n",
       "        vertical-align: top;\n",
       "    }\n",
       "\n",
       "    .dataframe thead th {\n",
       "        text-align: right;\n",
       "    }\n",
       "</style>\n",
       "<table border=\"1\" class=\"dataframe\">\n",
       "  <thead>\n",
       "    <tr style=\"text-align: right;\">\n",
       "      <th></th>\n",
       "      <th>OrInterestRate</th>\n",
       "      <th>OrUnpaidPrinc</th>\n",
       "      <th>NumBorrow</th>\n",
       "      <th>DTIRat</th>\n",
       "      <th>CreditScore</th>\n",
       "      <th>MortInsPerc</th>\n",
       "      <th>CoCreditScore</th>\n",
       "      <th>MortInsType</th>\n",
       "      <th>Channel_R</th>\n",
       "      <th>FTHomeBuyer_Y</th>\n",
       "      <th>LoanPurpose_R</th>\n",
       "      <th>OccStatus_P</th>\n",
       "      <th>default</th>\n",
       "      <th>pred</th>\n",
       "    </tr>\n",
       "  </thead>\n",
       "  <tbody>\n",
       "    <tr>\n",
       "      <th>62954</th>\n",
       "      <td>6.375</td>\n",
       "      <td>148000</td>\n",
       "      <td>2.0</td>\n",
       "      <td>30.0</td>\n",
       "      <td>603.0</td>\n",
       "      <td>8.566629</td>\n",
       "      <td>589.000000</td>\n",
       "      <td>1.012632</td>\n",
       "      <td>0</td>\n",
       "      <td>0</td>\n",
       "      <td>0</td>\n",
       "      <td>1</td>\n",
       "      <td>0</td>\n",
       "      <td>0</td>\n",
       "    </tr>\n",
       "    <tr>\n",
       "      <th>33959</th>\n",
       "      <td>6.875</td>\n",
       "      <td>122000</td>\n",
       "      <td>2.0</td>\n",
       "      <td>50.0</td>\n",
       "      <td>702.0</td>\n",
       "      <td>10.678711</td>\n",
       "      <td>702.000000</td>\n",
       "      <td>1.024266</td>\n",
       "      <td>0</td>\n",
       "      <td>0</td>\n",
       "      <td>0</td>\n",
       "      <td>0</td>\n",
       "      <td>0</td>\n",
       "      <td>0</td>\n",
       "    </tr>\n",
       "    <tr>\n",
       "      <th>128744</th>\n",
       "      <td>6.750</td>\n",
       "      <td>133000</td>\n",
       "      <td>1.0</td>\n",
       "      <td>37.0</td>\n",
       "      <td>647.0</td>\n",
       "      <td>30.000000</td>\n",
       "      <td>696.095799</td>\n",
       "      <td>1.000000</td>\n",
       "      <td>0</td>\n",
       "      <td>0</td>\n",
       "      <td>0</td>\n",
       "      <td>1</td>\n",
       "      <td>1</td>\n",
       "      <td>0</td>\n",
       "    </tr>\n",
       "    <tr>\n",
       "      <th>53425</th>\n",
       "      <td>6.875</td>\n",
       "      <td>53000</td>\n",
       "      <td>1.0</td>\n",
       "      <td>41.0</td>\n",
       "      <td>805.0</td>\n",
       "      <td>9.722619</td>\n",
       "      <td>755.124617</td>\n",
       "      <td>0.990392</td>\n",
       "      <td>1</td>\n",
       "      <td>0</td>\n",
       "      <td>0</td>\n",
       "      <td>0</td>\n",
       "      <td>0</td>\n",
       "      <td>0</td>\n",
       "    </tr>\n",
       "    <tr>\n",
       "      <th>260687</th>\n",
       "      <td>6.125</td>\n",
       "      <td>208000</td>\n",
       "      <td>1.0</td>\n",
       "      <td>34.0</td>\n",
       "      <td>668.0</td>\n",
       "      <td>25.000000</td>\n",
       "      <td>707.610664</td>\n",
       "      <td>1.000000</td>\n",
       "      <td>1</td>\n",
       "      <td>0</td>\n",
       "      <td>1</td>\n",
       "      <td>1</td>\n",
       "      <td>0</td>\n",
       "      <td>0</td>\n",
       "    </tr>\n",
       "  </tbody>\n",
       "</table>\n",
       "</div>"
      ],
      "text/plain": [
       "        OrInterestRate  OrUnpaidPrinc  NumBorrow  DTIRat  CreditScore  \\\n",
       "62954            6.375         148000        2.0    30.0        603.0   \n",
       "33959            6.875         122000        2.0    50.0        702.0   \n",
       "128744           6.750         133000        1.0    37.0        647.0   \n",
       "53425            6.875          53000        1.0    41.0        805.0   \n",
       "260687           6.125         208000        1.0    34.0        668.0   \n",
       "\n",
       "        MortInsPerc  CoCreditScore  MortInsType  Channel_R  FTHomeBuyer_Y  \\\n",
       "62954      8.566629     589.000000     1.012632          0              0   \n",
       "33959     10.678711     702.000000     1.024266          0              0   \n",
       "128744    30.000000     696.095799     1.000000          0              0   \n",
       "53425      9.722619     755.124617     0.990392          1              0   \n",
       "260687    25.000000     707.610664     1.000000          1              0   \n",
       "\n",
       "        LoanPurpose_R  OccStatus_P  default  pred  \n",
       "62954               0            1        0     0  \n",
       "33959               0            0        0     0  \n",
       "128744              0            1        1     0  \n",
       "53425               0            0        0     0  \n",
       "260687              1            1        0     0  "
      ]
     },
     "execution_count": 355,
     "metadata": {},
     "output_type": "execute_result"
    }
   ],
   "source": [
    "x_train3.head()"
   ]
  },
  {
   "cell_type": "code",
   "execution_count": 356,
   "metadata": {},
   "outputs": [
    {
     "data": {
      "text/plain": [
       "0    147159\n",
       "1      2100\n",
       "Name: pred, dtype: int64"
      ]
     },
     "execution_count": 356,
     "metadata": {},
     "output_type": "execute_result"
    }
   ],
   "source": [
    "x_train3[\"pred\"].value_counts()"
   ]
  },
  {
   "cell_type": "code",
   "execution_count": 358,
   "metadata": {},
   "outputs": [
    {
     "data": {
      "text/html": [
       "<div>\n",
       "<style scoped>\n",
       "    .dataframe tbody tr th:only-of-type {\n",
       "        vertical-align: middle;\n",
       "    }\n",
       "\n",
       "    .dataframe tbody tr th {\n",
       "        vertical-align: top;\n",
       "    }\n",
       "\n",
       "    .dataframe thead th {\n",
       "        text-align: right;\n",
       "    }\n",
       "</style>\n",
       "<table border=\"1\" class=\"dataframe\">\n",
       "  <thead>\n",
       "    <tr style=\"text-align: right;\">\n",
       "      <th>pred</th>\n",
       "      <th>0</th>\n",
       "      <th>1</th>\n",
       "    </tr>\n",
       "    <tr>\n",
       "      <th>OrUnpaidPrinc</th>\n",
       "      <th></th>\n",
       "      <th></th>\n",
       "    </tr>\n",
       "  </thead>\n",
       "  <tbody>\n",
       "    <tr>\n",
       "      <th>(7999.999, 105000.0]</th>\n",
       "      <td>36966</td>\n",
       "      <td>384</td>\n",
       "    </tr>\n",
       "    <tr>\n",
       "      <th>(105000.0, 146000.0]</th>\n",
       "      <td>37434</td>\n",
       "      <td>370</td>\n",
       "    </tr>\n",
       "    <tr>\n",
       "      <th>(146000.0, 184000.0]</th>\n",
       "      <td>36645</td>\n",
       "      <td>426</td>\n",
       "    </tr>\n",
       "    <tr>\n",
       "      <th>(184000.0, 351000.0]</th>\n",
       "      <td>36114</td>\n",
       "      <td>920</td>\n",
       "    </tr>\n",
       "  </tbody>\n",
       "</table>\n",
       "</div>"
      ],
      "text/plain": [
       "pred                      0    1\n",
       "OrUnpaidPrinc                   \n",
       "(7999.999, 105000.0]  36966  384\n",
       "(105000.0, 146000.0]  37434  370\n",
       "(146000.0, 184000.0]  36645  426\n",
       "(184000.0, 351000.0]  36114  920"
      ]
     },
     "execution_count": 358,
     "metadata": {},
     "output_type": "execute_result"
    }
   ],
   "source": [
    "pd.crosstab(pd.qcut(x_train3[\"OrUnpaidPrinc\"],q=4),x_train3[\"pred\"])"
   ]
  },
  {
   "cell_type": "code",
   "execution_count": 361,
   "metadata": {},
   "outputs": [
    {
     "data": {
      "text/plain": [
       "Index(['OrInterestRate', 'OrUnpaidPrinc', 'NumBorrow', 'DTIRat', 'CreditScore',\n",
       "       'MortInsPerc', 'CoCreditScore', 'MortInsType', 'Channel_R',\n",
       "       'FTHomeBuyer_Y', 'LoanPurpose_R', 'OccStatus_P', 'default', 'pred'],\n",
       "      dtype='object')"
      ]
     },
     "execution_count": 361,
     "metadata": {},
     "output_type": "execute_result"
    }
   ],
   "source": [
    "x_train3.columns"
   ]
  },
  {
   "cell_type": "code",
   "execution_count": 363,
   "metadata": {},
   "outputs": [],
   "source": [
    "x_test1=x_test.copy()\n"
   ]
  },
  {
   "cell_type": "code",
   "execution_count": 364,
   "metadata": {},
   "outputs": [
    {
     "data": {
      "text/plain": [
       "Index(['OrInterestRate', 'OrUnpaidPrinc', 'OrLoanTerm', 'OrLTV', 'OrCLTV',\n",
       "       'NumBorrow', 'DTIRat', 'CreditScore', 'NumUnits', 'MortInsPerc',\n",
       "       'CoCreditScore', 'MortInsType', 'Channel_C', 'Channel_R',\n",
       "       'FTHomeBuyer_U', 'FTHomeBuyer_Y', 'LoanPurpose_P', 'LoanPurpose_R',\n",
       "       'PropertyType_CP', 'PropertyType_MH', 'PropertyType_PU',\n",
       "       'PropertyType_SF', 'OccStatus_P', 'OccStatus_S', 'default'],\n",
       "      dtype='object')"
      ]
     },
     "execution_count": 364,
     "metadata": {},
     "output_type": "execute_result"
    }
   ],
   "source": [
    "x_test1.columns"
   ]
  },
  {
   "cell_type": "code",
   "execution_count": 367,
   "metadata": {},
   "outputs": [
    {
     "data": {
      "text/plain": [
       "'pred'"
      ]
     },
     "execution_count": 367,
     "metadata": {},
     "output_type": "execute_result"
    }
   ],
   "source": [
    "abc=list(x_train3.columns)\n",
    "abc.pop()"
   ]
  },
  {
   "cell_type": "code",
   "execution_count": 368,
   "metadata": {},
   "outputs": [],
   "source": [
    "x_test2=x_test1[abc]"
   ]
  },
  {
   "cell_type": "code",
   "execution_count": 372,
   "metadata": {},
   "outputs": [
    {
     "name": "stderr",
     "output_type": "stream",
     "text": [
      "C:\\Users\\Koti\\Anaconda3\\lib\\site-packages\\ipykernel_launcher.py:1: SettingWithCopyWarning: \n",
      "A value is trying to be set on a copy of a slice from a DataFrame.\n",
      "Try using .loc[row_indexer,col_indexer] = value instead\n",
      "\n",
      "See the caveats in the documentation: http://pandas.pydata.org/pandas-docs/stable/user_guide/indexing.html#returning-a-view-versus-a-copy\n",
      "  \"\"\"Entry point for launching an IPython kernel.\n"
     ]
    }
   ],
   "source": [
    "x_test2[\"pred\"]=np.where(model.predict(x_test2)>=0.5,1,0)"
   ]
  },
  {
   "cell_type": "code",
   "execution_count": 373,
   "metadata": {},
   "outputs": [
    {
     "data": {
      "text/html": [
       "<div>\n",
       "<style scoped>\n",
       "    .dataframe tbody tr th:only-of-type {\n",
       "        vertical-align: middle;\n",
       "    }\n",
       "\n",
       "    .dataframe tbody tr th {\n",
       "        vertical-align: top;\n",
       "    }\n",
       "\n",
       "    .dataframe thead th {\n",
       "        text-align: right;\n",
       "    }\n",
       "</style>\n",
       "<table border=\"1\" class=\"dataframe\">\n",
       "  <thead>\n",
       "    <tr style=\"text-align: right;\">\n",
       "      <th>pred</th>\n",
       "      <th>0</th>\n",
       "      <th>1</th>\n",
       "    </tr>\n",
       "    <tr>\n",
       "      <th>OrUnpaidPrinc</th>\n",
       "      <th></th>\n",
       "      <th></th>\n",
       "    </tr>\n",
       "  </thead>\n",
       "  <tbody>\n",
       "    <tr>\n",
       "      <th>(11999.999, 105000.0]</th>\n",
       "      <td>9284</td>\n",
       "      <td>107</td>\n",
       "    </tr>\n",
       "    <tr>\n",
       "      <th>(105000.0, 146000.0]</th>\n",
       "      <td>9237</td>\n",
       "      <td>95</td>\n",
       "    </tr>\n",
       "    <tr>\n",
       "      <th>(146000.0, 184000.0]</th>\n",
       "      <td>9160</td>\n",
       "      <td>106</td>\n",
       "    </tr>\n",
       "    <tr>\n",
       "      <th>(184000.0, 338000.0]</th>\n",
       "      <td>9089</td>\n",
       "      <td>237</td>\n",
       "    </tr>\n",
       "  </tbody>\n",
       "</table>\n",
       "</div>"
      ],
      "text/plain": [
       "pred                      0    1\n",
       "OrUnpaidPrinc                   \n",
       "(11999.999, 105000.0]  9284  107\n",
       "(105000.0, 146000.0]   9237   95\n",
       "(146000.0, 184000.0]   9160  106\n",
       "(184000.0, 338000.0]   9089  237"
      ]
     },
     "execution_count": 373,
     "metadata": {},
     "output_type": "execute_result"
    }
   ],
   "source": [
    "pd.crosstab(pd.qcut(x_test2[\"OrUnpaidPrinc\"],q=4),x_test2[\"pred\"])"
   ]
  },
  {
   "cell_type": "code",
   "execution_count": 374,
   "metadata": {},
   "outputs": [
    {
     "data": {
      "text/plain": [
       "0.8765643842958596"
      ]
     },
     "execution_count": 374,
     "metadata": {},
     "output_type": "execute_result"
    }
   ],
   "source": [
    "from sklearn.metrics import accuracy_score\n",
    "accuracy_score(x_test2[\"default\"],x_test2[\"pred\"])"
   ]
  },
  {
   "cell_type": "code",
   "execution_count": 375,
   "metadata": {},
   "outputs": [
    {
     "data": {
      "text/plain": [
       "0.8792300631787698"
      ]
     },
     "execution_count": 375,
     "metadata": {},
     "output_type": "execute_result"
    }
   ],
   "source": [
    "from sklearn.metrics import accuracy_score\n",
    "accuracy_score(x_train3[\"default\"],x_train3[\"pred\"])"
   ]
  },
  {
   "cell_type": "code",
   "execution_count": 377,
   "metadata": {},
   "outputs": [
    {
     "data": {
      "image/png": "[encoded data removed]",
      "text/plain": [
       "<Figure size 432x288 with 1 Axes>"
      ]
     },
     "metadata": {
      "needs_background": "light"
     },
     "output_type": "display_data"
    },
    {
     "data": {
      "text/plain": [
       "0.5180667777615353"
      ]
     },
     "execution_count": 377,
     "metadata": {},
     "output_type": "execute_result"
    }
   ],
   "source": [
    "######ROC AND AUC For Fiber bits model #########\n",
    "###for visualising the plots use matplotlib and import roc_curve,auc from sklearn.metrics \n",
    "from sklearn.metrics import roc_curve, auc\n",
    "import matplotlib.pyplot as plt\n",
    "\n",
    "actual = x_train3[['default']]\n",
    "predicted_values1=x_train3[[\"pred\"]]\n",
    "false_positive_rate, true_positive_rate, thresholds = roc_curve(actual, predicted_values1)\n",
    "plt.title('Receiver Operating Characteristic')\n",
    "plt.plot(false_positive_rate, true_positive_rate)\n",
    "plt.plot([0,1],[0,1],'r--')\n",
    "plt.xlim([-0.1,1.2])\n",
    "plt.ylim([-0.1,1.2])\n",
    "plt.ylabel('True Positive Rate(Sensitivity)')\n",
    "plt.xlabel('False Positive Rate(Specificity)')\n",
    "plt.show()\n",
    "\n",
    "###Area under Curve-AUC\n",
    "roc_auc = auc(false_positive_rate, true_positive_rate)\n",
    "roc_auc"
   ]
  },
  {
   "cell_type": "code",
   "execution_count": 378,
   "metadata": {},
   "outputs": [
    {
     "data": {
      "image/png": "[encoded data removed]",
      "text/plain": [
       "<Figure size 432x288 with 1 Axes>"
      ]
     },
     "metadata": {
      "needs_background": "light"
     },
     "output_type": "display_data"
    },
    {
     "data": {
      "text/plain": [
       "0.5164627873754296"
      ]
     },
     "execution_count": 378,
     "metadata": {},
     "output_type": "execute_result"
    }
   ],
   "source": [
    "######ROC AND AUC For Fiber bits model #########\n",
    "###for visualising the plots use matplotlib and import roc_curve,auc from sklearn.metrics \n",
    "from sklearn.metrics import roc_curve, auc\n",
    "import matplotlib.pyplot as plt\n",
    "\n",
    "actual = x_test2[['default']]\n",
    "predicted_values1=x_test2[[\"pred\"]]\n",
    "false_positive_rate, true_positive_rate, thresholds = roc_curve(actual, predicted_values1)\n",
    "plt.title('Receiver Operating Characteristic')\n",
    "plt.plot(false_positive_rate, true_positive_rate)\n",
    "plt.plot([0,1],[0,1],'r--')\n",
    "plt.xlim([-0.1,1.2])\n",
    "plt.ylim([-0.1,1.2])\n",
    "plt.ylabel('True Positive Rate(Sensitivity)')\n",
    "plt.xlabel('False Positive Rate(Specificity)')\n",
    "plt.show()\n",
    "\n",
    "###Area under Curve-AUC\n",
    "roc_auc = auc(false_positive_rate, true_positive_rate)\n",
    "roc_auc"
   ]
  },
  {
   "cell_type": "code",
   "execution_count": 379,
   "metadata": {},
   "outputs": [
    {
     "data": {
      "text/plain": [
       "(149259, 14)"
      ]
     },
     "execution_count": 379,
     "metadata": {},
     "output_type": "execute_result"
    }
   ],
   "source": [
    "x_train3.shape"
   ]
  },
  {
   "cell_type": "code",
   "execution_count": 380,
   "metadata": {},
   "outputs": [
    {
     "data": {
      "text/plain": [
       "Index(['OrInterestRate', 'OrUnpaidPrinc', 'NumBorrow', 'DTIRat', 'CreditScore',\n",
       "       'MortInsPerc', 'CoCreditScore', 'MortInsType', 'Channel_R',\n",
       "       'FTHomeBuyer_Y', 'LoanPurpose_R', 'OccStatus_P', 'default', 'pred'],\n",
       "      dtype='object')"
      ]
     },
     "execution_count": 380,
     "metadata": {},
     "output_type": "execute_result"
    }
   ],
   "source": [
    "x_train3.columns"
   ]
  },
  {
   "cell_type": "code",
   "execution_count": 381,
   "metadata": {},
   "outputs": [
    {
     "data": {
      "text/plain": [
       "Index(['OrInterestRate', 'OrUnpaidPrinc', 'NumBorrow', 'DTIRat', 'CreditScore',\n",
       "       'MortInsPerc', 'CoCreditScore', 'MortInsType', 'Channel_R',\n",
       "       'FTHomeBuyer_Y', 'LoanPurpose_R', 'OccStatus_P', 'default', 'pred'],\n",
       "      dtype='object')"
      ]
     },
     "execution_count": 381,
     "metadata": {},
     "output_type": "execute_result"
    }
   ],
   "source": [
    "x_test2.columns"
   ]
  },
  {
   "cell_type": "code",
   "execution_count": 382,
   "metadata": {},
   "outputs": [],
   "source": [
    "x_train4=x_train3.drop([\"pred\",\"default\"],axis=1).copy()\n",
    "x_test3=x_test2.drop([\"pred\",\"default\"],axis=1).copy()"
   ]
  },
  {
   "cell_type": "markdown",
   "metadata": {},
   "source": [
    "# Decision tree model"
   ]
  },
  {
   "cell_type": "code",
   "execution_count": 383,
   "metadata": {},
   "outputs": [
    {
     "data": {
      "text/plain": [
       "DecisionTreeClassifier(ccp_alpha=0.0, class_weight=None, criterion='gini',\n",
       "                       max_depth=None, max_features=None, max_leaf_nodes=None,\n",
       "                       min_impurity_decrease=0.0, min_impurity_split=None,\n",
       "                       min_samples_leaf=1, min_samples_split=2,\n",
       "                       min_weight_fraction_leaf=0.0, presort='deprecated',\n",
       "                       random_state=None, splitter='best')"
      ]
     },
     "execution_count": 383,
     "metadata": {},
     "output_type": "execute_result"
    }
   ],
   "source": [
    "from sklearn.tree import DecisionTreeClassifier\n",
    "dt=DecisionTreeClassifier()\n",
    "dt.fit(x_train4,y_train)"
   ]
  },
  {
   "cell_type": "code",
   "execution_count": 384,
   "metadata": {},
   "outputs": [
    {
     "data": {
      "text/plain": [
       "0.9999933002365017"
      ]
     },
     "execution_count": 384,
     "metadata": {},
     "output_type": "execute_result"
    }
   ],
   "source": [
    "dt.score(x_train4,y_train)"
   ]
  },
  {
   "cell_type": "code",
   "execution_count": 385,
   "metadata": {},
   "outputs": [
    {
     "data": {
      "text/plain": [
       "0.9372638349189334"
      ]
     },
     "execution_count": 385,
     "metadata": {},
     "output_type": "execute_result"
    }
   ],
   "source": [
    "dt.score(x_test3,y_test)"
   ]
  },
  {
   "cell_type": "code",
   "execution_count": 386,
   "metadata": {},
   "outputs": [
    {
     "data": {
      "text/plain": [
       "12"
      ]
     },
     "execution_count": 386,
     "metadata": {},
     "output_type": "execute_result"
    }
   ],
   "source": [
    "len(x_train4.columns)"
   ]
  },
  {
   "cell_type": "code",
   "execution_count": 387,
   "metadata": {},
   "outputs": [],
   "source": [
    "# to optimize the accuracy of a model, we can use hyperparameter tunning\n",
    "\n",
    "from sklearn.model_selection import GridSearchCV\n",
    "param_grid={\"max_depth\":np.arange(1,len(x_train4.columns))}\n"
   ]
  },
  {
   "cell_type": "code",
   "execution_count": 388,
   "metadata": {},
   "outputs": [
    {
     "data": {
      "text/plain": [
       "GridSearchCV(cv=10, error_score=nan,\n",
       "             estimator=DecisionTreeClassifier(ccp_alpha=0.0, class_weight=None,\n",
       "                                              criterion='gini', max_depth=None,\n",
       "                                              max_features=None,\n",
       "                                              max_leaf_nodes=None,\n",
       "                                              min_impurity_decrease=0.0,\n",
       "                                              min_impurity_split=None,\n",
       "                                              min_samples_leaf=1,\n",
       "                                              min_samples_split=2,\n",
       "                                              min_weight_fraction_leaf=0.0,\n",
       "                                              presort='deprecated',\n",
       "                                              random_state=None,\n",
       "                                              splitter='best'),\n",
       "             iid='deprecated', n_jobs=None,\n",
       "             param_grid={'max_depth': array([ 1,  2,  3,  4,  5,  6,  7,  8,  9, 10, 11])},\n",
       "             pre_dispatch='2*n_jobs', refit=True, return_train_score=False,\n",
       "             scoring=None, verbose=0)"
      ]
     },
     "execution_count": 388,
     "metadata": {},
     "output_type": "execute_result"
    }
   ],
   "source": [
    "from sklearn.tree import DecisionTreeClassifier\n",
    "tree=GridSearchCV(DecisionTreeClassifier(),param_grid,cv=10)\n",
    "tree.fit(x_train4,y_train)"
   ]
  },
  {
   "cell_type": "code",
   "execution_count": 389,
   "metadata": {},
   "outputs": [
    {
     "data": {
      "text/plain": [
       "DecisionTreeClassifier(ccp_alpha=0.0, class_weight=None, criterion='gini',\n",
       "                       max_depth=11, max_features=None, max_leaf_nodes=None,\n",
       "                       min_impurity_decrease=0.0, min_impurity_split=None,\n",
       "                       min_samples_leaf=1, min_samples_split=2,\n",
       "                       min_weight_fraction_leaf=0.0, presort='deprecated',\n",
       "                       random_state=None, splitter='best')"
      ]
     },
     "execution_count": 389,
     "metadata": {},
     "output_type": "execute_result"
    }
   ],
   "source": [
    "tree.best_estimator_"
   ]
  },
  {
   "cell_type": "code",
   "execution_count": 390,
   "metadata": {},
   "outputs": [
    {
     "data": {
      "text/plain": [
       "0.960993976912615"
      ]
     },
     "execution_count": 390,
     "metadata": {},
     "output_type": "execute_result"
    }
   ],
   "source": [
    "tree.score(x_train4,y_train)\n"
   ]
  },
  {
   "cell_type": "code",
   "execution_count": 391,
   "metadata": {},
   "outputs": [
    {
     "data": {
      "text/plain": [
       "0.9536647460806646"
      ]
     },
     "execution_count": 391,
     "metadata": {},
     "output_type": "execute_result"
    }
   ],
   "source": [
    "tree.score(x_test3,y_test)"
   ]
  },
  {
   "cell_type": "code",
   "execution_count": 392,
   "metadata": {},
   "outputs": [
    {
     "data": {
      "text/plain": [
       "DecisionTreeClassifier(ccp_alpha=0.0, class_weight=None, criterion='gini',\n",
       "                       max_depth=11, max_features=None, max_leaf_nodes=None,\n",
       "                       min_impurity_decrease=0.0, min_impurity_split=None,\n",
       "                       min_samples_leaf=1, min_samples_split=2,\n",
       "                       min_weight_fraction_leaf=0.0, presort='deprecated',\n",
       "                       random_state=None, splitter='best')"
      ]
     },
     "execution_count": 392,
     "metadata": {},
     "output_type": "execute_result"
    }
   ],
   "source": [
    "from sklearn.tree import DecisionTreeClassifier\n",
    "dt1=DecisionTreeClassifier(max_depth=11)\n",
    "dt1.fit(x_train4,y_train)"
   ]
  },
  {
   "cell_type": "code",
   "execution_count": 395,
   "metadata": {},
   "outputs": [],
   "source": [
    "train_pred=dt1.predict_proba(x_train4)[::,1]"
   ]
  },
  {
   "cell_type": "code",
   "execution_count": 396,
   "metadata": {},
   "outputs": [
    {
     "data": {
      "text/plain": [
       "1.0"
      ]
     },
     "execution_count": 396,
     "metadata": {},
     "output_type": "execute_result"
    }
   ],
   "source": [
    "train_pred.max()"
   ]
  },
  {
   "cell_type": "code",
   "execution_count": 397,
   "metadata": {},
   "outputs": [
    {
     "data": {
      "text/plain": [
       "0.0"
      ]
     },
     "execution_count": 397,
     "metadata": {},
     "output_type": "execute_result"
    }
   ],
   "source": [
    "train_pred.min()"
   ]
  },
  {
   "cell_type": "code",
   "execution_count": 399,
   "metadata": {},
   "outputs": [],
   "source": [
    "test_pred=dt1.predict_proba(x_test3)[::,1]"
   ]
  },
  {
   "cell_type": "code",
   "execution_count": 398,
   "metadata": {},
   "outputs": [
    {
     "data": {
      "text/plain": [
       "0.9676602244561624"
      ]
     },
     "execution_count": 398,
     "metadata": {},
     "output_type": "execute_result"
    }
   ],
   "source": [
    "from sklearn.metrics import roc_auc_score\n",
    "roc_auc_score(y_train,train_pred)"
   ]
  },
  {
   "cell_type": "code",
   "execution_count": 400,
   "metadata": {},
   "outputs": [
    {
     "data": {
      "text/plain": [
       "0.9470407000961298"
      ]
     },
     "execution_count": 400,
     "metadata": {},
     "output_type": "execute_result"
    }
   ],
   "source": [
    "from sklearn.metrics import roc_auc_score\n",
    "roc_auc_score(y_test,test_pred)"
   ]
  },
  {
   "cell_type": "code",
   "execution_count": 402,
   "metadata": {},
   "outputs": [
    {
     "data": {
      "image/png": "[encoded data removed]",
      "text/plain": [
       "<Figure size 432x288 with 1 Axes>"
      ]
     },
     "metadata": {
      "needs_background": "light"
     },
     "output_type": "display_data"
    },
    {
     "data": {
      "text/plain": [
       "0.9470407000961298"
      ]
     },
     "execution_count": 402,
     "metadata": {},
     "output_type": "execute_result"
    }
   ],
   "source": [
    "######ROC AND AUC For Fiber bits model #########\n",
    "###for visualising the plots use matplotlib and import roc_curve,auc from sklearn.metrics \n",
    "from sklearn.metrics import roc_curve, auc\n",
    "import matplotlib.pyplot as plt\n",
    "\n",
    "actual = y_test\n",
    "predicted_values1=test_pred\n",
    "false_positive_rate, true_positive_rate, thresholds = roc_curve(actual, predicted_values1)\n",
    "plt.title('Receiver Operating Characteristic')\n",
    "plt.plot(false_positive_rate, true_positive_rate)\n",
    "plt.plot([0,1],[0,1],'r--')\n",
    "plt.xlim([-0.1,1.2])\n",
    "plt.ylim([-0.1,1.2])\n",
    "plt.ylabel('True Positive Rate(Sensitivity)')\n",
    "plt.xlabel('False Positive Rate(Specificity)')\n",
    "plt.show()\n",
    "\n",
    "###Area under Curve-AUC\n",
    "roc_auc = auc(false_positive_rate, true_positive_rate)\n",
    "roc_auc"
   ]
  },
  {
   "cell_type": "code",
   "execution_count": 403,
   "metadata": {},
   "outputs": [
    {
     "data": {
      "text/plain": [
       "Index(['OrInterestRate', 'OrUnpaidPrinc', 'NumBorrow', 'DTIRat', 'CreditScore',\n",
       "       'MortInsPerc', 'CoCreditScore', 'MortInsType', 'Channel_R',\n",
       "       'FTHomeBuyer_Y', 'LoanPurpose_R', 'OccStatus_P'],\n",
       "      dtype='object')"
      ]
     },
     "execution_count": 403,
     "metadata": {},
     "output_type": "execute_result"
    }
   ],
   "source": [
    "x_train4.columns"
   ]
  },
  {
   "cell_type": "code",
   "execution_count": 404,
   "metadata": {},
   "outputs": [
    {
     "data": {
      "text/plain": [
       "Index(['OrInterestRate', 'OrUnpaidPrinc', 'NumBorrow', 'DTIRat', 'CreditScore',\n",
       "       'MortInsPerc', 'CoCreditScore', 'MortInsType', 'Channel_R',\n",
       "       'FTHomeBuyer_Y', 'LoanPurpose_R', 'OccStatus_P', 'default', 'pred'],\n",
       "      dtype='object')"
      ]
     },
     "execution_count": 404,
     "metadata": {},
     "output_type": "execute_result"
    }
   ],
   "source": [
    "x_train3.columns"
   ]
  },
  {
   "cell_type": "code",
   "execution_count": 405,
   "metadata": {},
   "outputs": [],
   "source": [
    "x_train3[\"pred\"]=dt1.predict_proba(x_train4)[::,1]"
   ]
  },
  {
   "cell_type": "code",
   "execution_count": 406,
   "metadata": {},
   "outputs": [
    {
     "data": {
      "text/html": [
       "<div>\n",
       "<style scoped>\n",
       "    .dataframe tbody tr th:only-of-type {\n",
       "        vertical-align: middle;\n",
       "    }\n",
       "\n",
       "    .dataframe tbody tr th {\n",
       "        vertical-align: top;\n",
       "    }\n",
       "\n",
       "    .dataframe thead th {\n",
       "        text-align: right;\n",
       "    }\n",
       "</style>\n",
       "<table border=\"1\" class=\"dataframe\">\n",
       "  <thead>\n",
       "    <tr style=\"text-align: right;\">\n",
       "      <th></th>\n",
       "      <th>OrInterestRate</th>\n",
       "      <th>OrUnpaidPrinc</th>\n",
       "      <th>NumBorrow</th>\n",
       "      <th>DTIRat</th>\n",
       "      <th>CreditScore</th>\n",
       "      <th>MortInsPerc</th>\n",
       "      <th>CoCreditScore</th>\n",
       "      <th>MortInsType</th>\n",
       "      <th>Channel_R</th>\n",
       "      <th>FTHomeBuyer_Y</th>\n",
       "      <th>LoanPurpose_R</th>\n",
       "      <th>OccStatus_P</th>\n",
       "      <th>default</th>\n",
       "      <th>pred</th>\n",
       "    </tr>\n",
       "  </thead>\n",
       "  <tbody>\n",
       "    <tr>\n",
       "      <th>62954</th>\n",
       "      <td>6.375</td>\n",
       "      <td>148000</td>\n",
       "      <td>2.0</td>\n",
       "      <td>30.0</td>\n",
       "      <td>603.0</td>\n",
       "      <td>8.566629</td>\n",
       "      <td>589.000000</td>\n",
       "      <td>1.012632</td>\n",
       "      <td>0</td>\n",
       "      <td>0</td>\n",
       "      <td>0</td>\n",
       "      <td>1</td>\n",
       "      <td>0</td>\n",
       "      <td>0.017544</td>\n",
       "    </tr>\n",
       "    <tr>\n",
       "      <th>33959</th>\n",
       "      <td>6.875</td>\n",
       "      <td>122000</td>\n",
       "      <td>2.0</td>\n",
       "      <td>50.0</td>\n",
       "      <td>702.0</td>\n",
       "      <td>10.678711</td>\n",
       "      <td>702.000000</td>\n",
       "      <td>1.024266</td>\n",
       "      <td>0</td>\n",
       "      <td>0</td>\n",
       "      <td>0</td>\n",
       "      <td>0</td>\n",
       "      <td>0</td>\n",
       "      <td>0.014493</td>\n",
       "    </tr>\n",
       "    <tr>\n",
       "      <th>128744</th>\n",
       "      <td>6.750</td>\n",
       "      <td>133000</td>\n",
       "      <td>1.0</td>\n",
       "      <td>37.0</td>\n",
       "      <td>647.0</td>\n",
       "      <td>30.000000</td>\n",
       "      <td>696.095799</td>\n",
       "      <td>1.000000</td>\n",
       "      <td>0</td>\n",
       "      <td>0</td>\n",
       "      <td>0</td>\n",
       "      <td>1</td>\n",
       "      <td>1</td>\n",
       "      <td>0.777778</td>\n",
       "    </tr>\n",
       "    <tr>\n",
       "      <th>53425</th>\n",
       "      <td>6.875</td>\n",
       "      <td>53000</td>\n",
       "      <td>1.0</td>\n",
       "      <td>41.0</td>\n",
       "      <td>805.0</td>\n",
       "      <td>9.722619</td>\n",
       "      <td>755.124617</td>\n",
       "      <td>0.990392</td>\n",
       "      <td>1</td>\n",
       "      <td>0</td>\n",
       "      <td>0</td>\n",
       "      <td>0</td>\n",
       "      <td>0</td>\n",
       "      <td>0.000188</td>\n",
       "    </tr>\n",
       "    <tr>\n",
       "      <th>260687</th>\n",
       "      <td>6.125</td>\n",
       "      <td>208000</td>\n",
       "      <td>1.0</td>\n",
       "      <td>34.0</td>\n",
       "      <td>668.0</td>\n",
       "      <td>25.000000</td>\n",
       "      <td>707.610664</td>\n",
       "      <td>1.000000</td>\n",
       "      <td>1</td>\n",
       "      <td>0</td>\n",
       "      <td>1</td>\n",
       "      <td>1</td>\n",
       "      <td>0</td>\n",
       "      <td>0.000000</td>\n",
       "    </tr>\n",
       "  </tbody>\n",
       "</table>\n",
       "</div>"
      ],
      "text/plain": [
       "        OrInterestRate  OrUnpaidPrinc  NumBorrow  DTIRat  CreditScore  \\\n",
       "62954            6.375         148000        2.0    30.0        603.0   \n",
       "33959            6.875         122000        2.0    50.0        702.0   \n",
       "128744           6.750         133000        1.0    37.0        647.0   \n",
       "53425            6.875          53000        1.0    41.0        805.0   \n",
       "260687           6.125         208000        1.0    34.0        668.0   \n",
       "\n",
       "        MortInsPerc  CoCreditScore  MortInsType  Channel_R  FTHomeBuyer_Y  \\\n",
       "62954      8.566629     589.000000     1.012632          0              0   \n",
       "33959     10.678711     702.000000     1.024266          0              0   \n",
       "128744    30.000000     696.095799     1.000000          0              0   \n",
       "53425      9.722619     755.124617     0.990392          1              0   \n",
       "260687    25.000000     707.610664     1.000000          1              0   \n",
       "\n",
       "        LoanPurpose_R  OccStatus_P  default      pred  \n",
       "62954               0            1        0  0.017544  \n",
       "33959               0            0        0  0.014493  \n",
       "128744              0            1        1  0.777778  \n",
       "53425               0            0        0  0.000188  \n",
       "260687              1            1        0  0.000000  "
      ]
     },
     "execution_count": 406,
     "metadata": {},
     "output_type": "execute_result"
    }
   ],
   "source": [
    "x_train3.head()"
   ]
  },
  {
   "cell_type": "code",
   "execution_count": 409,
   "metadata": {},
   "outputs": [
    {
     "data": {
      "text/html": [
       "<div>\n",
       "<style scoped>\n",
       "    .dataframe tbody tr th:only-of-type {\n",
       "        vertical-align: middle;\n",
       "    }\n",
       "\n",
       "    .dataframe tbody tr th {\n",
       "        vertical-align: top;\n",
       "    }\n",
       "\n",
       "    .dataframe thead th {\n",
       "        text-align: right;\n",
       "    }\n",
       "</style>\n",
       "<table border=\"1\" class=\"dataframe\">\n",
       "  <thead>\n",
       "    <tr style=\"text-align: right;\">\n",
       "      <th></th>\n",
       "      <th>OrInterestRate</th>\n",
       "      <th>OrUnpaidPrinc</th>\n",
       "      <th>NumBorrow</th>\n",
       "      <th>DTIRat</th>\n",
       "      <th>CreditScore</th>\n",
       "      <th>MortInsPerc</th>\n",
       "      <th>CoCreditScore</th>\n",
       "      <th>MortInsType</th>\n",
       "      <th>Channel_R</th>\n",
       "      <th>FTHomeBuyer_Y</th>\n",
       "      <th>LoanPurpose_R</th>\n",
       "      <th>OccStatus_P</th>\n",
       "      <th>default</th>\n",
       "      <th>pred</th>\n",
       "    </tr>\n",
       "  </thead>\n",
       "  <tbody>\n",
       "    <tr>\n",
       "      <th>0</th>\n",
       "      <td>6.875</td>\n",
       "      <td>122000</td>\n",
       "      <td>2.0</td>\n",
       "      <td>55.0</td>\n",
       "      <td>627.0</td>\n",
       "      <td>25.000000</td>\n",
       "      <td>699.930530</td>\n",
       "      <td>1.000000</td>\n",
       "      <td>0</td>\n",
       "      <td>1</td>\n",
       "      <td>0</td>\n",
       "      <td>1</td>\n",
       "      <td>1</td>\n",
       "      <td>1.0</td>\n",
       "    </tr>\n",
       "    <tr>\n",
       "      <th>1</th>\n",
       "      <td>6.750</td>\n",
       "      <td>235000</td>\n",
       "      <td>1.0</td>\n",
       "      <td>62.0</td>\n",
       "      <td>602.0</td>\n",
       "      <td>30.000000</td>\n",
       "      <td>695.003103</td>\n",
       "      <td>1.000000</td>\n",
       "      <td>1</td>\n",
       "      <td>1</td>\n",
       "      <td>0</td>\n",
       "      <td>1</td>\n",
       "      <td>1</td>\n",
       "      <td>1.0</td>\n",
       "    </tr>\n",
       "    <tr>\n",
       "      <th>2</th>\n",
       "      <td>6.250</td>\n",
       "      <td>132000</td>\n",
       "      <td>1.0</td>\n",
       "      <td>37.0</td>\n",
       "      <td>793.0</td>\n",
       "      <td>10.866982</td>\n",
       "      <td>676.356819</td>\n",
       "      <td>1.128483</td>\n",
       "      <td>0</td>\n",
       "      <td>0</td>\n",
       "      <td>0</td>\n",
       "      <td>1</td>\n",
       "      <td>1</td>\n",
       "      <td>1.0</td>\n",
       "    </tr>\n",
       "    <tr>\n",
       "      <th>3</th>\n",
       "      <td>7.125</td>\n",
       "      <td>189000</td>\n",
       "      <td>1.0</td>\n",
       "      <td>41.0</td>\n",
       "      <td>656.0</td>\n",
       "      <td>25.000000</td>\n",
       "      <td>684.557240</td>\n",
       "      <td>1.000000</td>\n",
       "      <td>0</td>\n",
       "      <td>0</td>\n",
       "      <td>1</td>\n",
       "      <td>1</td>\n",
       "      <td>1</td>\n",
       "      <td>1.0</td>\n",
       "    </tr>\n",
       "    <tr>\n",
       "      <th>4</th>\n",
       "      <td>6.500</td>\n",
       "      <td>147000</td>\n",
       "      <td>1.0</td>\n",
       "      <td>49.0</td>\n",
       "      <td>724.0</td>\n",
       "      <td>-2.794568</td>\n",
       "      <td>690.977778</td>\n",
       "      <td>1.066775</td>\n",
       "      <td>0</td>\n",
       "      <td>0</td>\n",
       "      <td>1</td>\n",
       "      <td>1</td>\n",
       "      <td>1</td>\n",
       "      <td>1.0</td>\n",
       "    </tr>\n",
       "  </tbody>\n",
       "</table>\n",
       "</div>"
      ],
      "text/plain": [
       "   OrInterestRate  OrUnpaidPrinc  NumBorrow  DTIRat  CreditScore  MortInsPerc  \\\n",
       "0           6.875         122000        2.0    55.0        627.0    25.000000   \n",
       "1           6.750         235000        1.0    62.0        602.0    30.000000   \n",
       "2           6.250         132000        1.0    37.0        793.0    10.866982   \n",
       "3           7.125         189000        1.0    41.0        656.0    25.000000   \n",
       "4           6.500         147000        1.0    49.0        724.0    -2.794568   \n",
       "\n",
       "   CoCreditScore  MortInsType  Channel_R  FTHomeBuyer_Y  LoanPurpose_R  \\\n",
       "0     699.930530     1.000000          0              1              0   \n",
       "1     695.003103     1.000000          1              1              0   \n",
       "2     676.356819     1.128483          0              0              0   \n",
       "3     684.557240     1.000000          0              0              1   \n",
       "4     690.977778     1.066775          0              0              1   \n",
       "\n",
       "   OccStatus_P  default  pred  \n",
       "0            1        1   1.0  \n",
       "1            1        1   1.0  \n",
       "2            1        1   1.0  \n",
       "3            1        1   1.0  \n",
       "4            1        1   1.0  "
      ]
     },
     "execution_count": 409,
     "metadata": {},
     "output_type": "execute_result"
    }
   ],
   "source": [
    "x_train5=x_train3.sort_values(\"pred\",ascending=False).reset_index().drop([\"index\"],axis=1)\n",
    "x_train5.head()"
   ]
  },
  {
   "cell_type": "code",
   "execution_count": 410,
   "metadata": {
    "scrolled": true
   },
   "outputs": [
    {
     "ename": "ValueError",
     "evalue": "Bin edges must be unique: array([0.00000000e+00, 0.00000000e+00, 0.00000000e+00, 1.87617261e-04,\n       2.14951039e-03, 5.04201681e-03, 2.43902439e-02, 4.90666667e-02,\n       9.32642487e-02, 2.80120482e-01, 1.00000000e+00]).\nYou can drop duplicate edges by setting the 'duplicates' kwarg",
     "output_type": "error",
     "traceback": [
      "\u001b[1;31m---------------------------------------------------------------------------\u001b[0m",
      "\u001b[1;31mValueError\u001b[0m                                Traceback (most recent call last)",
      "\u001b[1;32m<ipython-input-410-aa01d7980ce5>\u001b[0m in \u001b[0;36m<module>\u001b[1;34m\u001b[0m\n\u001b[1;32m----> 1\u001b[1;33m \u001b[0mpd\u001b[0m\u001b[1;33m.\u001b[0m\u001b[0mcrosstab\u001b[0m\u001b[1;33m(\u001b[0m\u001b[0mpd\u001b[0m\u001b[1;33m.\u001b[0m\u001b[0mqcut\u001b[0m\u001b[1;33m(\u001b[0m\u001b[0mx_train5\u001b[0m\u001b[1;33m[\u001b[0m\u001b[1;34m\"pred\"\u001b[0m\u001b[1;33m]\u001b[0m\u001b[1;33m,\u001b[0m\u001b[0mq\u001b[0m\u001b[1;33m=\u001b[0m\u001b[1;36m10\u001b[0m\u001b[1;33m)\u001b[0m\u001b[1;33m,\u001b[0m\u001b[0mx_train5\u001b[0m\u001b[1;33m[\u001b[0m\u001b[1;34m\"default\"\u001b[0m\u001b[1;33m]\u001b[0m\u001b[1;33m)\u001b[0m\u001b[1;33m\u001b[0m\u001b[0m\n\u001b[0m",
      "\u001b[1;32m~\\Anaconda3\\lib\\site-packages\\pandas\\core\\reshape\\tile.py\u001b[0m in \u001b[0;36mqcut\u001b[1;34m(x, q, labels, retbins, precision, duplicates)\u001b[0m\n\u001b[0;32m    347\u001b[0m         \u001b[0minclude_lowest\u001b[0m\u001b[1;33m=\u001b[0m\u001b[1;32mTrue\u001b[0m\u001b[1;33m,\u001b[0m\u001b[1;33m\u001b[0m\u001b[0m\n\u001b[0;32m    348\u001b[0m         \u001b[0mdtype\u001b[0m\u001b[1;33m=\u001b[0m\u001b[0mdtype\u001b[0m\u001b[1;33m,\u001b[0m\u001b[1;33m\u001b[0m\u001b[0m\n\u001b[1;32m--> 349\u001b[1;33m         \u001b[0mduplicates\u001b[0m\u001b[1;33m=\u001b[0m\u001b[0mduplicates\u001b[0m\u001b[1;33m,\u001b[0m\u001b[1;33m\u001b[0m\u001b[0m\n\u001b[0m\u001b[0;32m    350\u001b[0m     )\n\u001b[0;32m    351\u001b[0m \u001b[1;33m\u001b[0m\u001b[0m\n",
      "\u001b[1;32m~\\Anaconda3\\lib\\site-packages\\pandas\\core\\reshape\\tile.py\u001b[0m in \u001b[0;36m_bins_to_cuts\u001b[1;34m(x, bins, right, labels, precision, include_lowest, dtype, duplicates)\u001b[0m\n\u001b[0;32m    385\u001b[0m                 \u001b[1;34m\"Bin edges must be unique: {bins!r}.\\nYou \"\u001b[0m\u001b[1;33m\u001b[0m\u001b[0m\n\u001b[0;32m    386\u001b[0m                 \u001b[1;34m\"can drop duplicate edges by setting \"\u001b[0m\u001b[1;33m\u001b[0m\u001b[0m\n\u001b[1;32m--> 387\u001b[1;33m                 \u001b[1;34m\"the 'duplicates' kwarg\"\u001b[0m\u001b[1;33m.\u001b[0m\u001b[0mformat\u001b[0m\u001b[1;33m(\u001b[0m\u001b[0mbins\u001b[0m\u001b[1;33m=\u001b[0m\u001b[0mbins\u001b[0m\u001b[1;33m)\u001b[0m\u001b[1;33m\u001b[0m\u001b[0m\n\u001b[0m\u001b[0;32m    388\u001b[0m             )\n\u001b[0;32m    389\u001b[0m         \u001b[1;32melse\u001b[0m\u001b[1;33m:\u001b[0m\u001b[1;33m\u001b[0m\u001b[0m\n",
      "\u001b[1;31mValueError\u001b[0m: Bin edges must be unique: array([0.00000000e+00, 0.00000000e+00, 0.00000000e+00, 1.87617261e-04,\n       2.14951039e-03, 5.04201681e-03, 2.43902439e-02, 4.90666667e-02,\n       9.32642487e-02, 2.80120482e-01, 1.00000000e+00]).\nYou can drop duplicate edges by setting the 'duplicates' kwarg"
     ]
    }
   ],
   "source": [
    "pd.crosstab(pd.qcut(x_train5[\"pred\"],q=10),x_train5[\"default\"])"
   ]
  },
  {
   "cell_type": "code",
   "execution_count": 411,
   "metadata": {},
   "outputs": [
    {
     "data": {
      "text/plain": [
       "(149259, 14)"
      ]
     },
     "execution_count": 411,
     "metadata": {},
     "output_type": "execute_result"
    }
   ],
   "source": [
    "x_train5.shape"
   ]
  },
  {
   "cell_type": "code",
   "execution_count": 412,
   "metadata": {},
   "outputs": [
    {
     "data": {
      "text/plain": [
       "[(-0.001, 14925.8], (-0.001, 14925.8], (-0.001, 14925.8], (-0.001, 14925.8], (-0.001, 14925.8], ..., (134332.2, 149258.0], (134332.2, 149258.0], (134332.2, 149258.0], (134332.2, 149258.0], (134332.2, 149258.0]]\n",
       "Length: 149259\n",
       "Categories (10, interval[float64]): [(-0.001, 14925.8] < (14925.8, 29851.6] < (29851.6, 44777.4] < (44777.4, 59703.2] ... (89554.8, 104480.6] < (104480.6, 119406.4] < (119406.4, 134332.2] < (134332.2, 149258.0]]"
      ]
     },
     "execution_count": 412,
     "metadata": {},
     "output_type": "execute_result"
    }
   ],
   "source": [
    "pd.qcut(x_train5.index,q=10)"
   ]
  },
  {
   "cell_type": "code",
   "execution_count": 413,
   "metadata": {},
   "outputs": [
    {
     "data": {
      "text/html": [
       "<div>\n",
       "<style scoped>\n",
       "    .dataframe tbody tr th:only-of-type {\n",
       "        vertical-align: middle;\n",
       "    }\n",
       "\n",
       "    .dataframe tbody tr th {\n",
       "        vertical-align: top;\n",
       "    }\n",
       "\n",
       "    .dataframe thead th {\n",
       "        text-align: right;\n",
       "    }\n",
       "</style>\n",
       "<table border=\"1\" class=\"dataframe\">\n",
       "  <thead>\n",
       "    <tr style=\"text-align: right;\">\n",
       "      <th>default</th>\n",
       "      <th>0</th>\n",
       "      <th>1</th>\n",
       "    </tr>\n",
       "    <tr>\n",
       "      <th>row_0</th>\n",
       "      <th></th>\n",
       "      <th></th>\n",
       "    </tr>\n",
       "  </thead>\n",
       "  <tbody>\n",
       "    <tr>\n",
       "      <th>(-0.001, 14925.8]</th>\n",
       "      <td>1954</td>\n",
       "      <td>12972</td>\n",
       "    </tr>\n",
       "    <tr>\n",
       "      <th>(14925.8, 29851.6]</th>\n",
       "      <td>12315</td>\n",
       "      <td>2611</td>\n",
       "    </tr>\n",
       "    <tr>\n",
       "      <th>(29851.6, 44777.4]</th>\n",
       "      <td>13750</td>\n",
       "      <td>1176</td>\n",
       "    </tr>\n",
       "    <tr>\n",
       "      <th>(44777.4, 59703.2]</th>\n",
       "      <td>14402</td>\n",
       "      <td>524</td>\n",
       "    </tr>\n",
       "    <tr>\n",
       "      <th>(59703.2, 74629.0]</th>\n",
       "      <td>14746</td>\n",
       "      <td>180</td>\n",
       "    </tr>\n",
       "    <tr>\n",
       "      <th>(74629.0, 89554.8]</th>\n",
       "      <td>14872</td>\n",
       "      <td>53</td>\n",
       "    </tr>\n",
       "    <tr>\n",
       "      <th>(89554.8, 104480.6]</th>\n",
       "      <td>14904</td>\n",
       "      <td>22</td>\n",
       "    </tr>\n",
       "    <tr>\n",
       "      <th>(104480.6, 119406.4]</th>\n",
       "      <td>14926</td>\n",
       "      <td>0</td>\n",
       "    </tr>\n",
       "    <tr>\n",
       "      <th>(119406.4, 134332.2]</th>\n",
       "      <td>14926</td>\n",
       "      <td>0</td>\n",
       "    </tr>\n",
       "    <tr>\n",
       "      <th>(134332.2, 149258.0]</th>\n",
       "      <td>14926</td>\n",
       "      <td>0</td>\n",
       "    </tr>\n",
       "  </tbody>\n",
       "</table>\n",
       "</div>"
      ],
      "text/plain": [
       "default                   0      1\n",
       "row_0                             \n",
       "(-0.001, 14925.8]      1954  12972\n",
       "(14925.8, 29851.6]    12315   2611\n",
       "(29851.6, 44777.4]    13750   1176\n",
       "(44777.4, 59703.2]    14402    524\n",
       "(59703.2, 74629.0]    14746    180\n",
       "(74629.0, 89554.8]    14872     53\n",
       "(89554.8, 104480.6]   14904     22\n",
       "(104480.6, 119406.4]  14926      0\n",
       "(119406.4, 134332.2]  14926      0\n",
       "(134332.2, 149258.0]  14926      0"
      ]
     },
     "execution_count": 413,
     "metadata": {},
     "output_type": "execute_result"
    }
   ],
   "source": [
    "pd.crosstab(pd.qcut(x_train5.index,q=10),x_train5[\"default\"])"
   ]
  },
  {
   "cell_type": "code",
   "execution_count": null,
   "metadata": {},
   "outputs": [],
   "source": []
  }
 ],
 "metadata": {
  "kernelspec": {
   "display_name": "Python 3",
   "language": "python",
   "name": "python3"
  },
  "language_info": {
   "codemirror_mode": {
    "name": "ipython",
    "version": 3
   },
   "file_extension": ".py",
   "mimetype": "text/x-python",
   "name": "python",
   "nbconvert_exporter": "python",
   "pygments_lexer": "ipython3",
   "version": "3.7.4"
  }
 },
 "nbformat": 4,
 "nbformat_minor": 2
}
